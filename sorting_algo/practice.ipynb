{
 "cells": [
  {
   "cell_type": "markdown",
   "metadata": {},
   "source": [
    "Bubble Sort"
   ]
  },
  {
   "cell_type": "code",
   "execution_count": 37,
   "metadata": {},
   "outputs": [],
   "source": [
    "def  BubbleSort(arr):\n",
    "    for j in range(len(arr)):\n",
    "        \n",
    "        # using this to break loop asap sorting is done\n",
    "        sortedd = True\n",
    "        for i in range(len(arr)):\n",
    "            if (i+1) < len(arr):\n",
    "                if arr[i] > arr[i+1]:\n",
    "                    sortedd = False\n",
    "                    # inverting values\n",
    "                    arr[i], arr[i+1] = arr[i+1], arr[i]\n",
    "        \n",
    "        if sortedd == True:\n",
    "            return arr\n",
    "\n",
    "        print(arr)\n",
    "        \n",
    "    return arr\n",
    "\n"
   ]
  },
  {
   "cell_type": "code",
   "execution_count": 38,
   "metadata": {},
   "outputs": [
    {
     "name": "stdout",
     "output_type": "stream",
     "text": [
      "[5, 3, 1, 2, 8, 4, 7, 6, 9]\n",
      "[3, 1, 2, 5, 4, 7, 6, 8, 9]\n",
      "[1, 2, 3, 4, 5, 6, 7, 8, 9]\n"
     ]
    },
    {
     "data": {
      "text/plain": [
       "[1, 2, 3, 4, 5, 6, 7, 8, 9]"
      ]
     },
     "execution_count": 38,
     "metadata": {},
     "output_type": "execute_result"
    }
   ],
   "source": [
    "arr = [5, 9, 3, 1, 2, 8, 4, 7, 6]\n",
    "BubbleSort(arr)"
   ]
  },
  {
   "cell_type": "markdown",
   "metadata": {},
   "source": [
    "Selection Sort"
   ]
  },
  {
   "cell_type": "code",
   "execution_count": 39,
   "metadata": {},
   "outputs": [],
   "source": [
    "def SelectionSort(arr):\n",
    "    new_arr = []\n",
    "\n",
    "    for j in range(len(arr)):\n",
    "        min_value = arr[j]\n",
    "        # print(min_value)\n",
    "        # print('----')\n",
    "        for i in range(j, len(arr)):\n",
    "            if (i+1) < len(arr):\n",
    "                if min_value > arr[i+1]:\n",
    "                    # print(min_value, arr[i+1])\n",
    "                    # inverting values\n",
    "                    min_value, arr[i+1] = arr[i+1], min_value\n",
    "        # print(min_value)\n",
    "        arr[j] = min_value\n",
    "        \n",
    "    return arr"
   ]
  },
  {
   "cell_type": "code",
   "execution_count": 40,
   "metadata": {},
   "outputs": [
    {
     "name": "stdout",
     "output_type": "stream",
     "text": [
      "[0, 1, 2, 3, 4, 5, 6, 7, 8, 9, 10, 11, 12, 13, 14, 15, 16, 17, 18, 19, 20, 21, 22, 23, 24, 25, 26, 27, 28, 29, 30, 31, 32, 33, 34, 35, 36, 37, 38, 39, 40, 41, 42, 43, 44, 45, 46, 47, 48, 49]"
     ]
    }
   ],
   "source": [
    "arr = [9, 46, 25, 42, 0, 28, 49, 3, 30, 31, 14, 43, 44, 8, 20, 13, 10, 36, 7, 15, 5, 32, 18, 12, 21, 41, 27, 47, 4, 17, 35, 37, 16, 48, 40, 45, 24, 39, 2, 38, 11, 26, 34, 6, 1, 19, 23, 33, 22, 29]\n",
    "\n",
    "print(SelectionSort(arr), end=\"\")"
   ]
  },
  {
   "cell_type": "code",
   "execution_count": 41,
   "metadata": {},
   "outputs": [
    {
     "name": "stdout",
     "output_type": "stream",
     "text": [
      "[176, 33, 95, 152, 83, 27, 94, 161, 103, 139, 47, 4, 190, 157, 122, 163, 116, 155, 134, 159, 170, 183, 8, 55, 100, 65, 186, 40, 165, 174, 85, 189, 143, 49, 129, 115, 164, 54, 128, 142, 92, 88, 26, 90, 21, 87, 168, 51, 74, 39, 34, 60, 43, 45, 1, 24, 104, 196, 125, 126, 84, 70, 172, 121, 61, 119, 35, 194, 158, 48, 0, 19, 75, 46, 18, 53, 78, 188, 42, 68, 150, 56, 12, 108, 181, 10, 69, 185, 111, 123, 133, 178, 109, 195, 31, 179, 124, 23, 17, 191, 29, 20, 93, 52, 156, 77, 72, 44, 7, 146, 162, 62, 141, 151, 153, 66, 180, 71, 38, 32, 79, 73, 102, 137, 36, 98, 14, 41, 169, 138, 166, 147, 149, 2, 76, 131, 117, 9, 63, 182, 101, 198, 37, 25, 5, 130, 197, 50, 15, 99, 144, 64, 81, 67, 57, 136, 184, 3, 199, 173, 112, 97, 11, 132, 154, 167, 127, 140, 113, 86, 16, 135, 118, 13, 22, 59, 192, 107, 114, 120, 80, 105, 82, 148, 110, 171, 145, 89, 58, 193, 175, 6, 160, 96, 187, 30, 28, 177, 91, 106]"
     ]
    }
   ],
   "source": [
    "import random\n",
    " \n",
    "# using random.sample()\n",
    "# to generate random number list\n",
    "res = random.sample(range(0, 200), 200)\n",
    "print(res, end=\"\")"
   ]
  },
  {
   "cell_type": "code",
   "execution_count": 42,
   "metadata": {},
   "outputs": [
    {
     "name": "stdout",
     "output_type": "stream",
     "text": [
      "[0, 1, 2, 3, 4, 5, 6, 7, 8, 9, 10, 11, 12, 13, 14, 15, 16, 17, 18, 19, 20, 21, 22, 23, 24, 25, 26, 27, 28, 29, 30, 31, 32, 33, 34, 35, 36, 37, 38, 39, 40, 41, 42, 43, 44, 45, 46, 47, 48, 49, 50, 51, 52, 53, 54, 55, 56, 57, 58, 59, 60, 61, 62, 63, 64, 65, 66, 67, 68, 69, 70, 71, 72, 73, 74, 75, 76, 77, 78, 79, 80, 81, 82, 83, 84, 85, 86, 87, 88, 89, 90, 91, 92, 93, 94, 95, 96, 97, 98, 99, 100, 101, 102, 103, 104, 105, 106, 107, 108, 109, 110, 111, 112, 113, 114, 115, 116, 117, 118, 119, 120, 121, 122, 123, 124, 125, 126, 127, 128, 129, 130, 131, 132, 133, 134, 135, 136, 137, 138, 139, 140, 141, 142, 143, 144, 145, 146, 147, 148, 149, 150, 151, 152, 153, 154, 155, 156, 157, 158, 159, 160, 161, 162, 163, 164, 165, 166, 167, 168, 169, 170, 171, 172, 173, 174, 175, 176, 177, 178, 179, 180, 181, 182, 183, 184, 185, 186, 187, 188, 189, 190, 191, 192, 193, 194, 195, 196, 197, 198, 199]"
     ]
    }
   ],
   "source": [
    "print(SelectionSort(res), end=\"\")"
   ]
  },
  {
   "cell_type": "markdown",
   "metadata": {},
   "source": [
    "Insertion Sort"
   ]
  },
  {
   "cell_type": "code",
   "execution_count": 43,
   "metadata": {},
   "outputs": [],
   "source": [
    "def InsertionSort(arr):\n",
    "    for i in range(1, len(arr)):\n",
    "        j = i -1\n",
    "        while j >= 0 and i >= 0 and arr[j] > arr[i]:\n",
    "            arr[j], arr[i] = arr[i], arr[j]\n",
    "            j -= 1\n",
    "            i -= 1\n",
    "\n",
    "    return arr"
   ]
  },
  {
   "cell_type": "code",
   "execution_count": 44,
   "metadata": {},
   "outputs": [
    {
     "name": "stdout",
     "output_type": "stream",
     "text": [
      "[0, 1, 2, 3, 4, 5, 6, 7, 8, 9, 10, 11, 12, 13, 14, 15, 16, 17, 18, 19, 20, 21, 22, 23, 24, 25, 26, 27, 28, 29, 30, 31, 32, 33, 34, 35, 36, 37, 38, 39, 40, 41, 42, 43, 44, 45, 46, 47, 48, 49]"
     ]
    }
   ],
   "source": [
    "arr = [9, 46, 25, 42, 0, 28, 49, 3, 30, 31, 14, 43, 44, 8, 20, 13, 10, 36, 7, 15, 5, 32, 18, 12, 21, 41, 27, 47, 4, 17, 35, 37, 16, 48, 40, 45, 24, 39, 2, 38, 11, 26, 34, 6, 1, 19, 23, 33, 22, 29]\n",
    "\n",
    "print(InsertionSort(arr), end=\"\")"
   ]
  },
  {
   "cell_type": "markdown",
   "metadata": {},
   "source": [
    "Bucket Sort"
   ]
  },
  {
   "cell_type": "code",
   "execution_count": 45,
   "metadata": {},
   "outputs": [],
   "source": [
    "from math import ceil, sqrt\n",
    "\n",
    "def BucketSort(arr):\n",
    "\n",
    "    buckets_num = round(sqrt(len(arr)))\n",
    "    buckets = []\n",
    "\n",
    "    # creating empty buckets\n",
    "    for i in range(buckets_num):\n",
    "        buckets.append([])\n",
    "\n",
    "    # putting number in appropriate_bucket\n",
    "    for i in arr:\n",
    "        if i > 0:\n",
    "            appropriate_bucket = ceil(i * buckets_num / max(arr))\n",
    "            buckets[appropriate_bucket - 1].append(i)\n",
    "        if i == 0:\n",
    "            buckets[0].append(0)\n",
    "\n",
    "    # sorting each bucket individually by any sort algo\n",
    "    for i in buckets:\n",
    "        InsertionSort(i)\n",
    "\n",
    "    return sum(buckets, [])"
   ]
  },
  {
   "cell_type": "code",
   "execution_count": 46,
   "metadata": {},
   "outputs": [
    {
     "name": "stdout",
     "output_type": "stream",
     "text": [
      "[0, 1, 2, 3, 4, 5, 6, 7, 8, 9, 10, 11, 12, 13, 14, 15, 16, 17, 18, 19, 20, 21, 22, 23, 24, 25, 26, 27, 28, 29, 30, 31, 32, 33, 34, 35, 36, 37, 38, 39, 40, 41, 42, 43, 44, 45, 46, 47, 48, 49]"
     ]
    }
   ],
   "source": [
    "arr = [9, 46, 25, 42, 0, 28, 49, 3, 30, 31, 14, 43, 44, 8, 20, 13, 10, 36, 7, 15, 5, 32, 18, 12, 21, 41, 27, 47, 4, 17, 35, 37, 16, 48, 40, 45, 24, 39, 2, 38, 11, 26, 34, 6, 1, 19, 23, 33, 22, 29]\n",
    "\n",
    "print(BucketSort(arr), end=\"\")"
   ]
  }
 ],
 "metadata": {
  "kernelspec": {
   "display_name": "env",
   "language": "python",
   "name": "env"
  },
  "language_info": {
   "codemirror_mode": {
    "name": "ipython",
    "version": 3
   },
   "file_extension": ".py",
   "mimetype": "text/x-python",
   "name": "python",
   "nbconvert_exporter": "python",
   "pygments_lexer": "ipython3",
   "version": "3.10.5"
  },
  "orig_nbformat": 4,
  "vscode": {
   "interpreter": {
    "hash": "d4f3e11e2836f35932dc1a63fc1e1ad4837c0ab0c25aa80f2018a328ee87e0d8"
   }
  }
 },
 "nbformat": 4,
 "nbformat_minor": 2
}
