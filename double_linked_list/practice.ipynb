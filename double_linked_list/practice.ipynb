{
 "cells": [
  {
   "cell_type": "markdown",
   "metadata": {},
   "source": [
    "Double linked list\n",
    "\n",
    "Inspired by Linked list & circular Linked List\n",
    "\n",
    "Check that for any references"
   ]
  },
  {
   "cell_type": "code",
   "execution_count": 1,
   "metadata": {},
   "outputs": [],
   "source": [
    "# Node class with next n prev\n",
    "class Node:\n",
    "    def __init__(self, data):\n",
    "        # Assign data\n",
    "        self.data = data\n",
    "        # Initialize next as null\n",
    "        self.next = None\n",
    "        self.prev = None"
   ]
  },
  {
   "cell_type": "code",
   "execution_count": 2,
   "metadata": {},
   "outputs": [],
   "source": [
    "# DoubleLinkedList class contains a Node object\n",
    "class DoubleLinkedList:\n",
    "    \n",
    "    # initializing the head\n",
    "    def __init__(self):\n",
    "        self.head = None\n",
    "    \n",
    "    # function to insert first Node\n",
    "    def start(self, new_data):\n",
    "        if self.head == None:\n",
    "            # 1: Allocate the Node \n",
    "            # 2: Put in the data\n",
    "            new_node = Node(new_data)\n",
    "\n",
    "            new_node.next = None\n",
    "            new_node.prev = None\n",
    "\n",
    "            # 4. Move the head to point to new Node\n",
    "            self.head = new_node\n",
    "        else:\n",
    "            print('Already node(s) exist in DoubleLinkedList')\n",
    "\n",
    "\n",
    "    # function to insert a New node at the beginning \n",
    "    def insertBegin(self, new_data):\n",
    "        if self.head != None:\n",
    "            new_node = Node(new_data)\n",
    "\n",
    "            # since its now 1st Node prev will be None\n",
    "            new_node.prev = None\n",
    "            new_node.next = self.head\n",
    "\n",
    "            # initial 1st node prev will point to new 1st node\n",
    "            self.head.prev = new_node\n",
    "\n",
    "            # 4. Move the head to point to new Node\n",
    "            self.head = new_node\n",
    "\n",
    "    # insertAfter a specified location of DoubleLinkedList\n",
    "    def insertAfter(self, prev_node, new_data):\n",
    "        # 1. check if the given prev_node exists\n",
    "        if prev_node is None:\n",
    "            print(\"The given previous node must in DoubleLinkedList.\")\n",
    "            return\n",
    "\n",
    "        new_node = Node(new_data)\n",
    "\n",
    "        # Make next of new Node as next of prev_node\n",
    "        new_node.next = prev_node.next\n",
    "\n",
    "        # prev of new_node will point to prev_node\n",
    "        new_node.prev = prev_node\n",
    "\n",
    "        # node on right of insert location \n",
    "        # pointing prev of it to new_node\n",
    "        prev_node.next.prev = new_node\n",
    "\n",
    "        # make next of prev_node as new_node\n",
    "        prev_node.next = new_node\n",
    "\n",
    "\n",
    "    # insert at the end of DoubleLinkedList\n",
    "    def append(self, new_data):\n",
    "\n",
    "        new_node = Node(new_data)\n",
    "        \n",
    "        # traverse till the last node\n",
    "        # head will have starting node location hence loaded first\n",
    "        # as last node will have Null value in next\n",
    "        last = self.head\n",
    "        while last.next:\n",
    "            last = last.next\n",
    "        \n",
    "        # Change the next of last node\n",
    "        last.next = new_node\n",
    "        \n",
    "        # Make next of new Node as None (its at the end)\n",
    "        new_node.next = None\n",
    "        # prev of new_node will point to last node (end wali)\n",
    "        new_node.prev = last\n",
    "\n",
    "        # next of last node to point toward new last node ie, new_node\n",
    "        last.next = new_node\n",
    "\n",
    "    \n",
    "    def delete(self, node):\n",
    "        # delete the only Node present in Llist\n",
    "        if node == self.head and node.next == None:\n",
    "            self.head = None\n",
    "\n",
    "        # delete the 1st node of a long linked list\n",
    "        elif node == self.head and node.next != None:\n",
    "            self.head = node.next\n",
    "\n",
    "        # delete any given node including last node\n",
    "        elif node != self.head:\n",
    "            temp = self.head\n",
    "            while (temp):\n",
    "                # temp.next is next node\n",
    "                # temp is node previous to node needs to be deleted\n",
    "                if temp.next.data ==  node.data:\n",
    "                    # pointing temp to node next to deleted node\n",
    "                    temp.next = node.next\n",
    "                    break\n",
    "                temp = temp.next\n",
    "            return 'Not found, cannot Delete'\n",
    "        \n",
    "\n",
    "    # Utility function to print the DoubleLinkedList same as Llst\n",
    "    def printList(self):\n",
    "        temp = self.head\n",
    "        while (temp):\n",
    "            # print in 1 line with space\n",
    "            print(temp.data,end=\", \")\n",
    "            temp = temp.next\n",
    "\n",
    "            \n",
    "    # Utility function to  reverse print the DoubleLinkedList same as Llst\n",
    "    def printListReverse(self):\n",
    "        last = self.head\n",
    "        while (last):\n",
    "            if last.next == None:\n",
    "                break\n",
    "            last = last.next\n",
    "            \n",
    "        while last:\n",
    "            # print in 1 line with space\n",
    "            print(last.data,end=\", \")\n",
    "            last = last.prev\n",
    "\n",
    "\n",
    "    # get node \n",
    "    def getNode(self, value):\n",
    "        temp = self.head\n",
    "        while (temp):\n",
    "            if temp.data ==  value:\n",
    "                return temp\n",
    "            temp = temp.next\n",
    "            \n",
    "        return 'Not found'\n",
    "\n",
    "\n",
    "    # utility to check if the value exist in linked list\n",
    "    def searchList(self, value):\n",
    "        temp = self.head\n",
    "        while (temp):\n",
    "            if temp.data ==  value:\n",
    "                return 'found it', value\n",
    "            temp = temp.next\n",
    "            \n",
    "        return 'Not found'"
   ]
  },
  {
   "cell_type": "code",
   "execution_count": 3,
   "metadata": {},
   "outputs": [
    {
     "name": "stdout",
     "output_type": "stream",
     "text": [
      "4, "
     ]
    }
   ],
   "source": [
    "# Start with the empty list\n",
    "double_llst = DoubleLinkedList()\n",
    "\n",
    "double_llst.start(4)\n",
    "double_llst.printList()"
   ]
  },
  {
   "cell_type": "code",
   "execution_count": 4,
   "metadata": {},
   "outputs": [
    {
     "name": "stdout",
     "output_type": "stream",
     "text": [
      "Already node(s) exist in DoubleLinkedList\n",
      "4, "
     ]
    }
   ],
   "source": [
    "double_llst.start(23)\n",
    "double_llst.printList()"
   ]
  },
  {
   "cell_type": "code",
   "execution_count": 5,
   "metadata": {},
   "outputs": [
    {
     "name": "stdout",
     "output_type": "stream",
     "text": [
      "8, 4, "
     ]
    }
   ],
   "source": [
    "double_llst.insertBegin(8)\n",
    "double_llst.printList()"
   ]
  },
  {
   "cell_type": "code",
   "execution_count": 6,
   "metadata": {},
   "outputs": [
    {
     "name": "stdout",
     "output_type": "stream",
     "text": [
      "3, 8, 4, "
     ]
    }
   ],
   "source": [
    "double_llst.insertBegin(3)\n",
    "double_llst.printList()"
   ]
  },
  {
   "cell_type": "code",
   "execution_count": 7,
   "metadata": {},
   "outputs": [
    {
     "name": "stdout",
     "output_type": "stream",
     "text": [
      "3, 8, 15, 4, "
     ]
    }
   ],
   "source": [
    "double_llst.insertAfter(double_llst.getNode(8), 15)\n",
    "double_llst.printList()"
   ]
  },
  {
   "cell_type": "code",
   "execution_count": 8,
   "metadata": {},
   "outputs": [
    {
     "name": "stdout",
     "output_type": "stream",
     "text": [
      "4, 15, 8, 3, "
     ]
    }
   ],
   "source": [
    "double_llst.printListReverse()"
   ]
  },
  {
   "cell_type": "code",
   "execution_count": 9,
   "metadata": {},
   "outputs": [
    {
     "data": {
      "text/plain": [
       "('found it', 8)"
      ]
     },
     "execution_count": 9,
     "metadata": {},
     "output_type": "execute_result"
    }
   ],
   "source": [
    "double_llst.searchList(8)"
   ]
  },
  {
   "cell_type": "code",
   "execution_count": 10,
   "metadata": {},
   "outputs": [
    {
     "name": "stdout",
     "output_type": "stream",
     "text": [
      "3, 8, 15, 4, 11, "
     ]
    }
   ],
   "source": [
    "double_llst.append(11)\n",
    "double_llst.printList()"
   ]
  },
  {
   "cell_type": "code",
   "execution_count": 11,
   "metadata": {},
   "outputs": [
    {
     "name": "stdout",
     "output_type": "stream",
     "text": [
      "11, 4, 15, 8, 3, "
     ]
    }
   ],
   "source": [
    "double_llst.printListReverse()"
   ]
  },
  {
   "cell_type": "code",
   "execution_count": 12,
   "metadata": {},
   "outputs": [
    {
     "name": "stdout",
     "output_type": "stream",
     "text": [
      "8, 15, 4, 11, "
     ]
    }
   ],
   "source": [
    "# delete the 1st node of a long linked list\n",
    "double_llst.delete((double_llst.getNode(3)))\n",
    "double_llst.printList()"
   ]
  },
  {
   "cell_type": "code",
   "execution_count": 13,
   "metadata": {},
   "outputs": [
    {
     "name": "stdout",
     "output_type": "stream",
     "text": [
      "8, 15, 11, "
     ]
    }
   ],
   "source": [
    "# delete any given node\n",
    "double_llst.delete((double_llst.getNode(4)))\n",
    "double_llst.printList()"
   ]
  },
  {
   "cell_type": "code",
   "execution_count": 14,
   "metadata": {},
   "outputs": [
    {
     "name": "stdout",
     "output_type": "stream",
     "text": [
      "8, 15, "
     ]
    }
   ],
   "source": [
    "double_llst.delete((double_llst.getNode(11)))\n",
    "double_llst.printList()"
   ]
  },
  {
   "cell_type": "code",
   "execution_count": 15,
   "metadata": {},
   "outputs": [
    {
     "name": "stdout",
     "output_type": "stream",
     "text": [
      "24, "
     ]
    }
   ],
   "source": [
    "# Start with the empty list\n",
    "double_llst1 = DoubleLinkedList()\n",
    "\n",
    "double_llst1.start(24)\n",
    "double_llst1.printList()"
   ]
  },
  {
   "cell_type": "code",
   "execution_count": 16,
   "metadata": {},
   "outputs": [],
   "source": [
    "# delete the only Node present in DoubleLinkedList\n",
    "double_llst1.delete((double_llst1.getNode(24)))\n",
    "double_llst1.printList()"
   ]
  }
 ],
 "metadata": {
  "kernelspec": {
   "display_name": "Python 3.10.7 64-bit",
   "language": "python",
   "name": "python3"
  },
  "language_info": {
   "codemirror_mode": {
    "name": "ipython",
    "version": 3
   },
   "file_extension": ".py",
   "mimetype": "text/x-python",
   "name": "python",
   "nbconvert_exporter": "python",
   "pygments_lexer": "ipython3",
   "version": "3.10.7"
  },
  "orig_nbformat": 4,
  "vscode": {
   "interpreter": {
    "hash": "a7dbb88c84ecda04e2dfa8176cb6708abf8c95c32934f510df16d1a1f4945387"
   }
  }
 },
 "nbformat": 4,
 "nbformat_minor": 2
}
