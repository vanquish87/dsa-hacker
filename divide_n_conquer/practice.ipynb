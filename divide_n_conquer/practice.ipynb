{
 "cells": [
  {
   "cell_type": "markdown",
   "metadata": {},
   "source": [
    "House Robber"
   ]
  },
  {
   "cell_type": "code",
   "execution_count": 30,
   "metadata": {},
   "outputs": [
    {
     "data": {
      "text/plain": [
       "48"
      ]
     },
     "execution_count": 30,
     "metadata": {},
     "output_type": "execute_result"
    }
   ],
   "source": [
    "def house(h):\n",
    "\n",
    "    if len(h) >= 6:\n",
    "        amount1 = h[0] + h[2] + house(h[4:])\n",
    "\n",
    "        amount2 = h[1] + h[3] + house(h[5:])\n",
    "\n",
    "    if len(h) == 5:\n",
    "        amount1 = h[0] + h[2] + house(h[4:])\n",
    "\n",
    "        amount2 = h[1] + h[3]\n",
    "        \n",
    "    if len(h) == 4:\n",
    "        amount1 = h[0] + h[2]\n",
    "\n",
    "        amount2 = h[1] + h[3]\n",
    "\n",
    "    if len(h) == 3:\n",
    "        amount1 = h[0] + h[2]\n",
    "\n",
    "        amount2 = h[1]\n",
    "\n",
    "    if len(h) == 2:\n",
    "        amount1 = h[0]\n",
    "\n",
    "        amount2 = h[1]\n",
    "\n",
    "    if len(h) == 1:\n",
    "        amount1 = h[0]\n",
    "\n",
    "        amount2 = amount1\n",
    "    \n",
    "    if len(h) < 1:\n",
    "        return 0\n",
    "    \n",
    "\n",
    "    robbery = max(amount1, amount2)\n",
    "    # print(robbery)\n",
    "\n",
    "    return robbery\n",
    "\n",
    "\n",
    "h = [1, 5, 7, 2, 9, 6, 11, 18, 20]\n",
    "\n",
    "house(h)"
   ]
  },
  {
   "cell_type": "code",
   "execution_count": 36,
   "metadata": {},
   "outputs": [],
   "source": [
    "def knackpack(knack, capacity):\n",
    "    x = 0\n",
    "    for i in knack:\n",
    "        x += i['weight']\n",
    "\n",
    "\n",
    "knack = {\n",
    "    'mango': {\n",
    "        'weight': 3,\n",
    "        'profit': 31,\n",
    "            },\n",
    "    'apple': {\n",
    "        'weight': 1,\n",
    "        'profit': 26,\n",
    "            },\n",
    "    'orange': {\n",
    "        'weight': 2,\n",
    "        'profit': 17,\n",
    "            },\n",
    "    'banana': {\n",
    "        'weight': 5,\n",
    "        'profit': 72,\n",
    "            },\n",
    "        }\n",
    "\n",
    "capacity = 7\n",
    "\n",
    "knackpack(knack, capacity)"
   ]
  }
 ],
 "metadata": {
  "kernelspec": {
   "display_name": "env",
   "language": "python",
   "name": "env"
  },
  "language_info": {
   "codemirror_mode": {
    "name": "ipython",
    "version": 3
   },
   "file_extension": ".py",
   "mimetype": "text/x-python",
   "name": "python",
   "nbconvert_exporter": "python",
   "pygments_lexer": "ipython3",
   "version": "3.10.5"
  },
  "orig_nbformat": 4,
  "vscode": {
   "interpreter": {
    "hash": "d4f3e11e2836f35932dc1a63fc1e1ad4837c0ab0c25aa80f2018a328ee87e0d8"
   }
  }
 },
 "nbformat": 4,
 "nbformat_minor": 2
}
