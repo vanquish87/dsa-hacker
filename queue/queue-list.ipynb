{
 "cells": [
  {
   "cell_type": "code",
   "execution_count": 1,
   "metadata": {},
   "outputs": [],
   "source": [
    "class Queue:\n",
    "    def __init__(self):\n",
    "        self.items = []\n",
    "\n",
    "    # for display purposes in a line\n",
    "    def __str__(self):\n",
    "        values = []\n",
    "        for x in self.items:\n",
    "            values.append(str(x))\n",
    "        return ' '.join(values)\n",
    "\n",
    "    # isEmpty\n",
    "    def isEmpty(self):\n",
    "        if self.items == []:\n",
    "            return True\n",
    "        else:\n",
    "            False\n",
    "     \n",
    "    # enqueue - to insert at the last position (FIFO)\n",
    "    def enqueue(self, data):\n",
    "        self.items.append(data)\n",
    "\n",
    "    # pop - to delete from first position (FIFO)\n",
    "    def dequeue(self):\n",
    "        self.items.pop(0)\n",
    "\n",
    "    # peek - to give element from 1st postion\n",
    "    def peek(self):\n",
    "        if self.isEmpty():\n",
    "            return 'Queue is empty'\n",
    "        else:\n",
    "            return self.items[0]\n",
    "\n",
    "    def delete(self):\n",
    "        self.items = None\n"
   ]
  },
  {
   "cell_type": "code",
   "execution_count": 2,
   "metadata": {},
   "outputs": [
    {
     "data": {
      "text/plain": [
       "True"
      ]
     },
     "execution_count": 2,
     "metadata": {},
     "output_type": "execute_result"
    }
   ],
   "source": [
    "customQueue = Queue()\n",
    "\n",
    "customQueue.isEmpty()"
   ]
  },
  {
   "cell_type": "code",
   "execution_count": 3,
   "metadata": {},
   "outputs": [
    {
     "name": "stdout",
     "output_type": "stream",
     "text": [
      "5 8 3 6\n"
     ]
    }
   ],
   "source": [
    "customQueue.enqueue(5)\n",
    "customQueue.enqueue(8)\n",
    "customQueue.enqueue(3)\n",
    "customQueue.enqueue(6)\n",
    "print(customQueue)"
   ]
  },
  {
   "cell_type": "code",
   "execution_count": 4,
   "metadata": {},
   "outputs": [
    {
     "name": "stdout",
     "output_type": "stream",
     "text": [
      "8 3 6\n"
     ]
    }
   ],
   "source": [
    "customQueue.dequeue()\n",
    "print(customQueue)"
   ]
  },
  {
   "cell_type": "code",
   "execution_count": 5,
   "metadata": {},
   "outputs": [
    {
     "data": {
      "text/plain": [
       "8"
      ]
     },
     "execution_count": 5,
     "metadata": {},
     "output_type": "execute_result"
    }
   ],
   "source": [
    "customQueue.peek()"
   ]
  },
  {
   "cell_type": "code",
   "execution_count": 6,
   "metadata": {},
   "outputs": [
    {
     "ename": "TypeError",
     "evalue": "'NoneType' object is not iterable",
     "output_type": "error",
     "traceback": [
      "\u001b[1;31m---------------------------------------------------------------------------\u001b[0m",
      "\u001b[1;31mTypeError\u001b[0m                                 Traceback (most recent call last)",
      "\u001b[1;32mc:\\Jimmy\\Codeholic\\dsa-hacker\\queue\\queue-list.ipynb Cell 7\u001b[0m in \u001b[0;36m<cell line: 2>\u001b[1;34m()\u001b[0m\n\u001b[0;32m      <a href='vscode-notebook-cell:/c%3A/Jimmy/Codeholic/dsa-hacker/queue/queue-list.ipynb#W5sZmlsZQ%3D%3D?line=0'>1</a>\u001b[0m customQueue\u001b[39m.\u001b[39mdelete()\n\u001b[1;32m----> <a href='vscode-notebook-cell:/c%3A/Jimmy/Codeholic/dsa-hacker/queue/queue-list.ipynb#W5sZmlsZQ%3D%3D?line=1'>2</a>\u001b[0m \u001b[39mprint\u001b[39;49m(customQueue)\n",
      "\u001b[1;32mc:\\Jimmy\\Codeholic\\dsa-hacker\\queue\\queue-list.ipynb Cell 7\u001b[0m in \u001b[0;36mQueue.__str__\u001b[1;34m(self)\u001b[0m\n\u001b[0;32m      <a href='vscode-notebook-cell:/c%3A/Jimmy/Codeholic/dsa-hacker/queue/queue-list.ipynb#W5sZmlsZQ%3D%3D?line=5'>6</a>\u001b[0m \u001b[39mdef\u001b[39;00m \u001b[39m__str__\u001b[39m(\u001b[39mself\u001b[39m):\n\u001b[0;32m      <a href='vscode-notebook-cell:/c%3A/Jimmy/Codeholic/dsa-hacker/queue/queue-list.ipynb#W5sZmlsZQ%3D%3D?line=6'>7</a>\u001b[0m     values \u001b[39m=\u001b[39m []\n\u001b[1;32m----> <a href='vscode-notebook-cell:/c%3A/Jimmy/Codeholic/dsa-hacker/queue/queue-list.ipynb#W5sZmlsZQ%3D%3D?line=7'>8</a>\u001b[0m     \u001b[39mfor\u001b[39;00m x \u001b[39min\u001b[39;00m \u001b[39mself\u001b[39m\u001b[39m.\u001b[39mitems:\n\u001b[0;32m      <a href='vscode-notebook-cell:/c%3A/Jimmy/Codeholic/dsa-hacker/queue/queue-list.ipynb#W5sZmlsZQ%3D%3D?line=8'>9</a>\u001b[0m         values\u001b[39m.\u001b[39mappend(\u001b[39mstr\u001b[39m(x))\n\u001b[0;32m     <a href='vscode-notebook-cell:/c%3A/Jimmy/Codeholic/dsa-hacker/queue/queue-list.ipynb#W5sZmlsZQ%3D%3D?line=9'>10</a>\u001b[0m     \u001b[39mreturn\u001b[39;00m \u001b[39m'\u001b[39m\u001b[39m \u001b[39m\u001b[39m'\u001b[39m\u001b[39m.\u001b[39mjoin(values)\n",
      "\u001b[1;31mTypeError\u001b[0m: 'NoneType' object is not iterable"
     ]
    }
   ],
   "source": [
    "customQueue.delete()\n",
    "print(customQueue)"
   ]
  }
 ],
 "metadata": {
  "kernelspec": {
   "display_name": "Python 3.10.5 64-bit (microsoft store)",
   "language": "python",
   "name": "python3"
  },
  "language_info": {
   "codemirror_mode": {
    "name": "ipython",
    "version": 3
   },
   "file_extension": ".py",
   "mimetype": "text/x-python",
   "name": "python",
   "nbconvert_exporter": "python",
   "pygments_lexer": "ipython3",
   "version": "3.10.5"
  },
  "orig_nbformat": 4,
  "vscode": {
   "interpreter": {
    "hash": "d4f3e11e2836f35932dc1a63fc1e1ad4837c0ab0c25aa80f2018a328ee87e0d8"
   }
  }
 },
 "nbformat": 4,
 "nbformat_minor": 2
}
