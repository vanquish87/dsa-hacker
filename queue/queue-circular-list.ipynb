{
 "cells": [
  {
   "cell_type": "code",
   "execution_count": 568,
   "metadata": {},
   "outputs": [],
   "source": [
    "class CircularQueue:\n",
    "    def __init__(self, size):\n",
    "        #  |    None    |   None    |   None    |   None    |\n",
    "        self.items = [None] * size\n",
    "        self.size = size\n",
    "        self.start = -1\n",
    "        self.end = -1\n",
    "\n",
    "    # for display purposes in a line\n",
    "    def __str__(self):\n",
    "        values = []\n",
    "        for x in self.items:\n",
    "            values.append(str(x))\n",
    "        return ' '.join(values)\n",
    "\n",
    "    def isEmpty(self):\n",
    "        # if start n end is at reset position of -1\n",
    "        if self.start == -1 and self.end == -1:\n",
    "            return True\n",
    "        elif self.start > self.end and self.end == None:\n",
    "            return True\n",
    "        else:\n",
    "            return False\n",
    "\n",
    "    def isFull(self):\n",
    "        #  |    5   |   3   |   4   |   9   |\n",
    "        #       ^       ^\n",
    "        #      End     Start\n",
    "        if self.end + 1 == self.start:\n",
    "            return True\n",
    "            \n",
    "        #  |    5   |   3   |   4   |   9   |\n",
    "        #       ^                       ^\n",
    "        #      Start                   End\n",
    "        elif self.start == 0 and self.end + 1 == self.size:\n",
    "            return True\n",
    "        else:\n",
    "            return False\n",
    "\n",
    "\n",
    "    # enqueue - to insert at the last position (FIFO)\n",
    "    def enqueue(self, data):\n",
    "        if self.isFull():\n",
    "            return 'Queue is already full'\n",
    "        else:\n",
    "            #  |    DATA    |   None    |   None    |   None    |\n",
    "            #       ^   ^\n",
    "            #       S   E\n",
    "            if self.start == -1 and self.end == -1:\n",
    "                self.start += 1\n",
    "                self.end += 1\n",
    "                self.items[self.end] = data\n",
    "\n",
    "            # self.size = 4\n",
    "            #  |    DATA3    |   DATA4    |   DATA5    |   None    |\n",
    "            #         ^                          ^\n",
    "            #         S                          E\n",
    "            elif self.end + 1 < self.size and self.start <= self.end:\n",
    "                self.end += 1\n",
    "                self.items[self.end] = data\n",
    "            \n",
    "            #  |    NULL    |   DATA4    |   DATA5    |   DATA    |\n",
    "            #                     ^                         ^\n",
    "            #                     S                         E\n",
    "            elif self.end + 1 == self.size and self.start > 0:\n",
    "                self.end = 0\n",
    "                self.items[self.end] = data\n",
    "\n",
    "            #  |    DATA1    |   NULL    |   DATA5    |   DATA    |\n",
    "            #        ^                          ^    \n",
    "            #        E                          S    \n",
    "            elif self.end + 1 < self.start:\n",
    "                self.end += 1\n",
    "                self.items[self.end] = data\n",
    "            \n",
    "\n",
    "    # pop - to delete from first position (FIFO)\n",
    "    def dequeue(self):\n",
    "        if self.isEmpty():\n",
    "            return 'Queue is already Empty'\n",
    "        else:\n",
    "            #  |    DATA    |   None    |   None    |   None    |\n",
    "            #       ^   ^\n",
    "            #       S   E\n",
    "            if self.start == 0 and self.end == 0:\n",
    "                self.items[self.start] = None\n",
    "                self.start -= 1\n",
    "                self.end -= 1\n",
    "                \n",
    "            # self.size = 4\n",
    "            #  |    DATA1    |   DATA4    |   None    |   None    |\n",
    "            #         ^            ^\n",
    "            #         S            E\n",
    "            elif self.start + 1 < self.size and self.start <= self.end:\n",
    "                self.items[self.start] = None\n",
    "                self.start += 1\n",
    "\n",
    "            #  |    NONE    |   DATA4    |   None    |   None    |\n",
    "            #                    ^  ^\n",
    "            #                    S  E\n",
    "            # in case queue is fully utilized start will make previous Null n move to next\n",
    "            # while end pointed towards null, by that we know Queue is empty. Time to reset\n",
    "            if self.items[self.end] == None:\n",
    "                self.start -= 1\n",
    "                self.end -= 1\n",
    "\n",
    "                \n",
    "            #  |    DATA2    |   DATA3    |   DATA5    |   DATA    |\n",
    "            #                       ^                        ^\n",
    "            #                       E                        S             \n",
    "            elif self.start +1 == self.size:\n",
    "                self.start = 0\n",
    "                self.items[self.start] = None\n",
    "\n",
    "\n",
    "    # peek - to give element from start postion\n",
    "    def peek(self):\n",
    "        if self.isEmpty():\n",
    "            return 'Queue is empty'\n",
    "        else:\n",
    "            return self.items[self.start]\n",
    "\n"
   ]
  },
  {
   "cell_type": "code",
   "execution_count": 569,
   "metadata": {},
   "outputs": [
    {
     "data": {
      "text/plain": [
       "True"
      ]
     },
     "execution_count": 569,
     "metadata": {},
     "output_type": "execute_result"
    }
   ],
   "source": [
    "customCircleQueue = CircularQueue(4)\n",
    "\n",
    "customCircleQueue.isEmpty()"
   ]
  },
  {
   "cell_type": "code",
   "execution_count": 570,
   "metadata": {},
   "outputs": [
    {
     "data": {
      "text/plain": [
       "False"
      ]
     },
     "execution_count": 570,
     "metadata": {},
     "output_type": "execute_result"
    }
   ],
   "source": [
    "customCircleQueue.isFull()"
   ]
  },
  {
   "cell_type": "code",
   "execution_count": 571,
   "metadata": {},
   "outputs": [
    {
     "name": "stdout",
     "output_type": "stream",
     "text": [
      "5 8 3 6\n"
     ]
    }
   ],
   "source": [
    "customCircleQueue.enqueue(5)\n",
    "customCircleQueue.enqueue(8)\n",
    "customCircleQueue.enqueue(3)\n",
    "customCircleQueue.enqueue(6)\n",
    "print(customCircleQueue)"
   ]
  },
  {
   "cell_type": "code",
   "execution_count": 572,
   "metadata": {},
   "outputs": [
    {
     "data": {
      "text/plain": [
       "5"
      ]
     },
     "execution_count": 572,
     "metadata": {},
     "output_type": "execute_result"
    }
   ],
   "source": [
    "customCircleQueue.peek()"
   ]
  },
  {
   "cell_type": "code",
   "execution_count": 573,
   "metadata": {},
   "outputs": [
    {
     "data": {
      "text/plain": [
       "'Queue is already full'"
      ]
     },
     "execution_count": 573,
     "metadata": {},
     "output_type": "execute_result"
    }
   ],
   "source": [
    "customCircleQueue.enqueue(9)"
   ]
  },
  {
   "cell_type": "code",
   "execution_count": 574,
   "metadata": {},
   "outputs": [
    {
     "name": "stdout",
     "output_type": "stream",
     "text": [
      "None 8 3 6\n"
     ]
    }
   ],
   "source": [
    "customCircleQueue.dequeue()\n",
    "print(customCircleQueue)"
   ]
  },
  {
   "cell_type": "code",
   "execution_count": 575,
   "metadata": {},
   "outputs": [
    {
     "data": {
      "text/plain": [
       "8"
      ]
     },
     "execution_count": 575,
     "metadata": {},
     "output_type": "execute_result"
    }
   ],
   "source": [
    "customCircleQueue.peek()"
   ]
  },
  {
   "cell_type": "code",
   "execution_count": 576,
   "metadata": {},
   "outputs": [
    {
     "name": "stdout",
     "output_type": "stream",
     "text": [
      "None None 3 6\n"
     ]
    }
   ],
   "source": [
    "customCircleQueue.dequeue()\n",
    "print(customCircleQueue)"
   ]
  },
  {
   "cell_type": "code",
   "execution_count": 577,
   "metadata": {},
   "outputs": [
    {
     "data": {
      "text/plain": [
       "3"
      ]
     },
     "execution_count": 577,
     "metadata": {},
     "output_type": "execute_result"
    }
   ],
   "source": [
    "customCircleQueue.peek()"
   ]
  },
  {
   "cell_type": "code",
   "execution_count": 578,
   "metadata": {},
   "outputs": [
    {
     "name": "stdout",
     "output_type": "stream",
     "text": [
      "None None None 6\n"
     ]
    }
   ],
   "source": [
    "customCircleQueue.dequeue()\n",
    "print(customCircleQueue)"
   ]
  },
  {
   "cell_type": "code",
   "execution_count": 579,
   "metadata": {},
   "outputs": [],
   "source": [
    "customCircleQueue.peek()"
   ]
  },
  {
   "cell_type": "code",
   "execution_count": 580,
   "metadata": {},
   "outputs": [
    {
     "name": "stdout",
     "output_type": "stream",
     "text": [
      "None None None 6\n"
     ]
    }
   ],
   "source": [
    "customCircleQueue.dequeue()\n",
    "print(customCircleQueue)"
   ]
  },
  {
   "cell_type": "code",
   "execution_count": 581,
   "metadata": {},
   "outputs": [
    {
     "name": "stdout",
     "output_type": "stream",
     "text": [
      "23 None None 6\n"
     ]
    }
   ],
   "source": [
    "customCircleQueue.enqueue(23)\n",
    "print(customCircleQueue)"
   ]
  },
  {
   "cell_type": "code",
   "execution_count": 582,
   "metadata": {},
   "outputs": [],
   "source": [
    "customCircleQueue.peek()"
   ]
  },
  {
   "cell_type": "code",
   "execution_count": 583,
   "metadata": {},
   "outputs": [
    {
     "name": "stdout",
     "output_type": "stream",
     "text": [
      "23 None None 6\n"
     ]
    }
   ],
   "source": [
    "customCircleQueue.dequeue()\n",
    "print(customCircleQueue)"
   ]
  },
  {
   "cell_type": "code",
   "execution_count": 584,
   "metadata": {},
   "outputs": [],
   "source": [
    "customCircleQueue.peek()"
   ]
  },
  {
   "cell_type": "code",
   "execution_count": 585,
   "metadata": {},
   "outputs": [
    {
     "name": "stdout",
     "output_type": "stream",
     "text": [
      "23 None None 6\n"
     ]
    }
   ],
   "source": [
    "customCircleQueue.dequeue()\n",
    "print(customCircleQueue)"
   ]
  },
  {
   "cell_type": "code",
   "execution_count": 586,
   "metadata": {},
   "outputs": [
    {
     "name": "stdout",
     "output_type": "stream",
     "text": [
      "23 None None 6\n"
     ]
    }
   ],
   "source": [
    "customCircleQueue.dequeue()\n",
    "print(customCircleQueue)"
   ]
  },
  {
   "cell_type": "code",
   "execution_count": 587,
   "metadata": {},
   "outputs": [],
   "source": [
    "customCircleQueue.peek()"
   ]
  },
  {
   "cell_type": "markdown",
   "metadata": {},
   "source": [
    "Checking on new Circular queue for start element operations"
   ]
  },
  {
   "cell_type": "code",
   "execution_count": 588,
   "metadata": {},
   "outputs": [
    {
     "data": {
      "text/plain": [
       "True"
      ]
     },
     "execution_count": 588,
     "metadata": {},
     "output_type": "execute_result"
    }
   ],
   "source": [
    "customCircleQueue1 = CircularQueue(3)\n",
    "\n",
    "customCircleQueue1.isEmpty()"
   ]
  },
  {
   "cell_type": "code",
   "execution_count": 589,
   "metadata": {},
   "outputs": [
    {
     "name": "stdout",
     "output_type": "stream",
     "text": [
      "9 None None\n"
     ]
    }
   ],
   "source": [
    "customCircleQueue1.enqueue(9)\n",
    "print(customCircleQueue1)"
   ]
  },
  {
   "cell_type": "code",
   "execution_count": 590,
   "metadata": {},
   "outputs": [
    {
     "data": {
      "text/plain": [
       "9"
      ]
     },
     "execution_count": 590,
     "metadata": {},
     "output_type": "execute_result"
    }
   ],
   "source": [
    "customCircleQueue1.peek()"
   ]
  },
  {
   "cell_type": "code",
   "execution_count": 591,
   "metadata": {},
   "outputs": [
    {
     "name": "stdout",
     "output_type": "stream",
     "text": [
      "None None None\n"
     ]
    }
   ],
   "source": [
    "customCircleQueue1.dequeue()\n",
    "print(customCircleQueue1)"
   ]
  },
  {
   "cell_type": "code",
   "execution_count": 592,
   "metadata": {},
   "outputs": [
    {
     "data": {
      "text/plain": [
       "False"
      ]
     },
     "execution_count": 592,
     "metadata": {},
     "output_type": "execute_result"
    }
   ],
   "source": [
    "customCircleQueue1.isEmpty()"
   ]
  }
 ],
 "metadata": {
  "kernelspec": {
   "display_name": "Python 3.10.5 64-bit (microsoft store)",
   "language": "python",
   "name": "python3"
  },
  "language_info": {
   "codemirror_mode": {
    "name": "ipython",
    "version": 3
   },
   "file_extension": ".py",
   "mimetype": "text/x-python",
   "name": "python",
   "nbconvert_exporter": "python",
   "pygments_lexer": "ipython3",
   "version": "3.10.5"
  },
  "orig_nbformat": 4,
  "vscode": {
   "interpreter": {
    "hash": "d4f3e11e2836f35932dc1a63fc1e1ad4837c0ab0c25aa80f2018a328ee87e0d8"
   }
  }
 },
 "nbformat": 4,
 "nbformat_minor": 2
}
