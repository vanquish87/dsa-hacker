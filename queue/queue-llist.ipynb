{
 "cells": [
  {
   "cell_type": "markdown",
   "metadata": {},
   "source": [
    "Queue using Linked List"
   ]
  },
  {
   "cell_type": "code",
   "execution_count": 1,
   "metadata": {},
   "outputs": [],
   "source": [
    "class Node:\n",
    "        def __init__(self, data):\n",
    "            self.data = data\n",
    "            self.next = None\n",
    "\n",
    "\n",
    "class Linkedlist():\n",
    "    def __init__(self):\n",
    "        self.head = None\n",
    "        "
   ]
  },
  {
   "cell_type": "code",
   "execution_count": 2,
   "metadata": {},
   "outputs": [],
   "source": [
    "class Queue:\n",
    "    def __init__(self):\n",
    "        self.linkedlist = Linkedlist()\n",
    "\n",
    "     # for display purposes\n",
    "    def __str__(self):\n",
    "        temp = self.linkedlist.head\n",
    "        values = []\n",
    "            \n",
    "        while temp:\n",
    "            values.append(str(temp.data))\n",
    "            temp = temp.next\n",
    "\n",
    "        if self.linkedlist.head != None:\n",
    "            return ' '.join(values)\n",
    "        else:\n",
    "            return 'Linkedlist doesnot exist'\n",
    "    \n",
    "\n",
    "    # isEmpty\n",
    "    def isEmpty(self):\n",
    "        if self.linkedlist.head == None:\n",
    "            return True\n",
    "        else:\n",
    "            return False\n",
    "\n",
    "\n",
    "    # enqueue - to insert at the last position (FIFO)\n",
    "    def enqueue(self, data):\n",
    "        new_node = Node(data)\n",
    "        if self.linkedlist.head == None:\n",
    "            self.linkedlist.head = new_node\n",
    "        \n",
    "        else:\n",
    "            last = self.linkedlist.head\n",
    "\n",
    "            while last.next:\n",
    "                last = last.next\n",
    "            # Change the next of last node\n",
    "            last.next = new_node\n",
    "\n",
    "\n",
    "    # pop - to delete from first position (FIFO)\n",
    "    def dequeue(self):\n",
    "        if self.isEmpty():\n",
    "            return 'Queue is empty'\n",
    "        # only 1 node\n",
    "        elif self.linkedlist.head.next == None:\n",
    "            self.linkedlist.head = None\n",
    "        # long chain\n",
    "        elif self.linkedlist.head.next != None:\n",
    "            self.linkedlist.head = self.linkedlist.head.next\n",
    "\n",
    "\n",
    "    # peek - to give 1st node ie, first element\n",
    "    def peek(self):\n",
    "        return self.linkedlist.head.data\n",
    "\n",
    "    \n",
    "    def delete(self):\n",
    "        self.linkedlist.head = None\n",
    "        return 'Queue is deleted'"
   ]
  },
  {
   "cell_type": "code",
   "execution_count": 3,
   "metadata": {},
   "outputs": [
    {
     "data": {
      "text/plain": [
       "True"
      ]
     },
     "execution_count": 3,
     "metadata": {},
     "output_type": "execute_result"
    }
   ],
   "source": [
    "customQueue = Queue()\n",
    "\n",
    "customQueue.isEmpty()"
   ]
  },
  {
   "cell_type": "code",
   "execution_count": 4,
   "metadata": {},
   "outputs": [
    {
     "name": "stdout",
     "output_type": "stream",
     "text": [
      "3 6 7 9\n"
     ]
    }
   ],
   "source": [
    "customQueue.enqueue(3)\n",
    "customQueue.enqueue(6)\n",
    "customQueue.enqueue(7)\n",
    "customQueue.enqueue(9)\n",
    "print(customQueue)"
   ]
  },
  {
   "cell_type": "code",
   "execution_count": 5,
   "metadata": {},
   "outputs": [
    {
     "name": "stdout",
     "output_type": "stream",
     "text": [
      "6 7 9\n"
     ]
    }
   ],
   "source": [
    "customQueue.dequeue()\n",
    "print(customQueue)"
   ]
  },
  {
   "cell_type": "code",
   "execution_count": 6,
   "metadata": {},
   "outputs": [
    {
     "data": {
      "text/plain": [
       "6"
      ]
     },
     "execution_count": 6,
     "metadata": {},
     "output_type": "execute_result"
    }
   ],
   "source": [
    "customQueue.peek()"
   ]
  },
  {
   "cell_type": "code",
   "execution_count": 7,
   "metadata": {},
   "outputs": [
    {
     "name": "stdout",
     "output_type": "stream",
     "text": [
      "Linkedlist doesnot exist\n"
     ]
    }
   ],
   "source": [
    "customQueue.delete()\n",
    "print(customQueue)"
   ]
  }
 ],
 "metadata": {
  "kernelspec": {
   "display_name": "Python 3.10.5 64-bit (microsoft store)",
   "language": "python",
   "name": "python3"
  },
  "language_info": {
   "codemirror_mode": {
    "name": "ipython",
    "version": 3
   },
   "file_extension": ".py",
   "mimetype": "text/x-python",
   "name": "python",
   "nbconvert_exporter": "python",
   "pygments_lexer": "ipython3",
   "version": "3.10.5"
  },
  "orig_nbformat": 4,
  "vscode": {
   "interpreter": {
    "hash": "d4f3e11e2836f35932dc1a63fc1e1ad4837c0ab0c25aa80f2018a328ee87e0d8"
   }
  }
 },
 "nbformat": 4,
 "nbformat_minor": 2
}
