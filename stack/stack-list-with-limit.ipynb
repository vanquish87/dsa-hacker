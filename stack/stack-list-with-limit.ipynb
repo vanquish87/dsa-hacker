{
 "cells": [
  {
   "cell_type": "code",
   "execution_count": 9,
   "metadata": {},
   "outputs": [],
   "source": [
    "class Stack:\n",
    "    def __init__(self, size):\n",
    "        self.list = []\n",
    "        self.size = size\n",
    "\n",
    "    # for display purposes\n",
    "    def __str__(self):\n",
    "        values = []\n",
    "        for x in self.list:\n",
    "            values.append(str(x))\n",
    "        # reversing the order\n",
    "        values = values[::-1]\n",
    "        return '\\n'.join(values)\n",
    "\n",
    "    # isEmpty\n",
    "    def isEmpty(self):\n",
    "        if self.list == []:\n",
    "            return True\n",
    "        else:\n",
    "            False\n",
    "    \n",
    "    def isFull(self):\n",
    "        if len(self.list) == self.size:\n",
    "            return True\n",
    "        else:\n",
    "            False\n",
    "    \n",
    "    # push - to insert at the top\n",
    "    def push(self, data):\n",
    "        if len(self.list) < self.size:\n",
    "            self.list.append(data)\n",
    "        else:\n",
    "            return 'Stack is full'\n",
    "\n",
    "    # pop - to delete from the top\n",
    "    def pop(self):\n",
    "        self.list.pop()\n",
    "\n",
    "    # peek - to give top element \n",
    "    def peek(self):\n",
    "        return self.list[-1]\n",
    "\n",
    "    def delete(self):\n",
    "        self.list = None"
   ]
  },
  {
   "cell_type": "code",
   "execution_count": 10,
   "metadata": {},
   "outputs": [
    {
     "data": {
      "text/plain": [
       "True"
      ]
     },
     "execution_count": 10,
     "metadata": {},
     "output_type": "execute_result"
    }
   ],
   "source": [
    "customStack = Stack(4)\n",
    "\n",
    "customStack.isEmpty()"
   ]
  },
  {
   "cell_type": "code",
   "execution_count": 11,
   "metadata": {},
   "outputs": [
    {
     "name": "stdout",
     "output_type": "stream",
     "text": [
      "6\n",
      "3\n",
      "8\n",
      "5\n"
     ]
    }
   ],
   "source": [
    "customStack.push(5)\n",
    "customStack.push(8)\n",
    "customStack.push(3)\n",
    "customStack.push(6)\n",
    "print(customStack)"
   ]
  },
  {
   "cell_type": "code",
   "execution_count": 12,
   "metadata": {},
   "outputs": [
    {
     "data": {
      "text/plain": [
       "True"
      ]
     },
     "execution_count": 12,
     "metadata": {},
     "output_type": "execute_result"
    }
   ],
   "source": [
    "customStack.isFull()"
   ]
  },
  {
   "cell_type": "code",
   "execution_count": 13,
   "metadata": {},
   "outputs": [
    {
     "data": {
      "text/plain": [
       "'Stack is full'"
      ]
     },
     "execution_count": 13,
     "metadata": {},
     "output_type": "execute_result"
    }
   ],
   "source": [
    "customStack.push(16)"
   ]
  },
  {
   "cell_type": "code",
   "execution_count": 14,
   "metadata": {},
   "outputs": [
    {
     "name": "stdout",
     "output_type": "stream",
     "text": [
      "3\n",
      "8\n",
      "5\n"
     ]
    }
   ],
   "source": [
    "customStack.pop()\n",
    "print(customStack)"
   ]
  },
  {
   "cell_type": "code",
   "execution_count": 15,
   "metadata": {},
   "outputs": [
    {
     "data": {
      "text/plain": [
       "3"
      ]
     },
     "execution_count": 15,
     "metadata": {},
     "output_type": "execute_result"
    }
   ],
   "source": [
    "customStack.peek()"
   ]
  },
  {
   "cell_type": "code",
   "execution_count": 16,
   "metadata": {},
   "outputs": [
    {
     "ename": "TypeError",
     "evalue": "'NoneType' object is not iterable",
     "output_type": "error",
     "traceback": [
      "\u001b[1;31m---------------------------------------------------------------------------\u001b[0m",
      "\u001b[1;31mTypeError\u001b[0m                                 Traceback (most recent call last)",
      "\u001b[1;32mc:\\Jimmy\\Codeholic\\dsa-hacker\\stack\\stack-list-with-limit.ipynb Cell 8\u001b[0m in \u001b[0;36m<cell line: 2>\u001b[1;34m()\u001b[0m\n\u001b[0;32m      <a href='vscode-notebook-cell:/c%3A/Jimmy/Codeholic/dsa-hacker/stack/stack-list-with-limit.ipynb#X10sZmlsZQ%3D%3D?line=0'>1</a>\u001b[0m customStack\u001b[39m.\u001b[39mdelete()\n\u001b[1;32m----> <a href='vscode-notebook-cell:/c%3A/Jimmy/Codeholic/dsa-hacker/stack/stack-list-with-limit.ipynb#X10sZmlsZQ%3D%3D?line=1'>2</a>\u001b[0m \u001b[39mprint\u001b[39;49m(customStack)\n",
      "\u001b[1;32mc:\\Jimmy\\Codeholic\\dsa-hacker\\stack\\stack-list-with-limit.ipynb Cell 8\u001b[0m in \u001b[0;36mStack.__str__\u001b[1;34m(self)\u001b[0m\n\u001b[0;32m      <a href='vscode-notebook-cell:/c%3A/Jimmy/Codeholic/dsa-hacker/stack/stack-list-with-limit.ipynb#X10sZmlsZQ%3D%3D?line=6'>7</a>\u001b[0m \u001b[39mdef\u001b[39;00m \u001b[39m__str__\u001b[39m(\u001b[39mself\u001b[39m):\n\u001b[0;32m      <a href='vscode-notebook-cell:/c%3A/Jimmy/Codeholic/dsa-hacker/stack/stack-list-with-limit.ipynb#X10sZmlsZQ%3D%3D?line=7'>8</a>\u001b[0m     values \u001b[39m=\u001b[39m []\n\u001b[1;32m----> <a href='vscode-notebook-cell:/c%3A/Jimmy/Codeholic/dsa-hacker/stack/stack-list-with-limit.ipynb#X10sZmlsZQ%3D%3D?line=8'>9</a>\u001b[0m     \u001b[39mfor\u001b[39;00m x \u001b[39min\u001b[39;00m \u001b[39mself\u001b[39m\u001b[39m.\u001b[39mlist:\n\u001b[0;32m     <a href='vscode-notebook-cell:/c%3A/Jimmy/Codeholic/dsa-hacker/stack/stack-list-with-limit.ipynb#X10sZmlsZQ%3D%3D?line=9'>10</a>\u001b[0m         values\u001b[39m.\u001b[39mappend(\u001b[39mstr\u001b[39m(x))\n\u001b[0;32m     <a href='vscode-notebook-cell:/c%3A/Jimmy/Codeholic/dsa-hacker/stack/stack-list-with-limit.ipynb#X10sZmlsZQ%3D%3D?line=10'>11</a>\u001b[0m     \u001b[39m# reversing the order\u001b[39;00m\n",
      "\u001b[1;31mTypeError\u001b[0m: 'NoneType' object is not iterable"
     ]
    }
   ],
   "source": [
    "customStack.delete()\n",
    "print(customStack)"
   ]
  }
 ],
 "metadata": {
  "kernelspec": {
   "display_name": "Python 3.10.5 64-bit (windows store)",
   "language": "python",
   "name": "python3"
  },
  "language_info": {
   "codemirror_mode": {
    "name": "ipython",
    "version": 3
   },
   "file_extension": ".py",
   "mimetype": "text/x-python",
   "name": "python",
   "nbconvert_exporter": "python",
   "pygments_lexer": "ipython3",
   "version": "3.10.5"
  },
  "orig_nbformat": 4,
  "vscode": {
   "interpreter": {
    "hash": "d4f3e11e2836f35932dc1a63fc1e1ad4837c0ab0c25aa80f2018a328ee87e0d8"
   }
  }
 },
 "nbformat": 4,
 "nbformat_minor": 2
}
