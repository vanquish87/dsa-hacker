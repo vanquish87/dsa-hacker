{
 "cells": [
  {
   "cell_type": "code",
   "execution_count": 76,
   "metadata": {},
   "outputs": [],
   "source": [
    "class Node:\n",
    "    def __init__(self, data):\n",
    "        self.data = data\n",
    "        self.next = None\n",
    "\n",
    "\n",
    "class Linkedlist():\n",
    "    def __init__(self):\n",
    "        self.head = None\n",
    "        "
   ]
  },
  {
   "cell_type": "code",
   "execution_count": 77,
   "metadata": {},
   "outputs": [],
   "source": [
    "class Stack:\n",
    "    def __init__(self):\n",
    "        self.linkedlist = Linkedlist()\n",
    "\n",
    "     # for display purposes\n",
    "    def __str__(self):\n",
    "        temp = self.linkedlist.head\n",
    "        values = []\n",
    "            \n",
    "        while temp:\n",
    "            values.append(str(temp.data))\n",
    "            temp = temp.next\n",
    "\n",
    "        return '\\n'.join(values)\n",
    "    \n",
    "\n",
    "    # isEmpty\n",
    "    def isEmpty(self):\n",
    "        if self.linkedlist.head == None:\n",
    "            return True\n",
    "        else:\n",
    "            return False\n",
    "\n",
    "\n",
    "    # push - to insert at the top\n",
    "    def push(self, data):\n",
    "        new_node = Node(data)\n",
    "        new_node.next = self.linkedlist.head\n",
    "        self.linkedlist.head = new_node\n",
    "\n",
    "\n",
    "    # pop - to delete from the start of the Llist\n",
    "    def pop(self):\n",
    "        if self.isEmpty():\n",
    "            return 'Stack is empty'\n",
    "        # only 1 node\n",
    "        elif self.linkedlist.head.next == None:\n",
    "            self.linkedlist.head = None\n",
    "        # long chain\n",
    "        elif self.linkedlist.head.next != None:\n",
    "            self.linkedlist.head = self.linkedlist.head.next\n",
    "\n",
    "\n",
    "    # peek - to give 1st node ie, top element\n",
    "    def peek(self):\n",
    "        return self.linkedlist.head.data\n",
    "\n",
    "    \n",
    "    def delete(self):\n",
    "        self.linkedlist.head = None\n",
    "        return 'Stack is deleted'\n",
    "\n"
   ]
  },
  {
   "cell_type": "code",
   "execution_count": 78,
   "metadata": {},
   "outputs": [
    {
     "data": {
      "text/plain": [
       "True"
      ]
     },
     "execution_count": 78,
     "metadata": {},
     "output_type": "execute_result"
    }
   ],
   "source": [
    "customStack = Stack()\n",
    "\n",
    "customStack.isEmpty()"
   ]
  },
  {
   "cell_type": "code",
   "execution_count": 79,
   "metadata": {},
   "outputs": [
    {
     "name": "stdout",
     "output_type": "stream",
     "text": [
      "6\n",
      "3\n",
      "8\n",
      "5\n"
     ]
    }
   ],
   "source": [
    "customStack.push(5)\n",
    "customStack.push(8)\n",
    "customStack.push(3)\n",
    "customStack.push(6)\n",
    "print(customStack)"
   ]
  },
  {
   "cell_type": "code",
   "execution_count": 80,
   "metadata": {},
   "outputs": [
    {
     "name": "stdout",
     "output_type": "stream",
     "text": [
      "3\n",
      "8\n",
      "5\n"
     ]
    }
   ],
   "source": [
    "customStack.pop()\n",
    "print(customStack)"
   ]
  },
  {
   "cell_type": "code",
   "execution_count": 81,
   "metadata": {},
   "outputs": [
    {
     "data": {
      "text/plain": [
       "3"
      ]
     },
     "execution_count": 81,
     "metadata": {},
     "output_type": "execute_result"
    }
   ],
   "source": [
    "customStack.peek()"
   ]
  },
  {
   "cell_type": "code",
   "execution_count": 82,
   "metadata": {},
   "outputs": [
    {
     "name": "stdout",
     "output_type": "stream",
     "text": [
      "\n"
     ]
    }
   ],
   "source": [
    "customStack.delete()\n",
    "print(customStack)"
   ]
  },
  {
   "cell_type": "code",
   "execution_count": 83,
   "metadata": {},
   "outputs": [
    {
     "data": {
      "text/plain": [
       "True"
      ]
     },
     "execution_count": 83,
     "metadata": {},
     "output_type": "execute_result"
    }
   ],
   "source": [
    "customStack1 = Stack()\n",
    "customStack.isEmpty()"
   ]
  },
  {
   "cell_type": "code",
   "execution_count": 84,
   "metadata": {},
   "outputs": [
    {
     "data": {
      "text/plain": [
       "'Stack is empty'"
      ]
     },
     "execution_count": 84,
     "metadata": {},
     "output_type": "execute_result"
    }
   ],
   "source": [
    "customStack1.pop()"
   ]
  },
  {
   "cell_type": "code",
   "execution_count": 85,
   "metadata": {},
   "outputs": [
    {
     "name": "stdout",
     "output_type": "stream",
     "text": [
      "1\n"
     ]
    }
   ],
   "source": [
    "customStack1.push(1)\n",
    "print(customStack1)"
   ]
  },
  {
   "cell_type": "code",
   "execution_count": 86,
   "metadata": {},
   "outputs": [
    {
     "name": "stdout",
     "output_type": "stream",
     "text": [
      "\n"
     ]
    }
   ],
   "source": [
    "customStack1.pop()\n",
    "print(customStack1)"
   ]
  }
 ],
 "metadata": {
  "kernelspec": {
   "display_name": "Python 3.10.5 64-bit (microsoft store)",
   "language": "python",
   "name": "python3"
  },
  "language_info": {
   "codemirror_mode": {
    "name": "ipython",
    "version": 3
   },
   "file_extension": ".py",
   "mimetype": "text/x-python",
   "name": "python",
   "nbconvert_exporter": "python",
   "pygments_lexer": "ipython3",
   "version": "3.10.5"
  },
  "orig_nbformat": 4,
  "vscode": {
   "interpreter": {
    "hash": "d4f3e11e2836f35932dc1a63fc1e1ad4837c0ab0c25aa80f2018a328ee87e0d8"
   }
  }
 },
 "nbformat": 4,
 "nbformat_minor": 2
}
