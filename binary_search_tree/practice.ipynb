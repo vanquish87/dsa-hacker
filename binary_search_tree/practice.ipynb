{
 "cells": [
  {
   "cell_type": "markdown",
   "metadata": {},
   "source": [
    "Binary search treee using Linked List"
   ]
  },
  {
   "cell_type": "code",
   "execution_count": 135,
   "metadata": {},
   "outputs": [],
   "source": [
    "class BSTNode:\n",
    "    def __init__(self, data):\n",
    "        self.data = data\n",
    "        self.leftChild = None\n",
    "        self.rightChild = None"
   ]
  },
  {
   "cell_type": "code",
   "execution_count": 136,
   "metadata": {},
   "outputs": [],
   "source": [
    "def insertNode(rootNode, nodeValue):\n",
    "    if rootNode.data == None:\n",
    "        rootNode.data = nodeValue\n",
    "    elif nodeValue <= rootNode.data:\n",
    "        if rootNode.leftChild is None:\n",
    "            rootNode.leftChild = BSTNode(nodeValue)\n",
    "        else:\n",
    "            insertNode(rootNode.leftChild, nodeValue)\n",
    "\n",
    "    else:\n",
    "        if rootNode.rightChild is None:\n",
    "            rootNode.rightChild = BSTNode(nodeValue)\n",
    "        else:\n",
    "            insertNode(rootNode.rightChild, nodeValue)\n",
    "\n",
    "    return 'Succesfully inserted'"
   ]
  },
  {
   "cell_type": "code",
   "execution_count": 137,
   "metadata": {},
   "outputs": [],
   "source": [
    "newBST = BSTNode(None)"
   ]
  },
  {
   "cell_type": "code",
   "execution_count": 138,
   "metadata": {},
   "outputs": [
    {
     "data": {
      "text/plain": [
       "'Succesfully inserted'"
      ]
     },
     "execution_count": 138,
     "metadata": {},
     "output_type": "execute_result"
    }
   ],
   "source": [
    "insertNode(newBST, 70)\n",
    "insertNode(newBST, 60)\n",
    "insertNode(newBST, 80)\n",
    "insertNode(newBST, 50)\n",
    "insertNode(newBST, 65)\n",
    "insertNode(newBST, 75)\n",
    "insertNode(newBST, 90)"
   ]
  },
  {
   "cell_type": "code",
   "execution_count": 139,
   "metadata": {},
   "outputs": [
    {
     "data": {
      "text/plain": [
       "70"
      ]
     },
     "execution_count": 139,
     "metadata": {},
     "output_type": "execute_result"
    }
   ],
   "source": [
    "newBST.data"
   ]
  },
  {
   "cell_type": "code",
   "execution_count": 140,
   "metadata": {},
   "outputs": [
    {
     "data": {
      "text/plain": [
       "60"
      ]
     },
     "execution_count": 140,
     "metadata": {},
     "output_type": "execute_result"
    }
   ],
   "source": [
    "newBST.leftChild.data"
   ]
  },
  {
   "cell_type": "code",
   "execution_count": 141,
   "metadata": {},
   "outputs": [
    {
     "data": {
      "text/plain": [
       "80"
      ]
     },
     "execution_count": 141,
     "metadata": {},
     "output_type": "execute_result"
    }
   ],
   "source": [
    "newBST.rightChild.data"
   ]
  },
  {
   "cell_type": "code",
   "execution_count": 142,
   "metadata": {},
   "outputs": [],
   "source": [
    "def preOrderTraversal(rootNode):\n",
    "    if not rootNode:\n",
    "        return\n",
    "    print(rootNode.data)\n",
    "    preOrderTraversal(rootNode.leftChild)\n",
    "    preOrderTraversal(rootNode.rightChild)"
   ]
  },
  {
   "cell_type": "code",
   "execution_count": 143,
   "metadata": {},
   "outputs": [
    {
     "name": "stdout",
     "output_type": "stream",
     "text": [
      "70\n",
      "60\n",
      "50\n",
      "65\n",
      "80\n",
      "75\n",
      "90\n"
     ]
    }
   ],
   "source": [
    "preOrderTraversal(newBST)"
   ]
  },
  {
   "cell_type": "code",
   "execution_count": 144,
   "metadata": {},
   "outputs": [],
   "source": [
    "def inOrderTraversal(rootNode):\n",
    "    if not rootNode:\n",
    "        return\n",
    "    inOrderTraversal(rootNode.leftChild)\n",
    "    print(rootNode.data)\n",
    "    inOrderTraversal(rootNode.rightChild)"
   ]
  },
  {
   "cell_type": "code",
   "execution_count": 145,
   "metadata": {},
   "outputs": [
    {
     "name": "stdout",
     "output_type": "stream",
     "text": [
      "50\n",
      "60\n",
      "65\n",
      "70\n",
      "75\n",
      "80\n",
      "90\n"
     ]
    }
   ],
   "source": [
    "inOrderTraversal(newBST)"
   ]
  },
  {
   "cell_type": "code",
   "execution_count": 146,
   "metadata": {},
   "outputs": [],
   "source": [
    "def PostOrderTraversal(rootNode):\n",
    "    if not rootNode:\n",
    "        return\n",
    "    PostOrderTraversal(rootNode.leftChild)\n",
    "    PostOrderTraversal(rootNode.rightChild)\n",
    "    print(rootNode.data)"
   ]
  },
  {
   "cell_type": "code",
   "execution_count": 147,
   "metadata": {},
   "outputs": [
    {
     "name": "stdout",
     "output_type": "stream",
     "text": [
      "50\n",
      "65\n",
      "60\n",
      "75\n",
      "90\n",
      "80\n",
      "70\n"
     ]
    }
   ],
   "source": [
    "PostOrderTraversal(newBST)"
   ]
  },
  {
   "cell_type": "markdown",
   "metadata": {},
   "source": [
    "LevelOrder Traversal"
   ]
  },
  {
   "cell_type": "markdown",
   "metadata": {},
   "source": [
    "For this we need LinkedList based Queue first"
   ]
  },
  {
   "cell_type": "code",
   "execution_count": 148,
   "metadata": {},
   "outputs": [],
   "source": [
    "class Node:\n",
    "        def __init__(self, data):\n",
    "            self.data = data\n",
    "            self.next = None\n",
    "\n",
    "\n",
    "class Linkedlist():\n",
    "    def __init__(self):\n",
    "        self.head = None\n",
    "        "
   ]
  },
  {
   "cell_type": "code",
   "execution_count": 149,
   "metadata": {},
   "outputs": [],
   "source": [
    "class Queue:\n",
    "    def __init__(self):\n",
    "        self.linkedlist = Linkedlist()\n",
    "\n",
    "     # for display purposes\n",
    "    def __str__(self):\n",
    "        temp = self.linkedlist.head\n",
    "        values = []\n",
    "            \n",
    "        while temp:\n",
    "            values.append(str(temp.data))\n",
    "            temp = temp.next\n",
    "\n",
    "        if self.linkedlist.head != None:\n",
    "            return ' '.join(values)\n",
    "        else:\n",
    "            return 'Linkedlist does not exist'\n",
    "    \n",
    "\n",
    "    # isEmpty\n",
    "    def isEmpty(self):\n",
    "        if self.linkedlist.head == None:\n",
    "            return True\n",
    "        else:\n",
    "            return False\n",
    "\n",
    "\n",
    "    # enqueue - to insert at the last position (FIFO)\n",
    "    def enqueue(self, data):\n",
    "        new_node = Node(data)\n",
    "        if self.linkedlist.head == None:\n",
    "            self.linkedlist.head = new_node\n",
    "        \n",
    "        else:\n",
    "            last = self.linkedlist.head\n",
    "\n",
    "            while last.next:\n",
    "                last = last.next\n",
    "            # Change the next of last node\n",
    "            last.next = new_node\n",
    "\n",
    "\n",
    "    # pop - to delete from first position (FIFO)\n",
    "    def dequeue(self):\n",
    "        if self.isEmpty():\n",
    "            return 'Queue is empty'\n",
    "        # only 1 node\n",
    "        elif self.linkedlist.head.next == None:\n",
    "            self.linkedlist.head = None\n",
    "        # long chain\n",
    "        elif self.linkedlist.head.next != None:\n",
    "            self.linkedlist.head = self.linkedlist.head.next\n",
    "\n",
    "\n",
    "    # peek - to give 1st node ie, first element\n",
    "    def peek(self):\n",
    "        return self.linkedlist.head.data\n",
    "\n",
    "    \n",
    "    def delete(self):\n",
    "        self.linkedlist.head = None\n",
    "        return 'Queue is deleted'"
   ]
  },
  {
   "cell_type": "code",
   "execution_count": 150,
   "metadata": {},
   "outputs": [],
   "source": [
    "def levelOrderTraversal(rootNode):\n",
    "    if not rootNode:\n",
    "        return\n",
    "    else:\n",
    "        customQueue = Queue()\n",
    "        customQueue.enqueue(rootNode)\n",
    "\n",
    "        while customQueue.isEmpty() == False:\n",
    "            print(customQueue.peek().data)\n",
    "            # customQueue.peek() is actually a TreeNode object ie rootNode\n",
    "            if customQueue.peek().leftChild is not None:\n",
    "                customQueue.enqueue(customQueue.peek().leftChild)\n",
    "\n",
    "            if customQueue.peek().rightChild is not None:\n",
    "                customQueue.enqueue(customQueue.peek().rightChild)\n",
    "            \n",
    "            customQueue.dequeue()\n",
    "            "
   ]
  },
  {
   "cell_type": "code",
   "execution_count": 151,
   "metadata": {},
   "outputs": [
    {
     "name": "stdout",
     "output_type": "stream",
     "text": [
      "70\n",
      "60\n",
      "80\n",
      "50\n",
      "65\n",
      "75\n",
      "90\n"
     ]
    }
   ],
   "source": [
    "levelOrderTraversal(newBST)"
   ]
  },
  {
   "cell_type": "code",
   "execution_count": 152,
   "metadata": {},
   "outputs": [],
   "source": [
    "def searchNode(rootNode, nodeValue):\n",
    "\n",
    "    if rootNode is None or rootNode.leftChild is None or rootNode.rightChild is None:\n",
    "        print('Nothing is found')\n",
    "        return None\n",
    "\n",
    "\n",
    "    elif rootNode.data == nodeValue:\n",
    "        print('Value is found 1')\n",
    "        return rootNode\n",
    "\n",
    "\n",
    "    elif nodeValue < rootNode.data:\n",
    "        if rootNode.leftChild.data == nodeValue: \n",
    "            print('Value is found 2')\n",
    "            print(rootNode.leftChild.data)\n",
    "            return rootNode.leftChild\n",
    "        else:\n",
    "            searchNode(rootNode.leftChild, nodeValue)\n",
    "            \n",
    "\n",
    "\n",
    "    elif nodeValue > rootNode.data:\n",
    "        if rootNode.rightChild.data == nodeValue:\n",
    "            print('Value is found 3')\n",
    "            return rootNode.rightChild\n",
    "        else:\n",
    "            searchNode(rootNode.rightChild, nodeValue)\n",
    "        \n",
    "\n",
    "    # return rootNode.leftChild.data\n"
   ]
  },
  {
   "cell_type": "code",
   "execution_count": 153,
   "metadata": {},
   "outputs": [],
   "source": [
    "# aa = searchNode(newBST, 50)\n",
    "\n",
    "# aa.data"
   ]
  },
  {
   "cell_type": "code",
   "execution_count": 154,
   "metadata": {},
   "outputs": [],
   "source": [
    "def minValueNode(bstNode):\n",
    "    current = bstNode\n",
    "    while bstNode.leftChild is not None:\n",
    "        current = bstNode.leftChild\n",
    "    \n",
    "    return current"
   ]
  },
  {
   "cell_type": "code",
   "execution_count": 155,
   "metadata": {},
   "outputs": [],
   "source": [
    "def deleteNode(rootNode, nodeValue):\n",
    "    if not rootNode:\n",
    "        return rootNode\n",
    "\n",
    "    if nodeValue < rootNode.data:\n",
    "        rootNode.leftChild = deleteNode(rootNode.leftChild, nodeValue)\n",
    "        return rootNode\n",
    "        \n",
    "    if nodeValue > rootNode.data:\n",
    "        rootNode.rightChild = deleteNode(rootNode.rightChild, nodeValue)\n",
    "        return rootNode\n",
    "    \n",
    "    else:\n",
    "        # We reach here when root is the node\n",
    "        # to be deleted.\n",
    "        # If root node is a leaf node\n",
    "        \n",
    "        if rootNode.leftChild is None and rootNode.rightChild is None:\n",
    "            return None\n",
    "\n",
    "        # if only 1 child is present\n",
    "        if rootNode.leftChild is None:\n",
    "            temp = rootNode.rightChild\n",
    "            rootNode = None\n",
    "            return temp\n",
    "            \n",
    "        if rootNode.rightChild is None:\n",
    "            temp = rootNode.leftChild\n",
    "            rootNode = None\n",
    "            return temp\n",
    "        \n",
    "        # # If both children exist\n",
    "        succParent = rootNode\n",
    "    \n",
    "        # Find Successor\n",
    "        succ = rootNode.rightChild\n",
    "    \n",
    "        while succ.leftChild != None:\n",
    "            succParent = succ\n",
    "            succ = succ.leftChild\n",
    "    \n",
    "        # Delete successor.Since successor\n",
    "        # is always left child of its parent\n",
    "        # we can safely make successor's right\n",
    "        # right child as left of its parent.\n",
    "        # If there is no succ, then assign\n",
    "        # succ->right to succParent->right\n",
    "        if succParent != rootNode:\n",
    "            succParent.leftChild = succ.rightChild\n",
    "        else:\n",
    "            succParent.rightChild = succ.rightChild\n",
    "    \n",
    "        # Copy Successor Data to root\n",
    "    \n",
    "        rootNode.key = succ.key\n",
    "    \n",
    "    return rootNode\n",
    "\n",
    "\n",
    "    "
   ]
  },
  {
   "cell_type": "code",
   "execution_count": 157,
   "metadata": {},
   "outputs": [
    {
     "data": {
      "text/plain": [
       "<__main__.BSTNode at 0x15e84749930>"
      ]
     },
     "execution_count": 157,
     "metadata": {},
     "output_type": "execute_result"
    }
   ],
   "source": [
    "deleteNode(newBST, 60)"
   ]
  },
  {
   "cell_type": "code",
   "execution_count": 158,
   "metadata": {},
   "outputs": [
    {
     "name": "stdout",
     "output_type": "stream",
     "text": [
      "70\n",
      "50\n",
      "80\n",
      "75\n",
      "90\n"
     ]
    }
   ],
   "source": [
    "levelOrderTraversal(newBST)"
   ]
  },
  {
   "cell_type": "code",
   "execution_count": 159,
   "metadata": {},
   "outputs": [],
   "source": [
    "def deleteBST(rootNode):\n",
    "    rootNode.data = None\n",
    "    rootNode.rightChild = None\n",
    "    rootNode.leftChild = None\n",
    "    return 'BST is deleted'"
   ]
  },
  {
   "cell_type": "code",
   "execution_count": 160,
   "metadata": {},
   "outputs": [
    {
     "data": {
      "text/plain": [
       "'BST is deleted'"
      ]
     },
     "execution_count": 160,
     "metadata": {},
     "output_type": "execute_result"
    }
   ],
   "source": [
    "deleteBST(newBST)"
   ]
  },
  {
   "cell_type": "code",
   "execution_count": 161,
   "metadata": {},
   "outputs": [
    {
     "name": "stdout",
     "output_type": "stream",
     "text": [
      "None\n"
     ]
    }
   ],
   "source": [
    "levelOrderTraversal(newBST)"
   ]
  }
 ],
 "metadata": {
  "kernelspec": {
   "display_name": "Python 3.10.5 64-bit (microsoft store)",
   "language": "python",
   "name": "python3"
  },
  "language_info": {
   "codemirror_mode": {
    "name": "ipython",
    "version": 3
   },
   "file_extension": ".py",
   "mimetype": "text/x-python",
   "name": "python",
   "nbconvert_exporter": "python",
   "pygments_lexer": "ipython3",
   "version": "3.10.5"
  },
  "orig_nbformat": 4,
  "vscode": {
   "interpreter": {
    "hash": "d4f3e11e2836f35932dc1a63fc1e1ad4837c0ab0c25aa80f2018a328ee87e0d8"
   }
  }
 },
 "nbformat": 4,
 "nbformat_minor": 2
}
