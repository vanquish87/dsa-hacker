{
 "cells": [
  {
   "cell_type": "code",
   "execution_count": 28,
   "metadata": {},
   "outputs": [
    {
     "data": {
      "text/plain": [
       "['This', 'is', 'so', 'awesome']"
      ]
     },
     "execution_count": 28,
     "metadata": {},
     "output_type": "execute_result"
    }
   ],
   "source": [
    "words = 'This-is-so-awesome'\n",
    "list_word = words.split('-')\n",
    "\n",
    "list_word"
   ]
  },
  {
   "cell_type": "code",
   "execution_count": 12,
   "metadata": {},
   "outputs": [
    {
     "data": {
      "text/plain": [
       "'This is so awesome'"
      ]
     },
     "execution_count": 12,
     "metadata": {},
     "output_type": "execute_result"
    }
   ],
   "source": [
    "back_to_word = ' '.join(list_word)\n",
    "\n",
    "back_to_word"
   ]
  },
  {
   "cell_type": "markdown",
   "metadata": {},
   "source": [
    "Q4: Find the product of two integer in a array with maximum value.\n"
   ]
  },
  {
   "cell_type": "code",
   "execution_count": 23,
   "metadata": {},
   "outputs": [
    {
     "name": "stdout",
     "output_type": "stream",
     "text": [
      "58 and 57 are the highest numbers\n",
      "Product is :3306\n"
     ]
    }
   ],
   "source": [
    "list_num = [1, 30, 20, 19, 44, 33, 41, 12, 45, 57, 23, 34, 58, 3, 17]\n",
    "\n",
    "max1 = max(list_num)\n",
    "list_num.remove(max1)\n",
    "max2 = max(list_num)\n",
    "\n",
    "print(f'{max1} and {max2} are the highest numbers' )\n",
    "product = max1 * max2\n",
    "print(f'Product is :{product}')"
   ]
  },
  {
   "cell_type": "code",
   "execution_count": 24,
   "metadata": {},
   "outputs": [
    {
     "name": "stdout",
     "output_type": "stream",
     "text": [
      "45,57\n",
      "2565\n"
     ]
    }
   ],
   "source": [
    "def findMaxProduct(array):\n",
    "    maxProduct = 0\n",
    "    for i in range(len(array)):\n",
    "        for j in range(i+1,len(array)):\n",
    "            if array[i]*array[j] > maxProduct:\n",
    "                maxProduct = array[i]*array[j]\n",
    "                pairs = str(array[i])+ \",\" + str(array[j])\n",
    "    print(pairs)\n",
    "    print(maxProduct)\n",
    "\n",
    "findMaxProduct(list_num)"
   ]
  }
 ],
 "metadata": {
  "kernelspec": {
   "display_name": "Python 3.10.5 64-bit (windows store)",
   "language": "python",
   "name": "python3"
  },
  "language_info": {
   "codemirror_mode": {
    "name": "ipython",
    "version": 3
   },
   "file_extension": ".py",
   "mimetype": "text/x-python",
   "name": "python",
   "nbconvert_exporter": "python",
   "pygments_lexer": "ipython3",
   "version": "3.10.5"
  },
  "orig_nbformat": 4,
  "vscode": {
   "interpreter": {
    "hash": "d4f3e11e2836f35932dc1a63fc1e1ad4837c0ab0c25aa80f2018a328ee87e0d8"
   }
  }
 },
 "nbformat": 4,
 "nbformat_minor": 2
}
