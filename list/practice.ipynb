{
 "cells": [
  {
   "cell_type": "code",
   "execution_count": 274,
   "metadata": {},
   "outputs": [
    {
     "data": {
      "text/plain": [
       "['This', 'is', 'so', 'awesome']"
      ]
     },
     "execution_count": 274,
     "metadata": {},
     "output_type": "execute_result"
    }
   ],
   "source": [
    "words = 'This-is-so-awesome'\n",
    "list_word = words.split('-')\n",
    "\n",
    "list_word"
   ]
  },
  {
   "cell_type": "code",
   "execution_count": 275,
   "metadata": {},
   "outputs": [
    {
     "data": {
      "text/plain": [
       "'This is so awesome'"
      ]
     },
     "execution_count": 275,
     "metadata": {},
     "output_type": "execute_result"
    }
   ],
   "source": [
    "back_to_word = ' '.join(list_word)\n",
    "\n",
    "back_to_word"
   ]
  },
  {
   "cell_type": "markdown",
   "metadata": {},
   "source": [
    "Q4: Find the product of two integer in a array with maximum value.\n"
   ]
  },
  {
   "cell_type": "code",
   "execution_count": 276,
   "metadata": {},
   "outputs": [
    {
     "name": "stdout",
     "output_type": "stream",
     "text": [
      "58 and 57 are the highest numbers\n",
      "Product is :3306\n"
     ]
    }
   ],
   "source": [
    "list_num = [1, 30, 20, 19, 44, 33, 41, 12, 45, 57, 23, 34, 58, 3, 17]\n",
    "\n",
    "max1 = max(list_num)\n",
    "list_num.remove(max1)\n",
    "max2 = max(list_num)\n",
    "\n",
    "print(f'{max1} and {max2} are the highest numbers' )\n",
    "product = max1 * max2\n",
    "print(f'Product is :{product}')"
   ]
  },
  {
   "cell_type": "code",
   "execution_count": 277,
   "metadata": {},
   "outputs": [
    {
     "data": {
      "text/plain": [
       "(58, 57, 3306)"
      ]
     },
     "execution_count": 277,
     "metadata": {},
     "output_type": "execute_result"
    }
   ],
   "source": [
    "list_num = [1, 30, 20, 19, 44, 33, 41, 12, 45, 57, 23, 34, 58, 3, 17]\n",
    "\n",
    "max1 = 0\n",
    "max2 = 0\n",
    "for i in list_num:\n",
    "    if i > max1:\n",
    "        max1 = i\n",
    "\n",
    "for i in list_num:\n",
    "    if i > max2 and i != max1:\n",
    "        max2 = i\n",
    "\n",
    "max1, max2, max1 * max2"
   ]
  },
  {
   "cell_type": "code",
   "execution_count": 278,
   "metadata": {},
   "outputs": [
    {
     "data": {
      "text/plain": [
       "3306"
      ]
     },
     "execution_count": 278,
     "metadata": {},
     "output_type": "execute_result"
    }
   ],
   "source": [
    "list_num = [1, 30, 20, 19, 44, 33, 41, 12, 45, 57, 23, 34, 58, 3, 17]\n",
    "\n",
    "list_num.sort()\n",
    "x = list_num[-1] * list_num[-2]\n",
    "x"
   ]
  },
  {
   "cell_type": "code",
   "execution_count": 279,
   "metadata": {},
   "outputs": [
    {
     "name": "stdout",
     "output_type": "stream",
     "text": [
      "57, 58\n",
      "3306\n"
     ]
    }
   ],
   "source": [
    "def findMaxProduct(array):\n",
    "    maxProduct = 0\n",
    "    for i in range(len(array)):\n",
    "        for j in range(i+1,len(array)):\n",
    "            if array[i]*array[j] > maxProduct:\n",
    "                maxProduct = array[i]*array[j]\n",
    "                pairs = str(array[i])+ \", \" + str(array[j])\n",
    "    print(pairs)\n",
    "    print(maxProduct)\n",
    "\n",
    "findMaxProduct(list_num)\n"
   ]
  },
  {
   "cell_type": "markdown",
   "metadata": {},
   "source": [
    "Q5: Find the missing number in an integer array of 1 to 100"
   ]
  },
  {
   "cell_type": "code",
   "execution_count": 280,
   "metadata": {},
   "outputs": [
    {
     "name": "stdout",
     "output_type": "stream",
     "text": [
      "[1, 2, 3, 4, 5, 6, 7, 8, 9, 10, 11, 12, 13, 14, 15, 16, 17, 18, 19, 20, 21, 22, 23, 24, 25, 26, 27, 28, 29, 30, 31, 32, 33, 34, 35, 36, 37, 38, 39, 40, 41, 42, 43, 44, 45, 46, 47, 48, 49, 50, 51, 52, 53, 54, 55, 56, 57, 58, 59, 60, 61, 62, 63, 64, 65, 66, 67, 68, 69, 70, 71, 72, 73, 74, 75, 76, 77, 78, 79, 80, 81, 82, 83, 84, 85, 86, 87, 88, 89, 90, 91, 92, 93, 94, 95, 96, 97, 98, 99, 100]"
     ]
    }
   ],
   "source": [
    "array_100 = []\n",
    "for i in range(1, 101):\n",
    "    array_100.append(i)\n",
    "\n",
    "print(array_100, end='')"
   ]
  },
  {
   "cell_type": "code",
   "execution_count": 281,
   "metadata": {},
   "outputs": [
    {
     "data": {
      "text/plain": [
       "51"
      ]
     },
     "execution_count": 281,
     "metadata": {},
     "output_type": "execute_result"
    }
   ],
   "source": [
    "array_100 = [1, 2, 3, 4, 5, 6, 7, 8, 9, 10, 11, 12, 13, 14, 15, 16, 17, 18, 19, 20, 21, 22, 23, 24, 25, 26, 27, 28, 29, 30, 31, 32, 33, 34, 35, 36, 37, 38, 39, 40, 41, 42, 43, 44, 45, 46, 47, 48, 49, 50, 52, 53, 54, 55, 56, 57, 58, 59, 60, 61, 62, 63, 64, 65, 66, 67, 68, 69, 70, 71, 72, 73, 74, 75, 76, 77, 78, 79, 80, 81, 82, 83, 84, 85, 86, 87, 88, 89, 90, 91, 92, 93, 94, 95, 96, 97, 98, 99, 100]\n",
    "\n",
    "# Arithmetic Progression n*(n+1)/2\n",
    "\n",
    "sum_upto_100 = 100 * ( 100 + 1 ) / 2\n",
    "\n",
    "missing_num = int(sum_upto_100) - sum(array_100)\n",
    "\n",
    "missing_num\n"
   ]
  },
  {
   "cell_type": "markdown",
   "metadata": {},
   "source": [
    "Q6: Find all pairs of integers whose sum is equal to given number\n",
    "\n",
    "nums = [2, 5, 8, 12, 15]\n",
    "\n",
    "target = 10\n",
    "output = [0, 2]"
   ]
  },
  {
   "cell_type": "markdown",
   "metadata": {},
   "source": [
    "[0] + [1]\n",
    "[0] + [2]\n",
    "[0] + [3]"
   ]
  },
  {
   "cell_type": "code",
   "execution_count": 282,
   "metadata": {},
   "outputs": [
    {
     "name": "stdout",
     "output_type": "stream",
     "text": [
      "12 15\n"
     ]
    }
   ],
   "source": [
    "nums = [2, 5, 8, 12, 15]\n",
    "\n",
    "target = 27\n",
    "\n",
    "for i in range(len(nums)):\n",
    "    for j in range(i+1, len(nums)):\n",
    "        if nums[i] + nums[j] == target:\n",
    "            print(nums[i], nums[j])\n",
    "        "
   ]
  },
  {
   "cell_type": "code",
   "execution_count": 283,
   "metadata": {},
   "outputs": [
    {
     "name": "stdout",
     "output_type": "stream",
     "text": [
      "(12, 15)\n"
     ]
    }
   ],
   "source": [
    "nums_dict = {}\n",
    "\n",
    "for i in nums:\n",
    "    if i not in nums_dict:\n",
    "        nums_dict[i] = 1\n",
    "    else:\n",
    "        nums_dict[i] += 1\n",
    "\n",
    "sum_pairs = {}\n",
    "\n",
    "for j in nums_dict:\n",
    "    needed = target - j\n",
    "    if needed in nums_dict:\n",
    "        x = (j, needed)\n",
    "        y = tuple(sorted(x))\n",
    "        sum_pairs[y] = True\n",
    "\n",
    "for k in sum_pairs:\n",
    "    print(k)"
   ]
  },
  {
   "cell_type": "code",
   "execution_count": 284,
   "metadata": {},
   "outputs": [
    {
     "data": {
      "text/plain": [
       "'Positive\\\\n\\\\nPositive\\\\n\\\\nPositive\\\\n\\\\n35 (Hax.)\\\\n\\\\nNegative\\\\n\\\\nPosit1ve\\\\n\\\\nPositive\\\\n\\\\nPositive\\\\n\\\\n35 (Hax.)\\\\n\\\\nPacking High density polyethylene carboy'"
      ]
     },
     "execution_count": 284,
     "metadata": {},
     "output_type": "execute_result"
    }
   ],
   "source": [
    "sentence = '''The applications shall be duly signed with all signatures in original. All pages of\n",
    "the application form and every additional sheet should be initialed by the\n",
    "authorized signatory of the applicant. Please state the name of the authorized\n",
    "signatory and affix thereon the initial and signature on the last page of the form.\n",
    "In case of an Authorized signatory, please '''\n",
    "\n",
    "word = 'signatory'\n",
    "\n",
    "x = 0\n",
    "if word in sentence:\n",
    "    x = sentence.index(word)\n",
    "\n",
    "x\n",
    "\n",
    "sentence[x:x+150]"
   ]
  }
 ],
 "metadata": {
  "kernelspec": {
   "display_name": "Python 3.10.5 64-bit (microsoft store)",
   "language": "python",
   "name": "python3"
  },
  "language_info": {
   "codemirror_mode": {
    "name": "ipython",
    "version": 3
   },
   "file_extension": ".py",
   "mimetype": "text/x-python",
   "name": "python",
   "nbconvert_exporter": "python",
   "pygments_lexer": "ipython3",
   "version": "3.10.5"
  },
  "orig_nbformat": 4,
  "vscode": {
   "interpreter": {
    "hash": "d4f3e11e2836f35932dc1a63fc1e1ad4837c0ab0c25aa80f2018a328ee87e0d8"
   }
  }
 },
 "nbformat": 4,
 "nbformat_minor": 2
}
