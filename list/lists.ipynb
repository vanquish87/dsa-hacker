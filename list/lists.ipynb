{
 "cells": [
  {
   "cell_type": "code",
   "execution_count": 16,
   "metadata": {},
   "outputs": [
    {
     "name": "stdout",
     "output_type": "stream",
     "text": [
      "Milk+\n",
      "Cheese+\n",
      "Butter+\n"
     ]
    }
   ],
   "source": [
    "shoppingList = ['Milk', 'Cheese', 'Butter']\n",
    "\n",
    "for i in range(len(shoppingList)):\n",
    "    shoppingList[i] = shoppingList[i]+\"+\"\n",
    "    print(shoppingList[i])"
   ]
  },
  {
   "cell_type": "code",
   "execution_count": 5,
   "metadata": {},
   "outputs": [],
   "source": [
    "empty = []\n",
    "for i in empty:\n",
    "    print(\"I am empty\")"
   ]
  },
  {
   "cell_type": "code",
   "execution_count": 6,
   "metadata": {},
   "outputs": [
    {
     "name": "stdout",
     "output_type": "stream",
     "text": [
      "[1, 2, 3, 4, 5, 6, 7]\n"
     ]
    }
   ],
   "source": [
    "# Update/Insert - List \n",
    "myList = [1,2,3,4,5,6,7]\n",
    "print(myList)"
   ]
  },
  {
   "cell_type": "code",
   "execution_count": 7,
   "metadata": {},
   "outputs": [
    {
     "name": "stdout",
     "output_type": "stream",
     "text": [
      "[1, 2, 3, 4, 15, 5, 6, 7]\n"
     ]
    }
   ],
   "source": [
    "myList.insert(4,15)\n",
    "print(myList)"
   ]
  },
  {
   "cell_type": "code",
   "execution_count": 19,
   "metadata": {},
   "outputs": [
    {
     "name": "stdout",
     "output_type": "stream",
     "text": [
      "[10, 20, 30, 40, 50, 60, 70, 80, 90, 55, 55, 55]\n"
     ]
    }
   ],
   "source": [
    "myList.append(55)\n",
    "print(myList)"
   ]
  },
  {
   "cell_type": "code",
   "execution_count": 9,
   "metadata": {},
   "outputs": [
    {
     "name": "stdout",
     "output_type": "stream",
     "text": [
      "[1, 2, 3, 4, 15, 5, 6, 7, 55, 11, 12, 13, 14]\n"
     ]
    }
   ],
   "source": [
    "newList = [11,12,13,14]\n",
    "myList.extend(newList)\n",
    "print(myList)"
   ]
  },
  {
   "cell_type": "code",
   "execution_count": 10,
   "metadata": {},
   "outputs": [],
   "source": [
    "#  Searching for an element in the List\n",
    "myList =  [10,20,30,40,50,60,70,80,90]\n",
    "\n",
    "def searchinList(list, value):\n",
    "    for i in list:\n",
    "        if i == value:\n",
    "            return list.index(value)\n",
    "    return 'The value does not exist in the list'"
   ]
  },
  {
   "cell_type": "code",
   "execution_count": 11,
   "metadata": {},
   "outputs": [
    {
     "name": "stdout",
     "output_type": "stream",
     "text": [
      "3\n"
     ]
    }
   ],
   "source": [
    "print(searchinList(myList, 40))"
   ]
  },
  {
   "cell_type": "code",
   "execution_count": 12,
   "metadata": {},
   "outputs": [
    {
     "name": "stdout",
     "output_type": "stream",
     "text": [
      "The value does not exist in the list\n"
     ]
    }
   ],
   "source": [
    "print(searchinList(myList, 100))"
   ]
  },
  {
   "cell_type": "code",
   "execution_count": 13,
   "metadata": {},
   "outputs": [
    {
     "name": "stdout",
     "output_type": "stream",
     "text": [
      "Average: 50.5\n"
     ]
    }
   ],
   "source": [
    "#  List operations / functions\n",
    "total = 0 \n",
    "count = 0\n",
    "while (True):\n",
    "    inp = input('Enter a number: ') \n",
    "    if inp == 'done': break\n",
    "    value = float(inp)\n",
    "    total = total + value\n",
    "    count = count + 1 \n",
    "    average = total / count\n",
    "\t\t\t\t\t\n",
    "print('Average:', average)"
   ]
  },
  {
   "cell_type": "code",
   "execution_count": 14,
   "metadata": {},
   "outputs": [
    {
     "name": "stdout",
     "output_type": "stream",
     "text": [
      "Average: 104.2\n"
     ]
    }
   ],
   "source": [
    "numlist = list() \n",
    "while (True):\n",
    "    inp = input('Enter a number: ') \n",
    "    if inp == 'done': break\n",
    "    value = float(inp)\n",
    "    numlist.append(value)\n",
    "\t\t\t\t\t\n",
    "average = sum(numlist) / len(numlist) \n",
    "print('Average:', average)\n"
   ]
  }
 ],
 "metadata": {
  "kernelspec": {
   "display_name": "env",
   "language": "python",
   "name": "env"
  },
  "language_info": {
   "codemirror_mode": {
    "name": "ipython",
    "version": 3
   },
   "file_extension": ".py",
   "mimetype": "text/x-python",
   "name": "python",
   "nbconvert_exporter": "python",
   "pygments_lexer": "ipython3",
   "version": "3.10.5"
  },
  "orig_nbformat": 4
 },
 "nbformat": 4,
 "nbformat_minor": 2
}
