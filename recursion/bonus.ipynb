{
 "cells": [
  {
   "cell_type": "markdown",
   "metadata": {},
   "source": [
    "Q1: Product of all the elements of an array"
   ]
  },
  {
   "cell_type": "markdown",
   "metadata": {},
   "source": [
    "Step 1: Recursive Case\n",
    "\n",
    "x = [1, 2, 3, 4]\n",
    "\n",
    "multiply = x[n] * x[n-1] * x[n-2]..... x[0] \n"
   ]
  },
  {
   "cell_type": "markdown",
   "metadata": {},
   "source": [
    "Step 2: Base Case\n",
    "\n",
    "if len is 0 = nothing then stop"
   ]
  },
  {
   "cell_type": "code",
   "execution_count": 12,
   "metadata": {},
   "outputs": [
    {
     "data": {
      "text/plain": [
       "144"
      ]
     },
     "execution_count": 12,
     "metadata": {},
     "output_type": "execute_result"
    }
   ],
   "source": [
    "from array import *\n",
    "\n",
    "def arrayMultiply(numbers):\n",
    "    if len(numbers) == 0:\n",
    "        return 1\n",
    "    else:\n",
    "        return numbers[-1] * arrayMultiply(numbers[0:-1])\n",
    "\n",
    "\n",
    "numbers = array('i',[1,2,3,4,6])\n",
    "arrayMultiply(numbers)"
   ]
  },
  {
   "cell_type": "markdown",
   "metadata": {},
   "source": [
    "Q2: Reverse a string in recursion"
   ]
  },
  {
   "cell_type": "markdown",
   "metadata": {},
   "source": [
    "Step1: Recursion case\n",
    "\n",
    "string = 'python'\n",
    "\n",
    "string[-1] + string[-2]..."
   ]
  },
  {
   "cell_type": "markdown",
   "metadata": {},
   "source": [
    "Step2: Base case\n",
    "\n",
    "if len is 0 = nothing then stop"
   ]
  },
  {
   "cell_type": "code",
   "execution_count": 13,
   "metadata": {},
   "outputs": [
    {
     "data": {
      "text/plain": [
       "'ymmijahsi'"
      ]
     },
     "execution_count": 13,
     "metadata": {},
     "output_type": "execute_result"
    }
   ],
   "source": [
    "def reverseStr(word):\n",
    "    if len(word) == 0:\n",
    "        return word\n",
    "    else:\n",
    "        return str(word[-1]) + str(reverseStr(word[0:-1])) \n",
    "\n",
    "word = 'ishajimmy'\n",
    "\n",
    "reverseStr(word)"
   ]
  },
  {
   "cell_type": "markdown",
   "metadata": {},
   "source": [
    "Q3: Is string a palindrome??"
   ]
  },
  {
   "cell_type": "markdown",
   "metadata": {},
   "source": [
    "Extending Q2... to compare strings"
   ]
  },
  {
   "cell_type": "code",
   "execution_count": 14,
   "metadata": {},
   "outputs": [
    {
     "name": "stdout",
     "output_type": "stream",
     "text": [
      "False\n"
     ]
    }
   ],
   "source": [
    "if reverseStr(word) == word:\n",
    "    print(True)\n",
    "else:\n",
    "    print(False)\n",
    "    "
   ]
  },
  {
   "cell_type": "markdown",
   "metadata": {},
   "source": [
    "Q4: Capital first letter"
   ]
  },
  {
   "cell_type": "markdown",
   "metadata": {},
   "source": [
    "Step1: Recursion case\n",
    "\n",
    "words = ['apple', 'dog', 'maserati', 'inspira']\n",
    "\n",
    "list[0].capitalize() + list[1:]"
   ]
  },
  {
   "cell_type": "markdown",
   "metadata": {},
   "source": [
    "Step2: Base case\n",
    "\n",
    "list len is 0 then return list"
   ]
  },
  {
   "cell_type": "code",
   "execution_count": 15,
   "metadata": {},
   "outputs": [
    {
     "data": {
      "text/plain": [
       "['Apple', 'Dog', 'Maserati', 'Inspira']"
      ]
     },
     "execution_count": 15,
     "metadata": {},
     "output_type": "execute_result"
    }
   ],
   "source": [
    "def capitalizeWord(words):\n",
    "    capitalized = []\n",
    "    if len(words) == 0:\n",
    "        return capitalized\n",
    "    else:\n",
    "        capitalized.append(words[0].capitalize())\n",
    "        return capitalized + capitalizeWord(words[1:])\n",
    "\n",
    "words = ['apple', 'dog', 'maserati', 'inspira']\n",
    "\n",
    "capitalizeWord(words)"
   ]
  },
  {
   "cell_type": "markdown",
   "metadata": {},
   "source": [
    "Q5: Capital whole word"
   ]
  },
  {
   "cell_type": "markdown",
   "metadata": {},
   "source": [
    "Step1: Recursion case\n",
    "\n",
    "words = ['apple', 'dog', 'maserati', 'inspira']\n",
    "\n",
    "list[0].upper() + list[1:]"
   ]
  },
  {
   "cell_type": "markdown",
   "metadata": {},
   "source": [
    "Step2: Base case\n",
    "\n",
    "list len is 0 then return list"
   ]
  },
  {
   "cell_type": "code",
   "execution_count": 16,
   "metadata": {},
   "outputs": [
    {
     "data": {
      "text/plain": [
       "['APPLE', 'DOG', 'MASERATI', 'INSPIRA']"
      ]
     },
     "execution_count": 16,
     "metadata": {},
     "output_type": "execute_result"
    }
   ],
   "source": [
    "def capitalizeWord(words):\n",
    "    upper_words = []\n",
    "    if len(words) == 0:\n",
    "        return upper_words\n",
    "    else:\n",
    "        upper_words.append(words[0].upper())\n",
    "        return upper_words + capitalizeWord(words[1:])\n",
    "\n",
    "words = ['apple', 'dog', 'maserati', 'inspira']\n",
    "\n",
    "capitalizeWord(words)"
   ]
  }
 ],
 "metadata": {
  "kernelspec": {
   "display_name": "Python 3.10.5 64-bit (microsoft store)",
   "language": "python",
   "name": "python3"
  },
  "language_info": {
   "codemirror_mode": {
    "name": "ipython",
    "version": 3
   },
   "file_extension": ".py",
   "mimetype": "text/x-python",
   "name": "python",
   "nbconvert_exporter": "python",
   "pygments_lexer": "ipython3",
   "version": "3.10.5"
  },
  "orig_nbformat": 4,
  "vscode": {
   "interpreter": {
    "hash": "d4f3e11e2836f35932dc1a63fc1e1ad4837c0ab0c25aa80f2018a328ee87e0d8"
   }
  }
 },
 "nbformat": 4,
 "nbformat_minor": 2
}
