{
 "cells": [
  {
   "attachments": {},
   "cell_type": "markdown",
   "metadata": {},
   "source": [
    "new"
   ]
  },
  {
   "cell_type": "code",
   "execution_count": 34,
   "metadata": {},
   "outputs": [
    {
     "name": "stdout",
     "output_type": "stream",
     "text": [
      "hgnis teemsaj\n"
     ]
    }
   ],
   "source": [
    "x = 'jasmeet singh'\n",
    "\n",
    "print(x[::-1])"
   ]
  },
  {
   "cell_type": "code",
   "execution_count": 35,
   "metadata": {},
   "outputs": [
    {
     "name": "stdout",
     "output_type": "stream",
     "text": [
      "[1, 3, 5]\n"
     ]
    }
   ],
   "source": [
    "lst = [1, 2, 3, 4, 5]\n",
    "\n",
    "lst1 = []\n",
    "\n",
    "for i in range(len(lst)):\n",
    "    if lst[i] % 2 != 0:\n",
    "        lst1.append(lst[i])\n",
    "\n",
    "print(lst1)"
   ]
  },
  {
   "cell_type": "code",
   "execution_count": 36,
   "metadata": {},
   "outputs": [],
   "source": [
    "def postive_only(funct):\n",
    "    def wrapper(n):\n",
    "        if n >= 0 :\n",
    "            positive = funct(n)        \n",
    "            return positive\n",
    "        else:\n",
    "            print('Negative number not allowed')\n",
    "    \n",
    "    return wrapper\n",
    "\n",
    "\n",
    "@postive_only\n",
    "def square_number(n):\n",
    "    return n**2\n"
   ]
  },
  {
   "cell_type": "code",
   "execution_count": 37,
   "metadata": {},
   "outputs": [
    {
     "name": "stdout",
     "output_type": "stream",
     "text": [
      "Negative number not allowed\n"
     ]
    }
   ],
   "source": [
    "square_number(-2)"
   ]
  },
  {
   "cell_type": "code",
   "execution_count": 38,
   "metadata": {},
   "outputs": [
    {
     "data": {
      "text/plain": [
       "25"
      ]
     },
     "execution_count": 38,
     "metadata": {},
     "output_type": "execute_result"
    }
   ],
   "source": [
    "square_number(5)"
   ]
  },
  {
   "cell_type": "code",
   "execution_count": null,
   "metadata": {},
   "outputs": [],
   "source": [
    "from flask import session, request, flash, abort\n",
    "\n",
    "class Student(db.Model)\n",
    "\n",
    "@app.route('/register')['POST', 'GET']\n",
    "\n",
    "\n",
    "\n",
    "app = Flask.flask(__name__)"
   ]
  }
 ],
 "metadata": {
  "kernelspec": {
   "display_name": "env",
   "language": "python",
   "name": "env"
  },
  "language_info": {
   "codemirror_mode": {
    "name": "ipython",
    "version": 3
   },
   "file_extension": ".py",
   "mimetype": "text/x-python",
   "name": "python",
   "nbconvert_exporter": "python",
   "pygments_lexer": "ipython3",
   "version": "3.10.5"
  },
  "orig_nbformat": 4
 },
 "nbformat": 4,
 "nbformat_minor": 2
}
