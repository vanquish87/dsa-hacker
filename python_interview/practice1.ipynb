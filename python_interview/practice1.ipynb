{
 "cells": [
  {
   "cell_type": "code",
   "execution_count": 87,
   "metadata": {},
   "outputs": [],
   "source": [
    "def find(letters, big, new):\n",
    "    if letters == []:\n",
    "        return new\n",
    "    for i in range(len(big)):\n",
    "        if letters[0] == big[i]:\n",
    "            letters.pop(0)\n",
    "            big = big[i:]\n",
    "            new.append(big)\n",
    "            break\n",
    "        elif letters[0] not in big:\n",
    "            return 'not found'\n",
    "            \n",
    "    return find(letters, big, new)\n",
    "\n",
    "\n",
    "def available(big, small):\n",
    "    letters = []\n",
    "    for letter in small:\n",
    "        letters.append(letter)\n",
    "\n",
    "    new = []\n",
    "    new = find(letters, big, new)\n",
    "    \n",
    "    print(new)\n",
    "\n",
    "    consists = False\n",
    "\n",
    "    for i in range(1, len(new)):\n",
    "        if new[i] in new[0]:\n",
    "            consists = True\n",
    "        else:\n",
    "            consists = False\n",
    "\n",
    "    # if new[-1] in new[0]:\n",
    "    #     print(new[-1])\n",
    "\n",
    "\n",
    "    return new[0]"
   ]
  },
  {
   "cell_type": "code",
   "execution_count": 88,
   "metadata": {},
   "outputs": [
    {
     "name": "stdout",
     "output_type": "stream",
     "text": [
      "['zoomaths', 'oomaths', 'oomaths']\n"
     ]
    },
    {
     "data": {
      "text/plain": [
       "'zoomaths'"
      ]
     },
     "execution_count": 88,
     "metadata": {},
     "output_type": "execute_result"
    }
   ],
   "source": [
    "big = 'arithemeticinzoomaths'\n",
    "small = 'zoo'\n",
    "\n",
    "available(big, small)"
   ]
  },
  {
   "attachments": {},
   "cell_type": "markdown",
   "metadata": {},
   "source": [
    "Given 2 sorted List, Lst1 and Lst2 of size N each. Merge the given lists and find the sum of the two middle elements of the merged lists.\n",
    "\n",
    "    Input:\n",
    "        N = 5\n",
    "        Lst1[] = [1, 2, 4, 6, 10]\n",
    "        Lst2[] = [4, 5, 6, 9, 12]\n",
    "        Output: 11"
   ]
  },
  {
   "cell_type": "code",
   "execution_count": 89,
   "metadata": {},
   "outputs": [],
   "source": [
    "def  BubbleSort(arr):\n",
    "    for j in range(len(arr)):\n",
    "        \n",
    "        # using this to break loop asap sorting is done\n",
    "        sorted = True\n",
    "        for i in range(len(arr)):\n",
    "            if (i+1) < len(arr):\n",
    "                if arr[i] > arr[i+1]:\n",
    "                    sorted = False\n",
    "                    # inverting values\n",
    "                    arr[i], arr[i+1] = arr[i+1], arr[i]\n",
    "        \n",
    "        if sorted == True:\n",
    "            return arr\n",
    "\n",
    "        print(arr)\n",
    "    return arr\n",
    "\n",
    "def Sum_middle(list1, list2):\n",
    "    arr = list1 + list2\n",
    "    final_arr = BubbleSort(arr)\n",
    "\n",
    "    sum_middle = final_arr[int(len(final_arr) / 2)] + final_arr[int(len(final_arr) / 2) -1]\n",
    "\n",
    "    return sum_middle\n"
   ]
  },
  {
   "cell_type": "code",
   "execution_count": 90,
   "metadata": {},
   "outputs": [
    {
     "name": "stdout",
     "output_type": "stream",
     "text": [
      "[1, 2, 4, 6, 4, 5, 6, 9, 10, 12]\n",
      "[1, 2, 4, 4, 5, 6, 6, 9, 10, 12]\n"
     ]
    },
    {
     "data": {
      "text/plain": [
       "11"
      ]
     },
     "execution_count": 90,
     "metadata": {},
     "output_type": "execute_result"
    }
   ],
   "source": [
    "Lst1 = [1, 2, 4, 6, 10]\n",
    "Lst2 = [4, 5, 6, 9, 12]\n",
    "\n",
    "Sum_middle(Lst1, Lst2)"
   ]
  },
  {
   "attachments": {},
   "cell_type": "markdown",
   "metadata": {},
   "source": [
    "List having both positive and negative integers. The task is to compute the length of the largest sublist with sum 0, also print that sublist\n",
    "\n",
    "        \tInput N = 8 //Size of List\n",
    "        \tL = [15,-2,2,-8,1,7,10,23] \n",
    "        \tOutput: 5 and sublist is -2 2 -8 1 7\n",
    "Explanation: The largest subarray with sum 0 will be -2 2 -8 1 7."
   ]
  },
  {
   "cell_type": "code",
   "execution_count": 91,
   "metadata": {},
   "outputs": [
    {
     "name": "stdout",
     "output_type": "stream",
     "text": [
      "{2: [[-2, 2]], 3: [[-2, -8, 10], [-8, 1, 7]], 5: [[-2, 2, -8, 1, 7]]}\n",
      "5\n",
      "[-2, 2, -8, 1, 7]\n"
     ]
    }
   ],
   "source": [
    "from itertools import combinations\n",
    " \n",
    "# Get all combinations of [1, 2, 3]\n",
    "# and length 2\n",
    "lst = [15,-2,2,-8,1,7,10,23] \n",
    "# lst = [15,-2,23] \n",
    "\n",
    "\n",
    "comb_list = []\n",
    "\n",
    "for i in range(1, len(lst)+1):\n",
    "    comb = combinations(lst, i)\n",
    "    comb_list.append(comb)\n",
    " \n",
    "zero = {}\n",
    "for i in comb_list:\n",
    "    # Print the obtained combinations\n",
    "    for j in list(i):\n",
    "        if sum(j) == 0:\n",
    "            if len(j) not in zero:\n",
    "                zero[len(j)] = [list(j)]\n",
    "            else:\n",
    "                zero[len(j)] += [list(j)]\n",
    "            \n",
    "            \n",
    "print(zero)\n",
    "print(list(zero)[-1])\n",
    "print(zero[list(zero)[-1]][0])"
   ]
  },
  {
   "attachments": {},
   "cell_type": "markdown",
   "metadata": {},
   "source": [
    "Find the first element that occurs at least K number of times.\n",
    "\n",
    "        \tInput :\n",
    "        \tN = 7, K = 2\n",
    "        \tList[] = [1, 7, 4, 3, 4, 8, 7]\n",
    "        \tOutput : 4\n",
    "where N is the List of N integers"
   ]
  },
  {
   "cell_type": "code",
   "execution_count": 92,
   "metadata": {},
   "outputs": [],
   "source": [
    "def FirstNum(arr, k):\n",
    "    num_dict = {}\n",
    "    for i in arr:\n",
    "        if i in num_dict:\n",
    "            num_dict[i] += 1\n",
    "        else:\n",
    "            num_dict[i] = 1\n",
    "\n",
    "    for num in num_dict:\n",
    "        if num_dict[num] == k:\n",
    "            return num\n",
    "\n",
    "    return num_dict"
   ]
  },
  {
   "cell_type": "code",
   "execution_count": 93,
   "metadata": {},
   "outputs": [
    {
     "data": {
      "text/plain": [
       "7"
      ]
     },
     "execution_count": 93,
     "metadata": {},
     "output_type": "execute_result"
    }
   ],
   "source": [
    "list1 = [1, 7, 4, 3, 4, 8, 7]\n",
    "k = 2\n",
    "\n",
    "FirstNum(list1, k)"
   ]
  },
  {
   "cell_type": "code",
   "execution_count": 94,
   "metadata": {},
   "outputs": [
    {
     "name": "stdout",
     "output_type": "stream",
     "text": [
      "[3, 4, 1, 2, 5]\n"
     ]
    }
   ],
   "source": [
    "import datetime\n",
    "\n",
    "my_list = [1, 2, 3, 4, 5]\n",
    "\n",
    "# Use current date and time to generate a seed value\n",
    "seed_value = int(datetime.datetime.now().timestamp())\n",
    "\n",
    "# Define a function to generate a pseudo-random number based on the seed value\n",
    "def pseudo_random(seed):\n",
    "    a = 1103515245\n",
    "    c = 12345\n",
    "    m = 2 ** 31\n",
    "    seed = (a * seed + c) % m\n",
    "    return seed\n",
    "\n",
    "# Shuffle the list using the pseudo-random number generator\n",
    "for i in range(len(my_list)-1, 0, -1):\n",
    "    j = pseudo_random(seed_value) % (i+1)\n",
    "    my_list[i], my_list[j] = my_list[j], my_list[i]\n",
    "\n",
    "print(my_list)\n"
   ]
  },
  {
   "attachments": {},
   "cell_type": "markdown",
   "metadata": {},
   "source": [
    "Using Pickling in Cache - Serializing"
   ]
  },
  {
   "cell_type": "code",
   "execution_count": 95,
   "metadata": {},
   "outputs": [
    {
     "name": "stdout",
     "output_type": "stream",
     "text": [
      "Data: {'key1': 'value1', 'key2': 'value2'}, Time: 1.0021836757659912\n",
      "Data: b'\\x80\\x04\\x95%\\x00\\x00\\x00\\x00\\x00\\x00\\x00}\\x94(\\x8c\\x04key1\\x94\\x8c\\x06value1\\x94\\x8c\\x04key2\\x94\\x8c\\x06value2\\x94u.', Time: 0.0\n",
      "Data: b'\\x80\\x04\\x95%\\x00\\x00\\x00\\x00\\x00\\x00\\x00}\\x94(\\x8c\\x04key1\\x94\\x8c\\x06value1\\x94\\x8c\\x04key2\\x94\\x8c\\x06value2\\x94u.', Time: 0.0\n",
      "Data: b'\\x80\\x04\\x95%\\x00\\x00\\x00\\x00\\x00\\x00\\x00}\\x94(\\x8c\\x04key1\\x94\\x8c\\x06value1\\x94\\x8c\\x04key2\\x94\\x8c\\x06value2\\x94u.', Time: 0.0\n",
      "Data: b'\\x80\\x04\\x95%\\x00\\x00\\x00\\x00\\x00\\x00\\x00}\\x94(\\x8c\\x04key1\\x94\\x8c\\x06value1\\x94\\x8c\\x04key2\\x94\\x8c\\x06value2\\x94u.', Time: 0.0\n"
     ]
    }
   ],
   "source": [
    "import pickle\n",
    "import time\n",
    "\n",
    "# Define a function to get data from a database or an API\n",
    "def get_data():\n",
    "    # Simulate getting data from a database or an API\n",
    "    time.sleep(1)\n",
    "    return {\"key1\": \"value1\", \"key2\": \"value2\"}\n",
    "\n",
    "# Define a cache dictionary\n",
    "cache = {}\n",
    "\n",
    "# Define a function to get data from the cache or fetch it from the database/API and cache it\n",
    "def get_cached_data():\n",
    "    # Check if the data is in the cache\n",
    "    if \"data\" in cache:\n",
    "        # If the data is in the cache, return it\n",
    "        return cache[\"data\"]\n",
    "    else:\n",
    "        # If the data is not in the cache, fetch it from the database/API\n",
    "        data = get_data()\n",
    "        # Cache the data by pickling it and storing it in the cache dictionary\n",
    "        cache[\"data\"] = pickle.dumps(data)\n",
    "        # Return the data\n",
    "        return data\n",
    "\n",
    "# Call the get_cached_data function multiple times\n",
    "for i in range(5):\n",
    "    start_time = time.time()\n",
    "    data = get_cached_data()\n",
    "    end_time = time.time()\n",
    "    print(f\"Data: {data}, Time: {end_time - start_time}\")\n"
   ]
  },
  {
   "attachments": {},
   "cell_type": "markdown",
   "metadata": {},
   "source": [
    "Change index of a list / How can you randomize the items of a list;\n",
    "\n",
    " if the list is [1,2,3,4,5,6]--no library methods, use custom"
   ]
  },
  {
   "cell_type": "code",
   "execution_count": 96,
   "metadata": {},
   "outputs": [],
   "source": [
    "import datetime\n",
    "\n",
    "def randomizing(arr):\n",
    "    now = datetime.datetime.utcnow()\n",
    "    \n",
    "    for i in range(len(arr)-1):\n",
    "        multiple = (now.microsecond * i) % 9\n",
    "        if multiple == 0:\n",
    "            arr[i], arr[i+multiple] = arr[i+multiple], arr[i]\n",
    "            \n",
    "        elif multiple == 1:\n",
    "            try:\n",
    "                arr[i], arr[i+multiple+1] = arr[i+multiple+1], arr[i]\n",
    "            except:\n",
    "                arr[i], arr[i+1] = arr[i+1], arr[i]\n",
    "        else:\n",
    "            arr[i], arr[i-multiple] = arr[i-multiple], arr[i]\n",
    "\n",
    "    return arr\n"
   ]
  },
  {
   "cell_type": "code",
   "execution_count": 149,
   "metadata": {},
   "outputs": [
    {
     "data": {
      "text/plain": [
       "[0, 3, 5, 6, 7, 4, 8, 9, 10, 2, 1]"
      ]
     },
     "execution_count": 149,
     "metadata": {},
     "output_type": "execute_result"
    }
   ],
   "source": [
    "arr = [0, 1, 2, 3, 4, 5, 6, 7, 8, 9, 10]\n",
    "\n",
    "randomizing(arr)"
   ]
  }
 ],
 "metadata": {
  "kernelspec": {
   "display_name": "env",
   "language": "python",
   "name": "env"
  },
  "language_info": {
   "codemirror_mode": {
    "name": "ipython",
    "version": 3
   },
   "file_extension": ".py",
   "mimetype": "text/x-python",
   "name": "python",
   "nbconvert_exporter": "python",
   "pygments_lexer": "ipython3",
   "version": "3.10.5"
  },
  "orig_nbformat": 4
 },
 "nbformat": 4,
 "nbformat_minor": 2
}
