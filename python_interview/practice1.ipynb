{
 "cells": [
  {
   "cell_type": "code",
   "execution_count": 24,
   "metadata": {},
   "outputs": [],
   "source": [
    "def find(letters, big, new):\n",
    "    if letters == []:\n",
    "        return new\n",
    "    for i in range(len(big)):\n",
    "        if letters[0] == big[i]:\n",
    "            letters.pop(0)\n",
    "            big = big[i:]\n",
    "            new.append(big)\n",
    "            break\n",
    "        elif letters[0] not in big:\n",
    "            return 'not found'\n",
    "            \n",
    "    return find(letters, big, new)\n",
    "\n",
    "\n",
    "def available(big, small):\n",
    "    letters = []\n",
    "    for letter in small:\n",
    "        letters.append(letter)\n",
    "\n",
    "    new = []\n",
    "    new = find(letters, big, new)\n",
    "    \n",
    "    print(new)\n",
    "\n",
    "    consists = False\n",
    "\n",
    "    for i in range(1, len(new)):\n",
    "        if new[i] in new[0]:\n",
    "            consists = True\n",
    "        else:\n",
    "            consists = False\n",
    "\n",
    "    # if new[-1] in new[0]:\n",
    "    #     print(new[-1])\n",
    "\n",
    "\n",
    "    return new[0]"
   ]
  },
  {
   "cell_type": "code",
   "execution_count": 25,
   "metadata": {},
   "outputs": [
    {
     "name": "stdout",
     "output_type": "stream",
     "text": [
      "['zoomaths', 'oomaths', 'oomaths', 'aths']\n"
     ]
    },
    {
     "data": {
      "text/plain": [
       "'zoomaths'"
      ]
     },
     "execution_count": 25,
     "metadata": {},
     "output_type": "execute_result"
    }
   ],
   "source": [
    "big = 'arithemeticinzoomaths'\n",
    "small = 'zooa'\n",
    "\n",
    "available(big, small)"
   ]
  }
 ],
 "metadata": {
  "kernelspec": {
   "display_name": "env",
   "language": "python",
   "name": "env"
  },
  "language_info": {
   "codemirror_mode": {
    "name": "ipython",
    "version": 3
   },
   "file_extension": ".py",
   "mimetype": "text/x-python",
   "name": "python",
   "nbconvert_exporter": "python",
   "pygments_lexer": "ipython3",
   "version": "3.10.5"
  },
  "orig_nbformat": 4
 },
 "nbformat": 4,
 "nbformat_minor": 2
}
