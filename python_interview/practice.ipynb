{
 "cells": [
  {
   "cell_type": "markdown",
   "metadata": {},
   "source": [
    "Common letters between two Strings\n"
   ]
  },
  {
   "cell_type": "code",
   "execution_count": 423,
   "metadata": {},
   "outputs": [],
   "source": [
    "def CommonLetters(line1, line2):\n",
    "    dict_line1 = {}\n",
    "    for i in line1:\n",
    "        if i not in dict_line1:\n",
    "            dict_line1[i] = 1\n",
    "    \n",
    "    common = []\n",
    "\n",
    "    for j in line2:\n",
    "        if j in dict_line1:\n",
    "            common.append(j)\n",
    "    \n",
    "    return common"
   ]
  },
  {
   "cell_type": "code",
   "execution_count": 424,
   "metadata": {},
   "outputs": [
    {
     "data": {
      "text/plain": [
       "['n', 't', 'a']"
      ]
     },
     "execution_count": 424,
     "metadata": {},
     "output_type": "execute_result"
    }
   ],
   "source": [
    "line1 = 'nainapaltu'\n",
    "line2 = 'reeneta'\n",
    "CommonLetters(line1, line2)"
   ]
  },
  {
   "cell_type": "markdown",
   "metadata": {},
   "source": [
    "Count the frequency of words appearing in the string"
   ]
  },
  {
   "cell_type": "code",
   "execution_count": 425,
   "metadata": {},
   "outputs": [],
   "source": [
    "def WordCount(line):\n",
    "    list_line = line.split(' ')\n",
    "    for i in range(len(list_line)):\n",
    "        if list_line[i][-1] == '.':\n",
    "            list_line[i] = list_line[i][:-1]\n",
    "\n",
    "    line_dict = {}\n",
    "    for i in range(len(list_line)):\n",
    "        if list_line[i] in line_dict:\n",
    "            line_dict[list_line[i]] += 1\n",
    "        else:\n",
    "            line_dict[list_line[i]] = 1\n",
    "    \n",
    "    return line_dict\n"
   ]
  },
  {
   "cell_type": "code",
   "execution_count": 426,
   "metadata": {},
   "outputs": [
    {
     "data": {
      "text/plain": [
       "{'Sheena': 1,\n",
       " 'lovest': 1,\n",
       " 'eating': 2,\n",
       " 'apple': 2,\n",
       " 'and': 2,\n",
       " 'mango': 2,\n",
       " 'Her': 1,\n",
       " 'Sister': 1,\n",
       " 'also': 1,\n",
       " 'loves': 1}"
      ]
     },
     "execution_count": 426,
     "metadata": {},
     "output_type": "execute_result"
    }
   ],
   "source": [
    "line = 'Sheena lovest eating apple and mango. Her Sister also loves eating apple and mango'\n",
    "WordCount(line)"
   ]
  },
  {
   "cell_type": "markdown",
   "metadata": {},
   "source": [
    "Convert 2 list into dict"
   ]
  },
  {
   "cell_type": "code",
   "execution_count": 427,
   "metadata": {},
   "outputs": [],
   "source": [
    "def listToDict(list1, list2):\n",
    "    list_dict = {}\n",
    "    for i in range(len(list1)):\n",
    "        list_dict[list1[i]] = list2[i]\n",
    "\n",
    "    return list_dict\n",
    "        \n"
   ]
  },
  {
   "cell_type": "code",
   "execution_count": 428,
   "metadata": {},
   "outputs": [
    {
     "data": {
      "text/plain": [
       "{'Naina': 234, 'Kimi': 324, 'Sheena': 5756}"
      ]
     },
     "execution_count": 428,
     "metadata": {},
     "output_type": "execute_result"
    }
   ],
   "source": [
    "list1 = ['Naina', 'Kimi', 'Sheena']\n",
    "list2 = [234, 324, 5756]\n",
    "\n",
    "listToDict(list1, list2)"
   ]
  },
  {
   "cell_type": "markdown",
   "metadata": {},
   "source": [
    "Find the missing numbers"
   ]
  },
  {
   "cell_type": "code",
   "execution_count": 429,
   "metadata": {},
   "outputs": [],
   "source": [
    "def missing(arr):\n",
    "    initial = arr[0]\n",
    "    for i in range(len(arr)):\n",
    "        if arr[i] == initial + i:\n",
    "            pass\n",
    "        else:\n",
    "            return initial + i\n"
   ]
  },
  {
   "cell_type": "code",
   "execution_count": 430,
   "metadata": {},
   "outputs": [
    {
     "data": {
      "text/plain": [
       "3"
      ]
     },
     "execution_count": 430,
     "metadata": {},
     "output_type": "execute_result"
    }
   ],
   "source": [
    "arr = [1, 2, 4, 5, 6, 7]\n",
    "\n",
    "missing(arr)"
   ]
  },
  {
   "cell_type": "markdown",
   "metadata": {},
   "source": [
    "Find out pairs with given sum value of an array"
   ]
  },
  {
   "cell_type": "code",
   "execution_count": 431,
   "metadata": {},
   "outputs": [],
   "source": [
    "def pairs(arr, sums):\n",
    "    nums = {}\n",
    "    for i in arr:\n",
    "        if i not in nums:\n",
    "            nums[i] = i\n",
    "\n",
    "    pairs = []\n",
    "\n",
    "    for j in nums:\n",
    "        to_find = sums - int(j)\n",
    "        if to_find in nums and [to_find, j] not in pairs:\n",
    "            pairs.append([j, to_find])\n",
    "\n",
    "    return pairs"
   ]
  },
  {
   "cell_type": "code",
   "execution_count": 432,
   "metadata": {},
   "outputs": [
    {
     "data": {
      "text/plain": [
       "[[9, 8]]"
      ]
     },
     "execution_count": 432,
     "metadata": {},
     "output_type": "execute_result"
    }
   ],
   "source": [
    "arr = [5, 7, 4, 3, 9, 8, 19, 21]\n",
    "sums = 17\n",
    "\n",
    "pairs(arr, sums)"
   ]
  },
  {
   "cell_type": "markdown",
   "metadata": {},
   "source": [
    "Lenght of last word"
   ]
  },
  {
   "cell_type": "code",
   "execution_count": 433,
   "metadata": {},
   "outputs": [],
   "source": [
    "def lenLastWord(words):\n",
    "    words_all = words.split(' ')\n",
    "    \n",
    "    return len(words_all[-1])"
   ]
  },
  {
   "cell_type": "code",
   "execution_count": 434,
   "metadata": {},
   "outputs": [
    {
     "data": {
      "text/plain": [
       "8"
      ]
     },
     "execution_count": 434,
     "metadata": {},
     "output_type": "execute_result"
    }
   ],
   "source": [
    "words = 'Hello NetSetOS'\n",
    "\n",
    "lenLastWord(words)"
   ]
  },
  {
   "cell_type": "markdown",
   "metadata": {},
   "source": [
    "Remove duplicates in array"
   ]
  },
  {
   "cell_type": "code",
   "execution_count": 435,
   "metadata": {},
   "outputs": [],
   "source": [
    "def removeDuplicate(arr):\n",
    "    unique_dict = {}\n",
    "\n",
    "    for i in arr:\n",
    "        if i not in unique_dict:\n",
    "            unique_dict[i] = i\n",
    "\n",
    "    unique_arr = []\n",
    "    \n",
    "    for i in unique_dict:\n",
    "        unique_arr.append(unique_dict[i])\n",
    "    \n",
    "    return unique_arr"
   ]
  },
  {
   "cell_type": "code",
   "execution_count": 436,
   "metadata": {},
   "outputs": [
    {
     "data": {
      "text/plain": [
       "[1, 2, 3, 4, 5]"
      ]
     },
     "execution_count": 436,
     "metadata": {},
     "output_type": "execute_result"
    }
   ],
   "source": [
    "arr = [1, 1, 2, 2, 2, 3, 4, 4, 4, 5, 5]\n",
    "\n",
    "removeDuplicate(arr)"
   ]
  },
  {
   "cell_type": "markdown",
   "metadata": {},
   "source": [
    "Trapping Rain water"
   ]
  },
  {
   "cell_type": "code",
   "execution_count": 437,
   "metadata": {},
   "outputs": [],
   "source": [
    "def rainTrap(arr):\n",
    "    trapped = 0\n",
    "\n",
    "    for i in range(len(arr)):\n",
    "        if (i+2) < len(arr):\n",
    "            \n",
    "            # print(arr[i], arr[i+1], arr[i+2])\n",
    "\n",
    "            if arr[i+1] < arr[i] and arr[i+1] < arr[i+2]:\n",
    "                if arr[i] < arr[i+2]:\n",
    "                    # print(arr[i])\n",
    "                    trapped += arr[i] \n",
    "                else:\n",
    "                    # print(arr[i+2])\n",
    "                    trapped += arr[i+2] \n",
    "\n",
    "    return trapped\n",
    "                \n"
   ]
  },
  {
   "cell_type": "code",
   "execution_count": 438,
   "metadata": {},
   "outputs": [
    {
     "data": {
      "text/plain": [
       "4"
      ]
     },
     "execution_count": 438,
     "metadata": {},
     "output_type": "execute_result"
    }
   ],
   "source": [
    "arr = [1, 0, 2, 0, 1, 0, 3, 1, 0 , 2]\n",
    "rainTrap(arr)"
   ]
  },
  {
   "cell_type": "markdown",
   "metadata": {},
   "source": [
    "Max Sum of subarray"
   ]
  },
  {
   "cell_type": "code",
   "execution_count": 439,
   "metadata": {},
   "outputs": [],
   "source": [
    "def MaxSumSubArray(arr):\n",
    "    maxSum = arr[0]\n",
    "    total_sum = arr[0]\n",
    "\n",
    "    for i in range(1, len(arr)):\n",
    "\n",
    "        total_sum += arr[i]\n",
    "        if total_sum > maxSum:\n",
    "            maxSum = total_sum\n",
    "\n",
    "    return maxSum\n"
   ]
  },
  {
   "cell_type": "code",
   "execution_count": 440,
   "metadata": {},
   "outputs": [
    {
     "data": {
      "text/plain": [
       "2"
      ]
     },
     "execution_count": 440,
     "metadata": {},
     "output_type": "execute_result"
    }
   ],
   "source": [
    "arr = [4, -3, -2, 2, 3, 1, -2, -3, 6, -6, -4, 2, 1]\n",
    "\n",
    "MaxSumSubArray(arr)"
   ]
  }
 ],
 "metadata": {
  "kernelspec": {
   "display_name": "Python 3.10.5 64-bit (microsoft store)",
   "language": "python",
   "name": "python3"
  },
  "language_info": {
   "codemirror_mode": {
    "name": "ipython",
    "version": 3
   },
   "file_extension": ".py",
   "mimetype": "text/x-python",
   "name": "python",
   "nbconvert_exporter": "python",
   "pygments_lexer": "ipython3",
   "version": "3.10.5"
  },
  "orig_nbformat": 4,
  "vscode": {
   "interpreter": {
    "hash": "d4f3e11e2836f35932dc1a63fc1e1ad4837c0ab0c25aa80f2018a328ee87e0d8"
   }
  }
 },
 "nbformat": 4,
 "nbformat_minor": 2
}
