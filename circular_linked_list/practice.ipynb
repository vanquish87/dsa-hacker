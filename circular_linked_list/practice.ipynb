{
 "cells": [
  {
   "cell_type": "code",
   "execution_count": 124,
   "metadata": {},
   "outputs": [],
   "source": [
    "# Node class\n",
    "class Node:\n",
    "    def __init__(self, data):\n",
    "        # Assign data\n",
    "        self.data = data\n",
    "        # Initialize next as null\n",
    "        self.next = None"
   ]
  },
  {
   "cell_type": "code",
   "execution_count": 125,
   "metadata": {},
   "outputs": [],
   "source": [
    "# Circular Linkedlist class contains a Node object\n",
    "class CircularLinkedList:\n",
    "    \n",
    "    # initializing the head\n",
    "    def __init__(self):\n",
    "        self.head = None\n",
    "    \n",
    "    # function to insert first Node\n",
    "    def start(self, new_data):\n",
    "        if self.head == None:\n",
    "            # 1: Allocate the Node \n",
    "            # 2: Put in the data\n",
    "            new_node = Node(new_data)\n",
    "\n",
    "            # 3. Make next of new Node as Node itself (Circular)\n",
    "            new_node.next = new_node\n",
    "\n",
    "            # 4. Move the head to point to new Node\n",
    "            self.head = new_node\n",
    "        else:\n",
    "            print('Already node(s) exist in CircularLinkedList')\n",
    "\n",
    "    \n",
    "    # function to insert a New node at the beginning \n",
    "    def insertBegin(self, new_data):\n",
    "        if self.head != None:\n",
    "            # 1: Allocate the Node \n",
    "            # 2: Put in the data\n",
    "            new_node = Node(new_data)\n",
    "\n",
    "            # 3. Make next of new Node as head as it has pointed to 1st Node\n",
    "            new_node.next = self.head\n",
    "\n",
    "            # 4. Move the head to point to new Node\n",
    "            self.head = new_node\n",
    "\n",
    "            # 5. now create next of last node connect to new_node \n",
    "            last = self.head\n",
    "            while last:\n",
    "                last = last.next\n",
    "                # self.head.next will be pointed to initial 1st Node\n",
    "                if last.next == self.head.next:\n",
    "                    last.next = new_node\n",
    "                    break\n",
    "\n",
    "\n",
    "    # This function is in CircularLinkedList class. Inserts a\n",
    "    # new node after the given prev_node. This method is\n",
    "    # defined inside LinkedList class shown above */\n",
    "    # SAME AS LINKED LIST\n",
    "    def insertAfter(self, prev_node, new_data):\n",
    "        # 1. check if the given prev_node exists\n",
    "        if prev_node is None:\n",
    "            print(\"The given previous node must in LinkedList.\")\n",
    "            return\n",
    "\n",
    "        #  2. create new node &\n",
    "        # Put in the data\n",
    "        new_node = Node(new_data)\n",
    "\n",
    "        # 4. Make next of new Node as next of prev_node\n",
    "        new_node.next = prev_node.next\n",
    "\n",
    "        # 5. make next of prev_node as new_node\n",
    "        prev_node.next = new_node\n",
    "\n",
    "        \n",
    "    # Appends a new node at the end.  This method is\n",
    "    # defined inside CircularLinkedList class shown above */\n",
    "    def append(self, new_data):\n",
    "        # 1. Create a new node\n",
    "        # 2. Put in the data\n",
    "        new_node = Node(new_data)\n",
    "        \n",
    "        # 3. traverse till the last node\n",
    "        # point last node to new_node\n",
    "        last = self.head\n",
    "        while last:\n",
    "            last = last.next\n",
    "            # self.head will be pointed to 1st Node\n",
    "            if last.next == self.head:\n",
    "                last.next = new_node\n",
    "                break\n",
    "        # 4. now connect new_node to 1st Node\n",
    "        new_node.next = self.head\n",
    "    \n",
    "    \n",
    "    def delete(self, node):\n",
    "        # delete the only Node present in Llist\n",
    "        if node == self.head and node.next == node:\n",
    "            self.head = None\n",
    "\n",
    "        # delete the 1st node of a long linked list\n",
    "        elif node == self.head and node.next != None:\n",
    "            # traverse till the last node\n",
    "            # point last node to 2nd Node\n",
    "            last = self.head\n",
    "            while last:\n",
    "                last = last.next\n",
    "                # last.next will be pointed to 2nd Node\n",
    "                if last.next == self.head:\n",
    "                    last.next = self.head.next\n",
    "                    break\n",
    "            # now connect head to 2nd node\n",
    "            self.head = node.next\n",
    "\n",
    "        # delete any given node including last node\n",
    "        elif node != self.head :\n",
    "            temp = self.head\n",
    "            while (temp):\n",
    "                # temp.next is next node\n",
    "                # temp is node previous to node needs to be deleted\n",
    "                if temp.next.data ==  node.data:\n",
    "                    # pointing temp to node next to deleted node\n",
    "                    temp.next = node.next\n",
    "                    break\n",
    "                temp = temp.next\n",
    "            return 'Not found, cannot Delete'\n",
    "        \n",
    "\n",
    "\n",
    "    # Utility function to print the CircularLinkedList\n",
    "    def printList(self):\n",
    "    \n",
    "        temp = self.head\n",
    "        while temp:\n",
    "            # print in 1 line with space\n",
    "            print(temp.data,end=\", \")\n",
    "            temp = temp.next\n",
    "            # here temp will be Node1 n its next will be node2 ie, head.next\n",
    "            if temp.next == self.head.next:\n",
    "                break\n",
    "\n",
    "\n",
    "    # utility to check if the value exist in CircularLinkedList\n",
    "    def searchList(self, value):\n",
    "        temp = self.head\n",
    "        while temp:\n",
    "            if temp.data ==  value:\n",
    "                return print('\\nfound it', value)\n",
    "            temp = temp.next\n",
    "            if temp.next == self.head.next:\n",
    "                break\n",
    "        return print('\\nNot found')\n",
    "    \n",
    "\n",
    "    # get node in CircularLinkedList\n",
    "    def getNode(self, value):\n",
    "        temp = self.head\n",
    "        while temp:\n",
    "            if temp.data ==  value:\n",
    "                return temp\n",
    "            temp = temp.next\n",
    "            if temp.next == self.head.next:\n",
    "                break\n",
    "        return None"
   ]
  },
  {
   "cell_type": "code",
   "execution_count": 126,
   "metadata": {},
   "outputs": [
    {
     "name": "stdout",
     "output_type": "stream",
     "text": [
      "6, "
     ]
    }
   ],
   "source": [
    "# Start with the empty list\n",
    "circ_llst = CircularLinkedList()\n",
    "\n",
    "circ_llst.start(6)\n",
    "circ_llst.printList()"
   ]
  },
  {
   "cell_type": "code",
   "execution_count": 127,
   "metadata": {},
   "outputs": [
    {
     "name": "stdout",
     "output_type": "stream",
     "text": [
      "Already node(s) exist in CircularLinkedList\n",
      "6, "
     ]
    }
   ],
   "source": [
    "circ_llst.start(23)\n",
    "circ_llst.printList()"
   ]
  },
  {
   "cell_type": "code",
   "execution_count": 128,
   "metadata": {},
   "outputs": [
    {
     "name": "stdout",
     "output_type": "stream",
     "text": [
      "8, 6, "
     ]
    }
   ],
   "source": [
    "circ_llst.insertBegin(8)\n",
    "circ_llst.printList()"
   ]
  },
  {
   "cell_type": "code",
   "execution_count": 129,
   "metadata": {},
   "outputs": [
    {
     "name": "stdout",
     "output_type": "stream",
     "text": [
      "5, 8, 6, "
     ]
    }
   ],
   "source": [
    "circ_llst.insertBegin(5)\n",
    "circ_llst.printList()"
   ]
  },
  {
   "cell_type": "code",
   "execution_count": 130,
   "metadata": {},
   "outputs": [
    {
     "name": "stdout",
     "output_type": "stream",
     "text": [
      "\n",
      "found it 8\n",
      "5, 8, 6, "
     ]
    }
   ],
   "source": [
    "circ_llst.searchList(8)\n",
    "circ_llst.printList()"
   ]
  },
  {
   "cell_type": "code",
   "execution_count": 131,
   "metadata": {},
   "outputs": [
    {
     "name": "stdout",
     "output_type": "stream",
     "text": [
      "\n",
      "Not found\n",
      "5, 8, 6, "
     ]
    }
   ],
   "source": [
    "\n",
    "circ_llst.searchList(83)\n",
    "circ_llst.printList()"
   ]
  },
  {
   "cell_type": "code",
   "execution_count": 132,
   "metadata": {},
   "outputs": [
    {
     "name": "stdout",
     "output_type": "stream",
     "text": [
      "5, 8, 15, 6, "
     ]
    }
   ],
   "source": [
    "circ_llst.insertAfter(circ_llst.getNode(8), 15)\n",
    "circ_llst.printList()"
   ]
  },
  {
   "cell_type": "code",
   "execution_count": 133,
   "metadata": {},
   "outputs": [
    {
     "name": "stdout",
     "output_type": "stream",
     "text": [
      "The given previous node must in LinkedList.\n",
      "5, 8, 15, 6, "
     ]
    }
   ],
   "source": [
    "circ_llst.insertAfter(circ_llst.getNode(58), 15)\n",
    "circ_llst.printList()"
   ]
  },
  {
   "cell_type": "code",
   "execution_count": 134,
   "metadata": {},
   "outputs": [
    {
     "name": "stdout",
     "output_type": "stream",
     "text": [
      "5, 8, 15, 6, 12, "
     ]
    }
   ],
   "source": [
    "circ_llst.append(12)\n",
    "circ_llst.printList()"
   ]
  },
  {
   "cell_type": "code",
   "execution_count": 135,
   "metadata": {},
   "outputs": [
    {
     "name": "stdout",
     "output_type": "stream",
     "text": [
      "5, 8, 15, 6, 12, 32, "
     ]
    }
   ],
   "source": [
    "circ_llst.append(32)\n",
    "circ_llst.printList()"
   ]
  },
  {
   "cell_type": "code",
   "execution_count": 136,
   "metadata": {},
   "outputs": [
    {
     "name": "stdout",
     "output_type": "stream",
     "text": [
      "8, 15, 6, 12, 32, "
     ]
    }
   ],
   "source": [
    "circ_llst.delete((circ_llst.getNode(5)))\n",
    "circ_llst.printList()"
   ]
  },
  {
   "cell_type": "code",
   "execution_count": 137,
   "metadata": {},
   "outputs": [
    {
     "name": "stdout",
     "output_type": "stream",
     "text": [
      "8, 15, 12, 32, "
     ]
    }
   ],
   "source": [
    "circ_llst.delete((circ_llst.getNode(6)))\n",
    "circ_llst.printList()"
   ]
  },
  {
   "cell_type": "code",
   "execution_count": 138,
   "metadata": {},
   "outputs": [
    {
     "name": "stdout",
     "output_type": "stream",
     "text": [
      "8, 15, 12, "
     ]
    }
   ],
   "source": [
    "circ_llst.delete((circ_llst.getNode(32)))\n",
    "circ_llst.printList()"
   ]
  },
  {
   "cell_type": "code",
   "execution_count": 139,
   "metadata": {},
   "outputs": [
    {
     "name": "stdout",
     "output_type": "stream",
     "text": [
      "45, "
     ]
    }
   ],
   "source": [
    "# Start with the empty list\n",
    "circ_llst1 = CircularLinkedList()\n",
    "\n",
    "circ_llst1.start(45)\n",
    "circ_llst1.printList()"
   ]
  },
  {
   "cell_type": "code",
   "execution_count": 140,
   "metadata": {},
   "outputs": [],
   "source": [
    "# delete the only Node present in Llist\n",
    "circ_llst1.delete((circ_llst1.getNode(45)))\n",
    "circ_llst1.printList()"
   ]
  }
 ],
 "metadata": {
  "kernelspec": {
   "display_name": "Python 3.10.7 64-bit (microsoft store)",
   "language": "python",
   "name": "python3"
  },
  "language_info": {
   "codemirror_mode": {
    "name": "ipython",
    "version": 3
   },
   "file_extension": ".py",
   "mimetype": "text/x-python",
   "name": "python",
   "nbconvert_exporter": "python",
   "pygments_lexer": "ipython3",
   "version": "3.10.7"
  },
  "orig_nbformat": 4,
  "vscode": {
   "interpreter": {
    "hash": "56c75f29142a155f6652e874ec45c902254e28388c46c8d1387095a8469d2450"
   }
  }
 },
 "nbformat": 4,
 "nbformat_minor": 2
}
