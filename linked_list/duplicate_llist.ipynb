{
 "cells": [
  {
   "cell_type": "markdown",
   "metadata": {},
   "source": [
    "Remove Duplicates from LinkedList"
   ]
  },
  {
   "cell_type": "code",
   "execution_count": 8,
   "metadata": {},
   "outputs": [],
   "source": [
    "# Node class\n",
    "class Node:\n",
    "    def __init__(self, data):\n",
    "        # Assign data\n",
    "        self.data = data\n",
    "        # Initialize next as null\n",
    "        self.next = None"
   ]
  },
  {
   "cell_type": "code",
   "execution_count": 9,
   "metadata": {},
   "outputs": [],
   "source": [
    "# Linkedlist class contains a Node object\n",
    "class LinkedList:\n",
    "    \n",
    "    # initializing the head\n",
    "    def __init__(self):\n",
    "        self.head = None\n",
    "    \n",
    "    # function to insert a New node at the beginning\n",
    "    def push(self, new_data):\n",
    "        # 1: Allocate the Node \n",
    "        # 2: Put in the data\n",
    "        new_node = Node(new_data)\n",
    "\n",
    "        # 3. Make next of new Node as head its Null by start\n",
    "        new_node.next = self.head\n",
    "\n",
    "        # 4. Move the head to point to new Node\n",
    "        self.head = new_node\n",
    "\n",
    "\n",
    "    # This function is in LinkedList class. Inserts a\n",
    "    # new node after the given prev_node. This method is\n",
    "    # defined inside LinkedList class shown above */\n",
    "    def insertAfter(self, prev_node, new_data):\n",
    "        # 1. check if the given prev_node exists\n",
    "        if prev_node is None:\n",
    "            print(\"The given previous node must in LinkedList.\")\n",
    "            return\n",
    "\n",
    "        #  2. create new node &\n",
    "        # Put in the data\n",
    "        new_node = Node(new_data)\n",
    "\n",
    "        # 4. Make next of new Node as next of prev_node\n",
    "        new_node.next = prev_node.next\n",
    "\n",
    "        # 5. make next of prev_node as new_node\n",
    "        prev_node.next = new_node\n",
    "\n",
    "    \n",
    "    # This function is defined in Linked List class\n",
    "    # Appends a new node at the end.  This method is\n",
    "    # defined inside LinkedList class shown above */\n",
    "    def append(self, new_data):\n",
    "        # 1. Create a new node\n",
    "        # 2. Put in the data\n",
    "        # 3. Set next as None\n",
    "        new_node = Node(new_data)\n",
    "\n",
    "        # 4. If the Linked List is empty, then make the new node as head\n",
    "        if self.head == None:\n",
    "            self.head = new_node\n",
    "            return\n",
    "        \n",
    "        # 5. Else traverse till the last node\n",
    "        # head will have starting node location hence loaded first\n",
    "        # as last node will have Null value in next\n",
    "        last = self.head\n",
    "        while last.next:\n",
    "            last = last.next\n",
    "        \n",
    "        # 6. Change the next of last node\n",
    "        last.next = new_node\n",
    "\n",
    "    def delete(self, node):\n",
    "        # delete the only Node present in Llist\n",
    "        if node == self.head and node.next == None:\n",
    "            self.head = None\n",
    "\n",
    "        # delete the 1st node of a long linked list\n",
    "        elif node == self.head and node.next != None:\n",
    "            self.head = node.next\n",
    "\n",
    "        # delete any given node including last node\n",
    "        elif node != self.head:\n",
    "            temp = self.head\n",
    "            while (temp):\n",
    "                # temp.next is next node\n",
    "                # temp is node previous to node needs to be deleted\n",
    "                if temp.next.data ==  node.data:\n",
    "                    # pointing temp to node next to deleted node\n",
    "                    temp.next = node.next\n",
    "                    break\n",
    "                temp = temp.next\n",
    "            return 'Not found, cannot Delete'\n",
    "            \n",
    "\n",
    "    # Utility function to print the linked list\n",
    "    def printList(self):\n",
    "        temp = self.head\n",
    "        while (temp):\n",
    "            # print in 1 line with space\n",
    "            print(temp.data,end=\", \")\n",
    "            temp = temp.next\n",
    "\n",
    "    # utility to check if the value exist in linked list\n",
    "    def searchList(self, value):\n",
    "        temp = self.head\n",
    "        while (temp):\n",
    "            if temp.data ==  value:\n",
    "                return 'found it', value\n",
    "            temp = temp.next\n",
    "            \n",
    "        return 'Not found'\n",
    "    \n",
    "    # get node \n",
    "    def getNode(self, value):\n",
    "        temp = self.head\n",
    "        while (temp):\n",
    "            if temp.data ==  value:\n",
    "                return temp\n",
    "            temp = temp.next\n",
    "            \n",
    "        return 'Not found'"
   ]
  },
  {
   "cell_type": "code",
   "execution_count": 10,
   "metadata": {},
   "outputs": [
    {
     "name": "stdout",
     "output_type": "stream",
     "text": [
      "1, "
     ]
    }
   ],
   "source": [
    "# Start with the empty list\n",
    "llist = LinkedList()\n",
    "\n",
    "# Insert 6.  So linked list becomes 6->None\n",
    "llist.append(1)\n",
    "llist.printList()"
   ]
  },
  {
   "cell_type": "code",
   "execution_count": 11,
   "metadata": {},
   "outputs": [
    {
     "name": "stdout",
     "output_type": "stream",
     "text": [
      "1, 2, 1, 3, 4, 3, "
     ]
    }
   ],
   "source": [
    "llist.append(2)\n",
    "llist.append(1)\n",
    "llist.append(3)\n",
    "llist.append(4)\n",
    "llist.append(3)\n",
    "llist.printList()"
   ]
  },
  {
   "cell_type": "code",
   "execution_count": 12,
   "metadata": {},
   "outputs": [],
   "source": [
    "def cleanDuplicate(llist):\n",
    "    temp = llist.head\n",
    "    \n",
    "    once = {}\n",
    "    while (temp):\n",
    "        # deleting duplicate node using next\n",
    "        if temp.next != None and temp.next.data in once:\n",
    "            temp.next = temp.next.next\n",
    "        else:\n",
    "            once[temp.data] = True\n",
    "        temp = temp.next\n",
    "    return llist\n",
    "\n",
    "x =  cleanDuplicate(llist)\n",
    "    "
   ]
  },
  {
   "cell_type": "code",
   "execution_count": 13,
   "metadata": {},
   "outputs": [
    {
     "name": "stdout",
     "output_type": "stream",
     "text": [
      "1, 2, 3, 4, "
     ]
    }
   ],
   "source": [
    "x.printList()"
   ]
  }
 ],
 "metadata": {
  "kernelspec": {
   "display_name": "Python 3.10.5 64-bit (microsoft store)",
   "language": "python",
   "name": "python3"
  },
  "language_info": {
   "codemirror_mode": {
    "name": "ipython",
    "version": 3
   },
   "file_extension": ".py",
   "mimetype": "text/x-python",
   "name": "python",
   "nbconvert_exporter": "python",
   "pygments_lexer": "ipython3",
   "version": "3.10.5"
  },
  "orig_nbformat": 4,
  "vscode": {
   "interpreter": {
    "hash": "d4f3e11e2836f35932dc1a63fc1e1ad4837c0ab0c25aa80f2018a328ee87e0d8"
   }
  }
 },
 "nbformat": 4,
 "nbformat_minor": 2
}
