{
 "cells": [
  {
   "cell_type": "code",
   "execution_count": 2,
   "metadata": {},
   "outputs": [
    {
     "data": {
      "text/plain": [
       "['12', '00', '05', 'AM']"
      ]
     },
     "execution_count": 2,
     "metadata": {},
     "output_type": "execute_result"
    }
   ],
   "source": [
    "s = '12:00:05AM'\n",
    "time_list = s.split(':')\n",
    "x = time_list[2][:2]\n",
    "y = time_list[2][2:] \n",
    "time_list.pop()\n",
    "time_list.append(x)\n",
    "time_list.append(y)\n",
    "time_list\n"
   ]
  },
  {
   "cell_type": "code",
   "execution_count": 3,
   "metadata": {},
   "outputs": [
    {
     "data": {
      "text/plain": [
       "'00:00:05'"
      ]
     },
     "execution_count": 3,
     "metadata": {},
     "output_type": "execute_result"
    }
   ],
   "source": [
    "if time_list[3] == 'AM' and time_list[0] != '12':\n",
    "    time_list.pop() \n",
    "    time_24 = ':'.join(time_list)\n",
    "\n",
    "elif time_list[3] == 'AM' and time_list[0] == '12':\n",
    "    time_list.pop() \n",
    "    time_list[0] = '00'\n",
    "    time_24 = ':'.join(time_list)\n",
    "\n",
    "elif time_list[3] == 'PM' and time_list[0] == '12':\n",
    "    time_list.pop() \n",
    "    time_24 = ':'.join(time_list)\n",
    "\n",
    "else:\n",
    "    time_list.pop() \n",
    "    time_list[0] = str(int(time_list[0]) + 12)\n",
    "    time_24 = ':'.join(time_list)\n",
    "\n",
    "time_24"
   ]
  },
  {
   "cell_type": "code",
   "execution_count": 4,
   "metadata": {},
   "outputs": [
    {
     "name": "stdout",
     "output_type": "stream",
     "text": [
      "100\n",
      "45\n",
      "-----\n",
      "45\n",
      "41\n",
      "-----\n",
      "41\n",
      "17\n",
      "-----\n",
      "17\n",
      "6\n",
      "-----\n"
     ]
    },
    {
     "data": {
      "text/plain": [
       "[0, 4]"
      ]
     },
     "execution_count": 4,
     "metadata": {},
     "output_type": "execute_result"
    }
   ],
   "source": [
    "scores = [12, 24, 10, 24, 30, 8]\n",
    "scores = [100, 45, 41, 60, 17, 41, 45, 43, 100, 40, 89, 92, 34, 6, 64, 7, 37, 81, 32, 50]\n",
    "\n",
    "min_score = scores[0]\n",
    "max_score = scores[0]\n",
    "high_break = 0\n",
    "low_break = 0\n",
    "\n",
    "for i in scores:\n",
    "    if i > max_score:\n",
    "        max_score = i\n",
    "        high_break += 1\n",
    "    \n",
    "    elif i < min_score:\n",
    "        print(min_score)\n",
    "        min_score = i\n",
    "        low_break += 1\n",
    "        print(min_score)\n",
    "        print('-----')\n",
    "\n",
    "records = [high_break, low_break]\n",
    "\n",
    "records\n",
    "\n"
   ]
  },
  {
   "cell_type": "code",
   "execution_count": 5,
   "metadata": {},
   "outputs": [
    {
     "name": "stdout",
     "output_type": "stream",
     "text": [
      "['S', 'M', 'plasticCup()']\n",
      "['C', 'V', 'mobile phone']\n",
      "['C', 'C', 'coffee machine']\n",
      "['S', 'C', 'LargeSoftwareBook']\n",
      "['C', 'M', 'white sheet of paper']\n",
      "['S', 'V', 'pictureFrame']\n",
      "['S;M;plasticCup()', 'C;V;mobile phone', 'C;C;coffee machine', 'S;C;LargeSoftwareBook', 'C;M;white sheet of paper', 'S;V;pictureFrame']\n"
     ]
    }
   ],
   "source": [
    "sample = 'S;M;plasticCup()\\nC;V;mobile phone\\nC;C;coffee machine\\nS;C;LargeSoftwareBook\\nC;M;white sheet of paper\\nS;V;pictureFrame'\n",
    "\n",
    "sample_list = sample.split('\\n')\n",
    "\n",
    "for i in sample_list:\n",
    "    camel_list = i.split(';')\n",
    "    print(camel_list)\n",
    "\n",
    "print(sample_list)\n"
   ]
  },
  {
   "cell_type": "code",
   "execution_count": 6,
   "metadata": {},
   "outputs": [
    {
     "data": {
      "text/plain": [
       "['plastic Cup',\n",
       " 'mobilePhone',\n",
       " 'CoffeeMachine',\n",
       " 'large software book',\n",
       " 'whiteSheetOfPaper()',\n",
       " 'picture frame']"
      ]
     },
     "execution_count": 6,
     "metadata": {},
     "output_type": "execute_result"
    }
   ],
   "source": [
    "import re\n",
    "\n",
    "sample = 'S;M;plasticCup()\\nC;V;mobile phone\\nC;C;coffee machine\\nS;C;LargeSoftwareBook\\nC;M;white sheet of paper\\nS;V;pictureFrame'\n",
    "\n",
    "def camelCase(sample):\n",
    "    # create list of all inputs\n",
    "    sample_list = sample.split('\\n')\n",
    "\n",
    "    output = []\n",
    "\n",
    "    # hitting each input \n",
    "    for i in sample_list:\n",
    "        camel_list = i.split(';')\n",
    "\n",
    "        # for split\n",
    "        if camel_list[0] == 'S':\n",
    "            # for method\n",
    "            if camel_list[1] == 'M':\n",
    "                camel_string = camel_list[2].split('(')\n",
    "                camel_case_split = re.findall('[a-zA-Z][^A-Z]*', camel_string[0])\n",
    "                camel_case = ' '.join(camel_case_split)\n",
    "\n",
    "            # for class & variable\n",
    "            else:\n",
    "                camel_case_split = re.findall('[a-zA-Z][^A-Z]*', camel_list[2])\n",
    "                for i in range(len(camel_case_split)):\n",
    "                    camel_case_split[i] = camel_case_split[i].lower()\n",
    "                camel_case = ' '.join(camel_case_split)\n",
    "\n",
    "\n",
    "        # for combine\n",
    "        elif camel_list[0] == 'C':\n",
    "            # for variable\n",
    "            if camel_list[1] == 'V':\n",
    "                camel_string = camel_list[2].split(' ')\n",
    "                for i in range(len(camel_string)):\n",
    "                    if i != 0:\n",
    "                        camel_string[i] = camel_string[i].capitalize()\n",
    "                camel_case = ''.join(camel_string)\n",
    "\n",
    "            # for method\n",
    "            if camel_list[1] == 'M':\n",
    "                camel_string = camel_list[2].split(' ')\n",
    "                for i in range(len(camel_string)):\n",
    "                    if i != 0:\n",
    "                        camel_string[i] = camel_string[i].capitalize()\n",
    "                camel_string.append('()')\n",
    "                camel_case = ''.join(camel_string)\n",
    "\n",
    "            # for class\n",
    "            if camel_list[1] == 'C':\n",
    "                camel_string = camel_list[2].split(' ')\n",
    "                for i in range(len(camel_string)):\n",
    "                    camel_string[i] = camel_string[i].capitalize()\n",
    "                camel_case = ''.join(camel_string)\n",
    "\n",
    "        # adding to the list\n",
    "        output.append(camel_case)\n",
    "        # print(output)\n",
    "\n",
    "    return output\n",
    "\n",
    "camelCase(sample)\n",
    "\n"
   ]
  },
  {
   "cell_type": "code",
   "execution_count": 7,
   "metadata": {},
   "outputs": [],
   "source": [
    "strings = ['aba', 'baba', 'aba', 'xzxb']\n",
    "queries = ['aba', 'xzxb', 'ab']"
   ]
  },
  {
   "cell_type": "code",
   "execution_count": 8,
   "metadata": {},
   "outputs": [
    {
     "data": {
      "text/plain": [
       "[2, 1, 0]"
      ]
     },
     "execution_count": 8,
     "metadata": {},
     "output_type": "execute_result"
    }
   ],
   "source": [
    "def matchingStrings(strings, queries):\n",
    "    # Write your code here\n",
    "    output = []\n",
    "    for i in queries:\n",
    "        count = 0\n",
    "        for j in strings:\n",
    "            if i == j:\n",
    "                count += 1\n",
    "                # print(count)\n",
    "                # print(i)\n",
    "                # print(j)\n",
    "        output.append(count)\n",
    "    return output\n",
    "\n",
    "\n",
    "matchingStrings(strings, queries)\n"
   ]
  },
  {
   "cell_type": "code",
   "execution_count": 9,
   "metadata": {},
   "outputs": [
    {
     "data": {
      "text/plain": [
       "3"
      ]
     },
     "execution_count": 9,
     "metadata": {},
     "output_type": "execute_result"
    }
   ],
   "source": [
    "arr = [0, 1, 2, 4, 6, 5, 3]\n",
    "\n",
    "def findMedian(arr):\n",
    "    # Write your code here\n",
    "    sort_arr = []\n",
    "    for i in range(len(arr)):\n",
    "        minima = min(arr)\n",
    "        sort_arr.append(minima)\n",
    "        arr.remove(minima)\n",
    "    \n",
    "    median = sort_arr[len(sort_arr) // 2]\n",
    "    \n",
    "    return median\n",
    "\n",
    "findMedian(arr)"
   ]
  },
  {
   "cell_type": "code",
   "execution_count": 10,
   "metadata": {},
   "outputs": [
    {
     "data": {
      "text/plain": [
       "4"
      ]
     },
     "execution_count": 10,
     "metadata": {},
     "output_type": "execute_result"
    }
   ],
   "source": [
    "a = [1, 2, 3, 4, 3, 2, 1]\n",
    "\n",
    "def lonelyinteger(a):\n",
    "    # Write your code here\n",
    "    unique = {}\n",
    "    for i in a:\n",
    "        if i in unique:\n",
    "            unique[i] = False\n",
    "        else:\n",
    "            unique[i] = True\n",
    "    \n",
    "    for i in unique:\n",
    "        if unique[i] == True:\n",
    "            return i\n",
    "\n",
    "\n",
    "\n",
    "lonelyinteger(a)"
   ]
  },
  {
   "cell_type": "code",
   "execution_count": 11,
   "metadata": {},
   "outputs": [
    {
     "data": {
      "text/plain": [
       "[4, 85, 29, 45, 65, 75, 52, 40, 21]"
      ]
     },
     "execution_count": 11,
     "metadata": {},
     "output_type": "execute_result"
    }
   ],
   "source": [
    "grades = [4, 84, 29, 43, 64, 73, 52, 40, 21]\n",
    "\n",
    "\n",
    "def gradingStudents(grades):\n",
    "    # Write your code her\n",
    "    round_grade = []\n",
    "    for i in grades:\n",
    "        if i < 38:\n",
    "            round_grade.append(i)\n",
    "            \n",
    "        elif i >= 38 and (i % 5 > 2):\n",
    "            numerator = i // 5\n",
    "            \n",
    "            rounded = 5 * (numerator + 1)\n",
    "            round_grade.append(rounded)\n",
    "        \n",
    "        elif i >= 38 and (i % 5 <= 2):\n",
    "            round_grade.append(i)\n",
    "        \n",
    "    return round_grade\n",
    "\n",
    "gradingStudents(grades)"
   ]
  },
  {
   "cell_type": "markdown",
   "metadata": {},
   "source": [
    "arr[0][0] + "
   ]
  },
  {
   "cell_type": "code",
   "execution_count": 12,
   "metadata": {},
   "outputs": [
    {
     "data": {
      "text/plain": [
       "2"
      ]
     },
     "execution_count": 12,
     "metadata": {},
     "output_type": "execute_result"
    }
   ],
   "source": [
    "arr = [[1, 2, 3], [4, 5, 6], [9, 8, 9]]\n",
    "\n",
    "def diagonalDifference(arr):\n",
    "    # Write your code here\n",
    "    # left_to_right = arr[0][0] + arr[1][1] + arr[2][2]\n",
    "    # right_to_left = arr[2][0] + arr[1][1] + arr[0][2]\n",
    "\n",
    "    # return abs(left_to_right - right_to_left)\n",
    "\n",
    "    left_to_right = 0\n",
    "    for i in range(len(arr)):\n",
    "        for j in range(len(arr[0])):\n",
    "            if i == j:\n",
    "                left_to_right += arr[i][j]\n",
    "\n",
    "    right_to_left = 0\n",
    "    for i in range(len(arr)):\n",
    "        for j in range(len(arr[0])):\n",
    "            if (i + j) == (len(arr[0]) - 1):\n",
    "                right_to_left += arr[i][j]\n",
    "    return abs(left_to_right - right_to_left)\n",
    "\n",
    "diagonalDifference(arr)"
   ]
  },
  {
   "cell_type": "code",
   "execution_count": 13,
   "metadata": {},
   "outputs": [
    {
     "data": {
      "text/plain": [
       "[0,\n",
       " 2,\n",
       " 0,\n",
       " 2,\n",
       " 0,\n",
       " 0,\n",
       " 1,\n",
       " 0,\n",
       " 1,\n",
       " 2,\n",
       " 1,\n",
       " 0,\n",
       " 1,\n",
       " 1,\n",
       " 0,\n",
       " 0,\n",
       " 2,\n",
       " 0,\n",
       " 1,\n",
       " 0,\n",
       " 1,\n",
       " 2,\n",
       " 1,\n",
       " 1,\n",
       " 1,\n",
       " 3,\n",
       " 0,\n",
       " 2,\n",
       " 0,\n",
       " 0,\n",
       " 2,\n",
       " 0,\n",
       " 3,\n",
       " 3,\n",
       " 1,\n",
       " 0,\n",
       " 0,\n",
       " 0,\n",
       " 0,\n",
       " 2,\n",
       " 2,\n",
       " 1,\n",
       " 1,\n",
       " 1,\n",
       " 2,\n",
       " 0,\n",
       " 2,\n",
       " 0,\n",
       " 1,\n",
       " 0,\n",
       " 1,\n",
       " 0,\n",
       " 0,\n",
       " 1,\n",
       " 0,\n",
       " 0,\n",
       " 2,\n",
       " 1,\n",
       " 0,\n",
       " 1,\n",
       " 1,\n",
       " 1,\n",
       " 0,\n",
       " 1,\n",
       " 0,\n",
       " 1,\n",
       " 0,\n",
       " 2,\n",
       " 1,\n",
       " 3,\n",
       " 2,\n",
       " 0,\n",
       " 0,\n",
       " 2,\n",
       " 1,\n",
       " 2,\n",
       " 1,\n",
       " 0,\n",
       " 2,\n",
       " 2,\n",
       " 1,\n",
       " 2,\n",
       " 1,\n",
       " 2,\n",
       " 1,\n",
       " 1,\n",
       " 2,\n",
       " 2,\n",
       " 0,\n",
       " 3,\n",
       " 2,\n",
       " 1,\n",
       " 1,\n",
       " 0,\n",
       " 1,\n",
       " 1,\n",
       " 1,\n",
       " 0,\n",
       " 2,\n",
       " 2]"
      ]
     },
     "execution_count": 13,
     "metadata": {},
     "output_type": "execute_result"
    }
   ],
   "source": [
    "arr = ['63', '25', '73', '1', '98', '73', '56', '84', '86', '57', '16', '83', '8', '25', '81', '56', '9', '53', '98', '67', '99', '12', '83', '89', '80', '91', '39', '86', '76', '85', '74', '39', '25', '90', '59', '10', '94', '32', '44', '3', '89', '30', '27', '79', '46', '96', '27', '32', '18', '21', '92', '69', '81', '40', '40', '34', '68', '78', '24', '87', '42', '69', '23', '41', '78', '22', '6', '90', '99', '89', '50', '30', '20', '1', '43', '3', '70', '95', '33', '46', '44', '9', '69', '48', '33', '60', '65', '16', '82', '67', '61', '32', '21', '79', '75', '75', '13', '87', '70', '33'] \n",
    "\n",
    "\n",
    "def countingSort(arr):\n",
    "    # Write your code here\n",
    "    sort_dict = {}\n",
    "    for i in range(100):\n",
    "        sort_dict[i] = 0\n",
    "\n",
    "    for i in arr:\n",
    "        if int(i) in sort_dict:\n",
    "            # print(i)\n",
    "            sort_dict[int(i)] += 1\n",
    "\n",
    "    count = []\n",
    "    for key in sort_dict:\n",
    "        count.append(sort_dict[key])\n",
    "    \n",
    "    return count\n",
    "\n",
    "countingSort(arr)"
   ]
  },
  {
   "cell_type": "code",
   "execution_count": 14,
   "metadata": {},
   "outputs": [
    {
     "data": {
      "text/plain": [
       "1"
      ]
     },
     "execution_count": 14,
     "metadata": {},
     "output_type": "execute_result"
    }
   ],
   "source": [
    "path ='UDDDUDUU'\n",
    "# [1, -1, -1, -1, 1, -1, 1, 1]\n",
    "steps = 8\n",
    "\n",
    "def countingValleys(steps, path):\n",
    "    # Write your code here\n",
    "    path_num = []\n",
    "    for i in path:\n",
    "        if i == 'U':\n",
    "            path_num.append(1)\n",
    "        else:\n",
    "            path_num.append(-1)\n",
    "\n",
    "    sum_mount = 0\n",
    "    mountain = []\n",
    "    valleys = []\n",
    "    for i in path_num:\n",
    "        sum_mount += i\n",
    "        if sum_mount == 0 and i == -1:\n",
    "            # mountain started\n",
    "            mountain.append(1) \n",
    "\n",
    "        elif sum_mount == 0 and i == 1:\n",
    "            # valley started\n",
    "            valleys.append(1)\n",
    "    \n",
    "    sums = sum(valleys)\n",
    "    \n",
    "    return sums\n",
    "\n",
    "countingValleys(steps, path)"
   ]
  },
  {
   "cell_type": "code",
   "execution_count": 15,
   "metadata": {},
   "outputs": [
    {
     "data": {
      "text/plain": [
       "'pangram'"
      ]
     },
     "execution_count": 15,
     "metadata": {},
     "output_type": "execute_result"
    }
   ],
   "source": [
    "import string\n",
    "\n",
    "s = 'Five quacking zephyrs jolt my wax bed'\n",
    "# s = 'We promptly judged antique ivory buckles for the prize'\n",
    "\n",
    "def pangrams(s):\n",
    "    # Write your code here\n",
    "    alphabet = {}\n",
    "    for i in list(string.ascii_lowercase):\n",
    "        alphabet[i] = 0\n",
    "\n",
    "    for i in s:\n",
    "        if i.lower() in alphabet:\n",
    "            alphabet[i.lower()] += 1\n",
    "    # return alphabet\n",
    "\n",
    "    for i in alphabet:\n",
    "        if alphabet[i] == 0:\n",
    "            return 'not pangram'\n",
    "        # return 'pangram'\n",
    "    \n",
    "    return 'pangram'\n",
    "\n",
    "\n",
    "\n",
    "pangrams(s)"
   ]
  },
  {
   "cell_type": "code",
   "execution_count": 16,
   "metadata": {},
   "outputs": [
    {
     "data": {
      "text/plain": [
       "3"
      ]
     },
     "execution_count": 16,
     "metadata": {},
     "output_type": "execute_result"
    }
   ],
   "source": [
    "s = 'SOSSPSSQSSOR'\n",
    "\n",
    "def marsExploration(s):\n",
    "    # Write your code here\n",
    "    orginal = 'SOS'\n",
    "    message_len = len(s)\n",
    "    actual_string = int(message_len / 3) * orginal\n",
    "\n",
    "    count = 0\n",
    "\n",
    "    for i in range(len(actual_string)):\n",
    "        if actual_string[i] != s[i]:\n",
    "            count += 1\n",
    "\n",
    "    return count\n",
    "\n",
    "marsExploration(s)"
   ]
  },
  {
   "cell_type": "code",
   "execution_count": 17,
   "metadata": {},
   "outputs": [
    {
     "name": "stdout",
     "output_type": "stream",
     "text": [
      "[(1, 2, 3), (1, 2, 4), (1, 2, 5), (1, 3, 4), (1, 3, 5), (1, 4, 5), (2, 3, 4), (2, 3, 5), (2, 4, 5), (3, 4, 5)] "
     ]
    }
   ],
   "source": [
    "from itertools import combinations\n",
    "\n",
    "s = [1, 2, 3, 4, 5]\n",
    "m = 3\n",
    "combi = combinations(s, m)\n",
    "\n",
    "x = list(combi)\n",
    "\n",
    "print(x, end=' ')"
   ]
  },
  {
   "cell_type": "code",
   "execution_count": 18,
   "metadata": {},
   "outputs": [
    {
     "name": "stdout",
     "output_type": "stream",
     "text": [
      "[4, 5, 4, 2]\n",
      "[5, 4, 2, 4]\n",
      "[4, 2, 4, 5]\n",
      "[2, 4, 5, 2]\n",
      "[4, 5, 2, 3]\n",
      "[5, 2, 3, 2]\n",
      "[2, 3, 2, 1]\n",
      "[3, 2, 1, 1]\n",
      "[2, 1, 1, 5]\n",
      "[1, 1, 5, 4]\n",
      "[1, 5, 4]\n",
      "[5, 4]\n",
      "[4]\n"
     ]
    },
    {
     "data": {
      "text/plain": [
       "3"
      ]
     },
     "execution_count": 18,
     "metadata": {},
     "output_type": "execute_result"
    }
   ],
   "source": [
    "s = [4, 5, 4, 2, 4, 5, 2, 3, 2, 1, 1, 5, 4] \n",
    "d = 15\n",
    "m = 4\n",
    "\n",
    "from functools import reduce\n",
    "\n",
    "def add(a, b): # function to add elements in our subarray\n",
    "  return a + b\n",
    "\n",
    "def birthday(s, d, m):\n",
    "  counter = 0\n",
    "  for i in range(len(s)): # loop through array S\n",
    "    temp_list = s[i:i+m]\n",
    "    print(temp_list) # create subarray of length M\n",
    "    if reduce(add, temp_list) == d: # if elements in subarray add up to D\n",
    "      counter += 1\n",
    "  return counter\n",
    "\n",
    "birthday(s, d, m)\n",
    "\n"
   ]
  },
  {
   "cell_type": "code",
   "execution_count": 19,
   "metadata": {},
   "outputs": [
    {
     "name": "stdout",
     "output_type": "stream",
     "text": [
      "[4, 5, 4, 2, 4, 5, 2, 3, 2, 1, 1, 5, 4] "
     ]
    },
    {
     "data": {
      "text/plain": [
       "13"
      ]
     },
     "execution_count": 19,
     "metadata": {},
     "output_type": "execute_result"
    }
   ],
   "source": [
    "s = '4 5 4 2 4 5 2 3 2 1 1 5 4'\n",
    "y = s.split(' ')\n",
    "z = []\n",
    "for i in y:\n",
    "    z.append(int(i))\n",
    "print(z, end=' ')\n",
    "len(z)"
   ]
  },
  {
   "cell_type": "code",
   "execution_count": 20,
   "metadata": {},
   "outputs": [],
   "source": [
    "# def strings_xor(s, t):\n",
    "#     res = \"\"\n",
    "#     for i in range(len(s)):\n",
    "#         if s[i] == t[i]:\n",
    "#             res = '0';\n",
    "#         else:\n",
    "#             res = '1';\n",
    "\n",
    "#     return res\n",
    "\n",
    "# s = input()\n",
    "# t = input()\n",
    "# print(strings_xor(s, t))\n"
   ]
  },
  {
   "cell_type": "code",
   "execution_count": 21,
   "metadata": {},
   "outputs": [
    {
     "name": "stdout",
     "output_type": "stream",
     "text": [
      "['0', ' 1', ' 2', ' 3', ' 4', ' 5', ' 6', ' 7', ' 8', ' 9', ' 10', ' 11', ' 12', ' 13', ' 14', ' 15', ' 16', ' 17', ' 18', ' 19', ' 20', ' 21', ' 22', ' 23', ' 24', ' 25', '26', ' 27', ' 28', ' 29', ' 30', ' 31', ' 32', ' 33', ' 34', ' 35', ' 36', ' 37', ' 38', ' 39', ' 40', ' 41', ' 42', ' 43', ' 44', ' 45', ' 46', ' 47', ' 48', ' 49', ' 50', ' 51', ' 52', ' 53', ' 54', ' 55', ' 56', ' 57', ' 58', ' 59', ' 60', ' 61', ' 62', ' 63', ' 64', ' 65', ' 66', ' 67', ' 68', ' 69', ' 70', ' 71', ' 72', ' 73', ' 74', ' 75', ' 76', ' 77', ' 78', ' 79', ' 80', ' 81', ' 82', ' 83', ' 84', ' 85', ' 86', ' 87', ' 88', ' 89', ' 90', ' 91', ' 92', ' 93', ' 94', ' 95', ' 96', ' 97', ' 98', ' 99']"
     ]
    }
   ],
   "source": [
    "x = '0, 1, 2, 3, 4, 5, 6, 7, 8, 9, 10, 11, 12, 13, 14, 15, 16, 17, 18, 19, 20, 21, 22, 23, 24, 25,26, 27, 28, 29, 30, 31, 32, 33, 34, 35, 36, 37, 38, 39, 40, 41, 42, 43, 44, 45, 46, 47, 48, 49, 50, 51, 52, 53, 54, 55, 56, 57, 58, 59, 60, 61, 62, 63, 64, 65, 66, 67, 68, 69, 70, 71, 72, 73, 74, 75, 76, 77, 78, 79, 80, 81, 82, 83, 84, 85, 86, 87, 88, 89, 90, 91, 92, 93, 94, 95, 96, 97, 98, 99'\n",
    "\n",
    "y = x.split(',')\n",
    "print(y, end='')\n"
   ]
  },
  {
   "cell_type": "code",
   "execution_count": 22,
   "metadata": {},
   "outputs": [
    {
     "data": {
      "text/plain": [
       "'0  1  2  3  4  5  6  7  8  9  10  11  12  13  14  15  16  17  18  19  20  21  22  23  24  25 26  27  28  29  30  31  32  33  34  35  36  37  38  39  40  41  42  43  44  45  46  47  48  49  50  51  52  53  54  55  56  57  58  59  60  61  62  63  64  65  66  67  68  69  70  71  72  73  74  75  76  77  78  79  80  81  82  83  84  85  86  87  88  89  90  91  92  93  94  95  96  97  98  99'"
      ]
     },
     "execution_count": 22,
     "metadata": {},
     "output_type": "execute_result"
    }
   ],
   "source": [
    "z = ' '.join(y)\n",
    "z"
   ]
  },
  {
   "cell_type": "code",
   "execution_count": 23,
   "metadata": {},
   "outputs": [
    {
     "name": "stdout",
     "output_type": "stream",
     "text": [
      "['0', '1', '2', '3', '4', '5', '6', '7', '8', '9', '10', '11', '12', '13', '14', '15', '16', '17', '18', '19', '20', '21', '22', '23', '24', '25', '26', '27', '28', '29', '30', '31', '32', '33', '34', '35', '36', '37', '38', '39', '40', '41', '42', '43', '44', '45', '46', '47', '48', '49', '50', '51', '52', '53', '54', '55', '56', '57', '58', '59', '60', '61', '62', '63', '64', '65', '66', '67', '68', '69', '70', '71', '72', '73', '74', '75', '76', '77', '78', '79', '80', '81', '82', '83', '84', '85', '86', '87', '88', '89', '90', '91', '92', '93', '94', '95', '96', '97', '98', '99']"
     ]
    }
   ],
   "source": [
    "a = '0  1  2  3  4  5  6  7  8  9  10  11  12  13  14  15  16  17  18  19  20  21  22  23  24  25  26  27  28  29  30  31  32  33  34  35  36  37  38  39  40  41  42  43  44  45  46  47  48  49  50  51  52  53  54  55  56  57  58  59  60  61  62  63  64  65  66  67  68  69  70  71  72  73  74  75  76  77  78  79  80  81  82  83  84  85  86  87  88  89  90  91  92  93  94  95  96  97  98  99'\n",
    "\n",
    "b = a.split('  ')\n",
    "print(b, end='')"
   ]
  },
  {
   "cell_type": "code",
   "execution_count": 24,
   "metadata": {},
   "outputs": [
    {
     "name": "stdout",
     "output_type": "stream",
     "text": [
      "[0, 1, 2, 3, 4, 5, 6, 7, 8, 9, 10, 11, 12, 13, 14, 15, 16, 17, 18, 19, 20, 21, 22, 23, 24, 25, 26, 27, 28, 29, 30, 31, 32, 33, 34, 35, 36, 37, 38, 39, 40, 41, 42, 43, 44, 45, 46, 47, 48, 49, 50, 51, 52, 53, 54, 55, 56, 57, 58, 59, 60, 61, 62, 63, 64, 65, 66, 67, 68, 69, 70, 71, 72, 73, 74, 75, 76, 77, 78, 79, 80, 81, 82, 83, 84, 85, 86, 87, 88, 89, 90, 91, 92, 93, 94, 95, 96, 97, 98, 99]"
     ]
    }
   ],
   "source": [
    "d = []\n",
    "for i in b:\n",
    "    d.append(int(i))\n",
    "\n",
    "print(d, end='')\n"
   ]
  },
  {
   "cell_type": "markdown",
   "metadata": {},
   "source": [
    "Sales by Match"
   ]
  },
  {
   "cell_type": "code",
   "execution_count": 25,
   "metadata": {},
   "outputs": [
    {
     "data": {
      "text/plain": [
       "3"
      ]
     },
     "execution_count": 25,
     "metadata": {},
     "output_type": "execute_result"
    }
   ],
   "source": [
    "ar = [10, 20, 20, 10, 10, 30, 50, 10, 20]\n",
    "n = 9\n",
    "\n",
    "def sockMerchant(n, ar):\n",
    "    socks = {}\n",
    "    for i in range(len(ar)):\n",
    "        if ar[i] in socks:\n",
    "            socks[ar[i]] += 1\n",
    "        elif ar[i] not in socks:\n",
    "            socks[ar[i]] = 1\n",
    "\n",
    "    for key in socks:\n",
    "        socks[key] = socks[key] // 2\n",
    "    \n",
    "    values = socks. values()\n",
    "    return sum(values)\n",
    "\n",
    "sockMerchant(n, ar)"
   ]
  },
  {
   "cell_type": "markdown",
   "metadata": {},
   "source": [
    "Zigzag sequence"
   ]
  },
  {
   "cell_type": "code",
   "execution_count": 26,
   "metadata": {},
   "outputs": [
    {
     "name": "stdout",
     "output_type": "stream",
     "text": [
      "1 2 3 4 5 6 13 12 11 10 9 8 7\n"
     ]
    }
   ],
   "source": [
    "def findZigZagSequence(a, n):\n",
    "    a.sort()\n",
    "    mid = int((n + 1)/2) -1\n",
    "    a[mid], a[n-1] = a[n-1], a[mid]\n",
    "\n",
    "    st = mid + 1\n",
    "    ed = n - 2\n",
    "    while(st <= ed):\n",
    "        a[st], a[ed] = a[ed], a[st]\n",
    "        st = st + 1\n",
    "        ed = ed - 1\n",
    "\n",
    "    for i in range (n):\n",
    "        if i == n-1:\n",
    "            print(int(a[i]))\n",
    "        else:\n",
    "            print(int(a[i]), end = ' ')\n",
    "    return\n",
    "\n",
    "\n",
    "a = [1, 2, 3, 4, 5, 6, 7, 8, 9, 10, 11, 12, 13]\n",
    "n = 13\n",
    "\n",
    "findZigZagSequence(a, n)"
   ]
  },
  {
   "cell_type": "markdown",
   "metadata": {},
   "source": [
    "Migratory Birds"
   ]
  },
  {
   "cell_type": "code",
   "execution_count": 27,
   "metadata": {},
   "outputs": [
    {
     "data": {
      "text/plain": [
       "1"
      ]
     },
     "execution_count": 27,
     "metadata": {},
     "output_type": "execute_result"
    }
   ],
   "source": [
    "def migratoryBirds(arr):\n",
    "    # Write your code here\n",
    "    birds = {}\n",
    "    for i in arr:\n",
    "        if i not in birds:\n",
    "            birds[i] = 1\n",
    "        else:\n",
    "            birds[i] += 1\n",
    "\n",
    "    keya = max(birds.values())\n",
    "\n",
    "    max_watch = []\n",
    "    \n",
    "    for i in birds:\n",
    "        if keya == birds[i]:\n",
    "            max_watch.append(i)\n",
    "\n",
    "    return min(max_watch)\n",
    "\n",
    "\n",
    "arr = [1, 1, 2, 2, 3]\n",
    "migratoryBirds(arr)"
   ]
  },
  {
   "cell_type": "markdown",
   "metadata": {},
   "source": [
    "Drawing book : min page turns"
   ]
  },
  {
   "cell_type": "code",
   "execution_count": 28,
   "metadata": {},
   "outputs": [
    {
     "data": {
      "text/plain": [
       "1"
      ]
     },
     "execution_count": 28,
     "metadata": {},
     "output_type": "execute_result"
    }
   ],
   "source": [
    "def pageCount(n, p):\n",
    "    # Write your code here\n",
    "    # if n is even it will end on left side\n",
    "    # else on right side\n",
    "\n",
    "    # Calculate turns from starting using AP series\n",
    "    if p % 2 == 0:\n",
    "        # getting next even page num\n",
    "        p = p + 1\n",
    "    \n",
    "    # ap series \n",
    "    # p = 1 + (turns - 1) * 2\n",
    "\n",
    "    turns_start = (p - 1) / 2 \n",
    "\n",
    "    if n % 2 == 0:\n",
    "        # getting next even page num\n",
    "        n = n + 1\n",
    "    # calc total turns of the books\n",
    "    total_turns = (n - 1) / 2 \n",
    "\n",
    "    turns_from_back_needed = total_turns - turns_start\n",
    "\n",
    "    if turns_start <= turns_from_back_needed:\n",
    "        return int(turns_start)\n",
    "\n",
    "    else:\n",
    "        return int(turns_from_back_needed)\n",
    "\n",
    "    # return int(turns_start), int(turns_from_back_needed), int(total_turns)\n",
    "\n",
    "n = 6\n",
    "p = 4\n",
    "pageCount(n, p)"
   ]
  },
  {
   "cell_type": "markdown",
   "metadata": {},
   "source": [
    "Check if its a triangle"
   ]
  },
  {
   "cell_type": "markdown",
   "metadata": {},
   "source": [
    "a + b > c\n",
    "\n",
    "a + c > c\n",
    "\n",
    "b + c > a"
   ]
  },
  {
   "cell_type": "code",
   "execution_count": 29,
   "metadata": {},
   "outputs": [
    {
     "data": {
      "text/plain": [
       "[-1]"
      ]
     },
     "execution_count": 29,
     "metadata": {},
     "output_type": "execute_result"
    }
   ],
   "source": [
    "from itertools import combinations\n",
    "\n",
    "def maximumPerimeterTriangle(sticks):\n",
    "    # Write your code here\n",
    "    # Get all combinations of [1, 2, 3]\n",
    "    # and length 2\n",
    "    comb = combinations(sticks, 3)\n",
    "\n",
    "    triangle = []\n",
    "    perimeter = []\n",
    "\n",
    "    # Print the obtained combinations\n",
    "    for i in list(comb):\n",
    "        # check if its a triangle\n",
    "        if i[0] + i[1] > i[2] and i[1] + i[2] > i[0] and i[2] + i[0] > i[1]:\n",
    "            triangle.append(sorted(i))\n",
    "\n",
    "    for i in triangle:\n",
    "        perimeter.append(sum(i))\n",
    "\n",
    "    try:\n",
    "        highest = max(triangle)\n",
    "        return  highest\n",
    "    except:\n",
    "        return [-1]\n",
    "\n",
    "\n",
    "sticks= [1, 2, 3,]\n",
    "\n",
    "maximumPerimeterTriangle(sticks)"
   ]
  },
  {
   "cell_type": "code",
   "execution_count": 30,
   "metadata": {},
   "outputs": [
    {
     "name": "stdout",
     "output_type": "stream",
     "text": [
      "0111110110111010111101000111110111010011101110101101010100111011100110110111010110001111010011101011\n"
     ]
    }
   ],
   "source": [
    "def strings_xor(s, t):\n",
    "    res = \"\"\n",
    "    for i in range(len(s)):\n",
    "        if s[i] == t[i]:\n",
    "            res = res + '0';\n",
    "        else:\n",
    "            res = res + '1';\n",
    "\n",
    "    return res\n",
    "\n",
    "s = '1101111011000001001001010010001001111110001110100100100100001101101010101001110010000101011110111000'\n",
    "t = '1010001101111011110100010101111110101101100000001001110000110110001100011110100100001010001101010011'\n",
    "\n",
    "# s = input()\n",
    "# t = input()\n",
    "\n",
    "print(strings_xor(s, t))"
   ]
  },
  {
   "cell_type": "markdown",
   "metadata": {},
   "source": [
    "Picking Numbers\n",
    "\n",
    "subarray with difference of 1 or 0"
   ]
  },
  {
   "cell_type": "code",
   "execution_count": 31,
   "metadata": {},
   "outputs": [
    {
     "data": {
      "text/plain": [
       "3"
      ]
     },
     "execution_count": 31,
     "metadata": {},
     "output_type": "execute_result"
    }
   ],
   "source": [
    "def pickingNumbers(a):\n",
    "    # Write your code here\n",
    "    sub_arrays = []\n",
    "    for i in a:\n",
    "        x = []\n",
    "        for k in a:\n",
    "            if (i - k) == 1 or (i - k) == 0 or (i - k) == -1:\n",
    "                x.append(k)\n",
    "        if x:\n",
    "            sub_arrays.append((x))\n",
    "\n",
    "    for i in sub_arrays:\n",
    "        # print(i)\n",
    "        for j in i:\n",
    "            for k in i:\n",
    "                if (j - k) < -1 or (j - k) > 1:\n",
    "                    # print(k)\n",
    "                    i.remove(k)\n",
    "\n",
    "    max_array_len = 0\n",
    "    for i in sub_arrays:\n",
    "        if len(i) > max_array_len:\n",
    "            max_array_len = len(i)\n",
    "\n",
    "    return max_array_len\n",
    "\n",
    "\n",
    "a = [1, 1, 2, 2, 4, 4, 5, 5, 5]\n",
    "# a = [1, 2, 2, 3, 1, 2]\n",
    "a = [4, 6, 5, 3, 3, 1]\n",
    "pickingNumbers(a)"
   ]
  },
  {
   "cell_type": "markdown",
   "metadata": {},
   "source": [
    "Left rotation of an Array"
   ]
  },
  {
   "cell_type": "code",
   "execution_count": 32,
   "metadata": {},
   "outputs": [
    {
     "data": {
      "text/plain": [
       "[5, 1, 2, 3, 4]"
      ]
     },
     "execution_count": 32,
     "metadata": {},
     "output_type": "execute_result"
    }
   ],
   "source": [
    "def rotateLeft(d, arr):\n",
    "    # Write your code here\n",
    "    rotations = 0\n",
    "    while rotations != d:\n",
    "        # arr = arr[1:] + [arr[0]]\n",
    "        # rotations += 1\n",
    "        arr.append(arr[0])\n",
    "        arr.pop(0)\n",
    "        rotations += 1\n",
    "\n",
    "    return arr\n",
    "\n",
    "\n",
    "d = 4\n",
    "arr = [1, 2, 3, 4, 5]\n",
    "\n",
    "rotateLeft(d, arr)"
   ]
  },
  {
   "cell_type": "markdown",
   "metadata": {},
   "source": [
    "Seperate the numbers in increasing order from a string"
   ]
  },
  {
   "cell_type": "code",
   "execution_count": 61,
   "metadata": {},
   "outputs": [
    {
     "name": "stdout",
     "output_type": "stream",
     "text": [
      "[]\n",
      "[]\n",
      "['9', '10']\n"
     ]
    }
   ],
   "source": [
    "def separateNumbers(s):\n",
    "    # Write your code here\n",
    "\n",
    "    def separateNumbers_1(s):\n",
    "        nums = []\n",
    "        if len(s) > 0:\n",
    "            # check for 1st int series\n",
    "            if int(s[0]) + 1 == int(s[1]):\n",
    "                nums.append(s[0])\n",
    "                nums.append(s[1])\n",
    "                # print(s[0])\n",
    "                # print(s[1])\n",
    "                # recursive calling\n",
    "                separateNumbers(s[2:])\n",
    "                nums = nums + separateNumbers_1(s[2:])\n",
    "\n",
    "        else:\n",
    "            return []\n",
    "        print(nums)\n",
    "        return nums\n",
    "    \n",
    "    def separateNumbers_2(s):\n",
    "        nums = []\n",
    "        if len(s) > 0:\n",
    "            if int(s[0]) + 1 == int(s[1:3]):\n",
    "                nums.append(s[0])\n",
    "                nums.append(s[1:3])\n",
    "                separateNumbers(s[3:])\n",
    "                nums = nums + separateNumbers(s[3:])\n",
    "\n",
    "\n",
    "    if len(s) == len(separateNumbers(s)):\n",
    "        print('bbubu')\n",
    "\n",
    "s = '1234'\n",
    "s = '91011'\n",
    "# s = '99100'\n",
    "separateNumbers(s)"
   ]
  }
 ],
 "metadata": {
  "kernelspec": {
   "display_name": "Python 3.10.5 64-bit (microsoft store)",
   "language": "python",
   "name": "python3"
  },
  "language_info": {
   "codemirror_mode": {
    "name": "ipython",
    "version": 3
   },
   "file_extension": ".py",
   "mimetype": "text/x-python",
   "name": "python",
   "nbconvert_exporter": "python",
   "pygments_lexer": "ipython3",
   "version": "3.10.5"
  },
  "orig_nbformat": 4,
  "vscode": {
   "interpreter": {
    "hash": "d4f3e11e2836f35932dc1a63fc1e1ad4837c0ab0c25aa80f2018a328ee87e0d8"
   }
  }
 },
 "nbformat": 4,
 "nbformat_minor": 2
}
