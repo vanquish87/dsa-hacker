{
 "cells": [
  {
   "cell_type": "markdown",
   "metadata": {},
   "source": [
    "Find Unique Stocks"
   ]
  },
  {
   "cell_type": "code",
   "execution_count": 20,
   "metadata": {},
   "outputs": [
    {
     "name": "stdout",
     "output_type": "stream",
     "text": [
      "['ADANIENT', 'ADANITRANS ', 'APLAPOLLO ', 'TRIDENT ', 'PERSISTENT ', 'LAURUSLABS ', 'TATAELXSI ', 'JSL', 'JINDALPOLY', 'NAVINFLUOR', 'MINDTREE', 'JBCHEPHARM', 'SRF ', 'GUJGASLTD ', 'KPRMILL', 'COFORGE ', 'JKCEMENT', 'ICIL', 'TATACOMM ', 'HFCL ', 'APOLLOHOSP ', 'JSWENERGY ', 'GRANULES ', 'BSOFT ', 'LINDEINDIA ', 'LTI', 'LALPATHLAB', 'REDINGTON', 'RELAXO ', 'PIIND', 'JINDALPOLY', 'SCI', 'MUTHOOTFIN ', 'REDINGTON', 'GRANULES ', 'SPLPETRO', 'ICIL', 'JBCHEPHARM', 'GUJGASLTD ', 'JSL', 'KPRMILL', 'HFCL ', 'LAURUSLABS', 'JKCEMENT', 'ALLCARGO', 'LINDEINDIA ', 'JSWENERGY ', 'BSOFT ', 'SRF ', 'NAVINFLUOR', 'LTI', 'TATACOMM ', 'COFORGE ', 'TIMKEN ', 'PIIND', 'LTTS ', 'CENTURYPLY ', 'TRIDENT ', 'PERSISTENT ', 'MINDTREE']"
     ]
    }
   ],
   "source": [
    "x = \"ADANIENT,ADANITRANS ,APLAPOLLO ,TRIDENT ,PERSISTENT ,LAURUSLABS ,TATAELXSI ,JSL,JINDALPOLY,NAVINFLUOR,MINDTREE,JBCHEPHARM,SRF ,GUJGASLTD ,KPRMILL,COFORGE ,JKCEMENT,ICIL,TATACOMM ,HFCL ,APOLLOHOSP ,JSWENERGY ,GRANULES ,BSOFT ,LINDEINDIA ,LTI,LALPATHLAB,REDINGTON,RELAXO ,PIIND,JINDALPOLY,SCI,MUTHOOTFIN ,REDINGTON,GRANULES ,SPLPETRO,ICIL,JBCHEPHARM,GUJGASLTD ,JSL,KPRMILL,HFCL ,LAURUSLABS,JKCEMENT,ALLCARGO,LINDEINDIA ,JSWENERGY ,BSOFT ,SRF ,NAVINFLUOR,LTI,TATACOMM ,COFORGE ,TIMKEN ,PIIND,LTTS ,CENTURYPLY ,TRIDENT ,PERSISTENT ,MINDTREE\"\n",
    "\n",
    "scripts = x.split(',')\n",
    "print(scripts, end=\"\")"
   ]
  },
  {
   "cell_type": "code",
   "execution_count": 21,
   "metadata": {},
   "outputs": [
    {
     "name": "stdout",
     "output_type": "stream",
     "text": [
      "['ADANIENT', 'ADANITRANS', 'APLAPOLLO', 'TRIDENT', 'PERSISTENT', 'LAURUSLABS', 'TATAELXSI', 'JSL', 'JINDALPOLY', 'NAVINFLUOR', 'MINDTREE', 'JBCHEPHARM', 'SRF', 'GUJGASLTD', 'KPRMILL', 'COFORGE', 'JKCEMENT', 'ICIL', 'TATACOMM', 'HFCL', 'APOLLOHOSP', 'JSWENERGY', 'GRANULES', 'BSOFT', 'LINDEINDIA', 'LTI', 'LALPATHLAB', 'REDINGTON', 'RELAXO', 'PIIND', 'JINDALPOLY', 'SCI', 'MUTHOOTFIN', 'REDINGTON', 'GRANULES', 'SPLPETRO', 'ICIL', 'JBCHEPHARM', 'GUJGASLTD', 'JSL', 'KPRMILL', 'HFCL', 'LAURUSLABS', 'JKCEMENT', 'ALLCARGO', 'LINDEINDIA', 'JSWENERGY', 'BSOFT', 'SRF', 'NAVINFLUOR', 'LTI', 'TATACOMM', 'COFORGE', 'TIMKEN', 'PIIND', 'LTTS', 'CENTURYPLY', 'TRIDENT', 'PERSISTENT', 'MINDTREE']"
     ]
    }
   ],
   "source": [
    "stocks = []\n",
    "\n",
    "for i in scripts:\n",
    "    z = i.split(' ')\n",
    "    stocks.append(z[0])\n",
    "\n",
    "print(stocks, end=\"\")\n"
   ]
  },
  {
   "cell_type": "code",
   "execution_count": 22,
   "metadata": {},
   "outputs": [
    {
     "data": {
      "text/plain": [
       "60"
      ]
     },
     "execution_count": 22,
     "metadata": {},
     "output_type": "execute_result"
    }
   ],
   "source": [
    "len(stocks)"
   ]
  },
  {
   "cell_type": "code",
   "execution_count": 23,
   "metadata": {},
   "outputs": [
    {
     "data": {
      "text/plain": [
       "{'ADANIENT': True,\n",
       " 'ADANITRANS': True,\n",
       " 'APLAPOLLO': True,\n",
       " 'TRIDENT': True,\n",
       " 'PERSISTENT': True,\n",
       " 'LAURUSLABS': True,\n",
       " 'TATAELXSI': True,\n",
       " 'JSL': True,\n",
       " 'JINDALPOLY': True,\n",
       " 'NAVINFLUOR': True,\n",
       " 'MINDTREE': True,\n",
       " 'JBCHEPHARM': True,\n",
       " 'SRF': True,\n",
       " 'GUJGASLTD': True,\n",
       " 'KPRMILL': True,\n",
       " 'COFORGE': True,\n",
       " 'JKCEMENT': True,\n",
       " 'ICIL': True,\n",
       " 'TATACOMM': True,\n",
       " 'HFCL': True,\n",
       " 'APOLLOHOSP': True,\n",
       " 'JSWENERGY': True,\n",
       " 'GRANULES': True,\n",
       " 'BSOFT': True,\n",
       " 'LINDEINDIA': True,\n",
       " 'LTI': True,\n",
       " 'LALPATHLAB': True,\n",
       " 'REDINGTON': True,\n",
       " 'RELAXO': True,\n",
       " 'PIIND': True,\n",
       " 'SCI': True,\n",
       " 'MUTHOOTFIN': True,\n",
       " 'SPLPETRO': True,\n",
       " 'ALLCARGO': True,\n",
       " 'TIMKEN': True,\n",
       " 'LTTS': True,\n",
       " 'CENTURYPLY': True}"
      ]
     },
     "execution_count": 23,
     "metadata": {},
     "output_type": "execute_result"
    }
   ],
   "source": [
    "stock_unique = {}\n",
    "\n",
    "for i in stocks:\n",
    "    if i not in stock_unique:\n",
    "        stock_unique[i] = True\n",
    "\n",
    "stock_unique"
   ]
  },
  {
   "cell_type": "code",
   "execution_count": 24,
   "metadata": {},
   "outputs": [
    {
     "name": "stdout",
     "output_type": "stream",
     "text": [
      "['ADANIENT', 'ADANITRANS', 'APLAPOLLO', 'TRIDENT', 'PERSISTENT', 'LAURUSLABS', 'TATAELXSI', 'JSL', 'JINDALPOLY', 'NAVINFLUOR', 'MINDTREE', 'JBCHEPHARM', 'SRF', 'GUJGASLTD', 'KPRMILL', 'COFORGE', 'JKCEMENT', 'ICIL', 'TATACOMM', 'HFCL', 'APOLLOHOSP', 'JSWENERGY', 'GRANULES', 'BSOFT', 'LINDEINDIA', 'LTI', 'LALPATHLAB', 'REDINGTON', 'RELAXO', 'PIIND', 'SCI', 'MUTHOOTFIN', 'SPLPETRO', 'ALLCARGO', 'TIMKEN', 'LTTS', 'CENTURYPLY']"
     ]
    }
   ],
   "source": [
    "stocks = []\n",
    "for i in stock_unique:\n",
    "    stocks.append(i)\n",
    "\n",
    "print(stocks, end=\"\")"
   ]
  },
  {
   "cell_type": "code",
   "execution_count": 25,
   "metadata": {},
   "outputs": [
    {
     "data": {
      "text/plain": [
       "37"
      ]
     },
     "execution_count": 25,
     "metadata": {},
     "output_type": "execute_result"
    }
   ],
   "source": [
    "len(stocks)"
   ]
  },
  {
   "cell_type": "markdown",
   "metadata": {},
   "source": [
    "Strong Password"
   ]
  },
  {
   "cell_type": "code",
   "execution_count": 26,
   "metadata": {},
   "outputs": [],
   "source": [
    "def minimumNumber(n, password):\n",
    "    # Return the minimum number of characters to make the password strong\n",
    "    numbers = \"0123456789\"\n",
    "    lower_case = \"abcdefghijklmnopqrstuvwxyz\"\n",
    "    upper_case = \"ABCDEFGHIJKLMNOPQRSTUVWXYZ\"\n",
    "    special_characters = \"!@#$%^&*()-+\"\n",
    "\n",
    "    numbers_used = False\n",
    "    lower_case_used = False\n",
    "    upper_case_used = False\n",
    "    special_characters_used = False\n",
    "\n",
    "    char_needed = 0\n",
    "    \n",
    "    for i in password:\n",
    "        if i in numbers:\n",
    "            numbers_used = True\n",
    "        if i in lower_case:\n",
    "            lower_case_used = True\n",
    "        if i in upper_case:\n",
    "            upper_case_used = True\n",
    "        if i in special_characters:\n",
    "            special_characters_used = True\n",
    "    \n",
    "    if numbers_used == False:\n",
    "        char_needed += 1\n",
    "    \n",
    "    if lower_case_used == False:\n",
    "        char_needed += 1\n",
    "        \n",
    "    if upper_case_used == False:\n",
    "        char_needed += 1\n",
    "        \n",
    "    if special_characters_used == False:\n",
    "        char_needed += 1\n",
    "\n",
    "    if n + char_needed < 6:\n",
    "        char_needed += 6 - (n + char_needed)\n",
    "        \n",
    "        \n",
    "    return char_needed"
   ]
  },
  {
   "cell_type": "code",
   "execution_count": 27,
   "metadata": {},
   "outputs": [
    {
     "data": {
      "text/plain": [
       "1"
      ]
     },
     "execution_count": 27,
     "metadata": {},
     "output_type": "execute_result"
    }
   ],
   "source": [
    "password = '2bbbb'\n",
    "password = '2bb#A'\n",
    "n = len(password)\n",
    "\n",
    "minimumNumber(n, password)"
   ]
  },
  {
   "cell_type": "code",
   "execution_count": 28,
   "metadata": {},
   "outputs": [],
   "source": [
    "x = 'JINDALPOLY, SCI, MUTHOOTFIN, REDINGTON, GRANULES, SUPPETRO, ICIL, JBCHEPHARM, GUJGASLTD, JSL, KPRMILL, HFCL, LAURUSLABS, JKCEMENT, ALLCARGO, LINDEINDIA, JSWENERGY, BSOFT, SRF, NAVINFLUOR, LTI, TATACOMM, COFORGE, TIMKEN, PIIND, LTTS, CENTURYPLY, TRIDENT, PERSISTENT, MINDTREE, ADANIENT, ADANITRANS, APLAPOLLO, TATAELXSI, APOLLOHOSP, LALPATHLAB, RELAXO, DMART, JUBLFOOD, ABBOTINDIA, VBL, BSE, TITAN, BERGEPAINT, MCX, ASIANPAINT, CRISIL, THYROCARE, SBILIFE, PFIZER, ICICIPRULI, ICICIGI, NESTLEIND, INDIGO, HDFCLIFE, TASTYBITE, ZYDUSWELL, PGHH, PAGEIND, GLAXO, DABUR, MCDOWELL-N, HINDUNILVR, AKZOINDIA, KANSAINER, UBL, GODREJCP, BRITANNIA, VENKEYS, VSTIND, EICHERMOT, SPICEJET, KRBL, ITC, NIACL, DEEPAKNTR, BALAMINES, TRIVENI, VAIBHAVGBL, AARTIDRUGS, TCIEXP, JSLHISAR, GPIL, BALRAMCHIN, KEI, KNRCON, CHAMBLFERT, LUXIND, SUPREMEIND, CAPLIPOINT, TATAMOTORS, TECHM, SUNPHARMA, CHOLAFIN'"
   ]
  },
  {
   "cell_type": "code",
   "execution_count": 29,
   "metadata": {},
   "outputs": [
    {
     "name": "stdout",
     "output_type": "stream",
     "text": [
      "['JINDALPOLY', 'SCI', 'MUTHOOTFIN', 'REDINGTON', 'GRANULES', 'SUPPETRO', 'ICIL', 'JBCHEPHARM', 'GUJGASLTD', 'JSL', 'KPRMILL', 'HFCL', 'LAURUSLABS', 'JKCEMENT', 'ALLCARGO', 'LINDEINDIA', 'JSWENERGY', 'BSOFT', 'SRF', 'NAVINFLUOR', 'LTI', 'TATACOMM', 'COFORGE', 'TIMKEN', 'PIIND', 'LTTS', 'CENTURYPLY', 'TRIDENT', 'PERSISTENT', 'MINDTREE', 'ADANIENT', 'ADANITRANS', 'APLAPOLLO', 'TATAELXSI', 'APOLLOHOSP', 'LALPATHLAB', 'RELAXO', 'DMART', 'JUBLFOOD', 'ABBOTINDIA', 'VBL', 'BSE', 'TITAN', 'BERGEPAINT', 'MCX', 'ASIANPAINT', 'CRISIL', 'THYROCARE', 'SBILIFE', 'PFIZER', 'ICICIPRULI', 'ICICIGI', 'NESTLEIND', 'INDIGO', 'HDFCLIFE', 'TASTYBITE', 'ZYDUSWELL', 'PGHH', 'PAGEIND', 'GLAXO', 'DABUR', 'MCDOWELL-N', 'HINDUNILVR', 'AKZOINDIA', 'KANSAINER', 'UBL', 'GODREJCP', 'BRITANNIA', 'VENKEYS', 'VSTIND', 'EICHERMOT', 'SPICEJET', 'KRBL', 'ITC', 'NIACL', 'DEEPAKNTR', 'BALAMINES', 'TRIVENI', 'VAIBHAVGBL', 'AARTIDRUGS', 'TCIEXP', 'JSLHISAR', 'GPIL', 'BALRAMCHIN', 'KEI', 'KNRCON', 'CHAMBLFERT', 'LUXIND', 'SUPREMEIND', 'CAPLIPOINT', 'TATAMOTORS', 'TECHM', 'SUNPHARMA', 'CHOLAFIN']"
     ]
    }
   ],
   "source": [
    "y = x.split(', ')\n",
    "print(y, end=\"\")"
   ]
  }
 ],
 "metadata": {
  "kernelspec": {
   "display_name": "Python 3.10.5 64-bit (microsoft store)",
   "language": "python",
   "name": "python3"
  },
  "language_info": {
   "codemirror_mode": {
    "name": "ipython",
    "version": 3
   },
   "file_extension": ".py",
   "mimetype": "text/x-python",
   "name": "python",
   "nbconvert_exporter": "python",
   "pygments_lexer": "ipython3",
   "version": "3.10.5"
  },
  "orig_nbformat": 4,
  "vscode": {
   "interpreter": {
    "hash": "d4f3e11e2836f35932dc1a63fc1e1ad4837c0ab0c25aa80f2018a328ee87e0d8"
   }
  }
 },
 "nbformat": 4,
 "nbformat_minor": 2
}
