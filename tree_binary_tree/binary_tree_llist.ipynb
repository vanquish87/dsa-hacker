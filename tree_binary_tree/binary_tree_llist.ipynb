{
 "cells": [
  {
   "cell_type": "markdown",
   "metadata": {},
   "source": [
    "Binary tree using Linked List"
   ]
  },
  {
   "cell_type": "code",
   "execution_count": 77,
   "metadata": {},
   "outputs": [],
   "source": [
    "class TreeNode:\n",
    "    def __init__(self, data):\n",
    "        self.data = data\n",
    "        self.leftChild = None\n",
    "        self.rightChild = None"
   ]
  },
  {
   "cell_type": "code",
   "execution_count": 78,
   "metadata": {},
   "outputs": [],
   "source": [
    "drinks = TreeNode('Drinks')\n",
    "\n",
    "drinks.leftChild = TreeNode('Hot')\n",
    "drinks.rightChild = TreeNode('Cold')"
   ]
  },
  {
   "cell_type": "code",
   "execution_count": 79,
   "metadata": {},
   "outputs": [],
   "source": [
    "drinks.leftChild.leftChild = TreeNode('Tea')\n",
    "drinks.leftChild.rightChild = TreeNode('Coffee')\n",
    "\n",
    "drinks.rightChild.leftChild = TreeNode('Coke')\n",
    "drinks.rightChild.rightChild = TreeNode('Fanta')\n"
   ]
  },
  {
   "cell_type": "markdown",
   "metadata": {},
   "source": [
    "PreOrder Traversal"
   ]
  },
  {
   "cell_type": "code",
   "execution_count": 80,
   "metadata": {},
   "outputs": [],
   "source": [
    "def preOrderTraversal(rootNode):\n",
    "    if not rootNode:\n",
    "        return\n",
    "    print(rootNode.data)\n",
    "    preOrderTraversal(rootNode.leftChild)\n",
    "    preOrderTraversal(rootNode.rightChild)"
   ]
  },
  {
   "cell_type": "code",
   "execution_count": 81,
   "metadata": {},
   "outputs": [
    {
     "name": "stdout",
     "output_type": "stream",
     "text": [
      "Drinks\n",
      "Hot\n",
      "Tea\n",
      "Coffee\n",
      "Cold\n",
      "Coke\n",
      "Fanta\n"
     ]
    }
   ],
   "source": [
    "preOrderTraversal(drinks)"
   ]
  },
  {
   "cell_type": "markdown",
   "metadata": {},
   "source": [
    "InOrder Traversal"
   ]
  },
  {
   "cell_type": "code",
   "execution_count": 82,
   "metadata": {},
   "outputs": [],
   "source": [
    "def inOrderTraversal(rootNode):\n",
    "    if not rootNode:\n",
    "        return\n",
    "    inOrderTraversal(rootNode.leftChild)\n",
    "    print(rootNode.data)\n",
    "    inOrderTraversal(rootNode.rightChild)"
   ]
  },
  {
   "cell_type": "code",
   "execution_count": 83,
   "metadata": {},
   "outputs": [
    {
     "name": "stdout",
     "output_type": "stream",
     "text": [
      "Tea\n",
      "Hot\n",
      "Coffee\n",
      "Drinks\n",
      "Coke\n",
      "Cold\n",
      "Fanta\n"
     ]
    }
   ],
   "source": [
    "inOrderTraversal(drinks)"
   ]
  },
  {
   "cell_type": "markdown",
   "metadata": {},
   "source": [
    "PostOrder Traversal"
   ]
  },
  {
   "cell_type": "code",
   "execution_count": 84,
   "metadata": {},
   "outputs": [],
   "source": [
    "def PostOrderTraversal(rootNode):\n",
    "    if not rootNode:\n",
    "        return\n",
    "    PostOrderTraversal(rootNode.leftChild)\n",
    "    PostOrderTraversal(rootNode.rightChild)\n",
    "    print(rootNode.data)"
   ]
  },
  {
   "cell_type": "code",
   "execution_count": 85,
   "metadata": {},
   "outputs": [
    {
     "name": "stdout",
     "output_type": "stream",
     "text": [
      "Tea\n",
      "Coffee\n",
      "Hot\n",
      "Coke\n",
      "Fanta\n",
      "Cold\n",
      "Drinks\n"
     ]
    }
   ],
   "source": [
    "PostOrderTraversal(drinks)"
   ]
  },
  {
   "cell_type": "markdown",
   "metadata": {},
   "source": [
    "LevelOrder Traversal"
   ]
  },
  {
   "cell_type": "markdown",
   "metadata": {},
   "source": [
    "For this we need LinkedList based Queue first"
   ]
  },
  {
   "cell_type": "code",
   "execution_count": 86,
   "metadata": {},
   "outputs": [],
   "source": [
    "class Node:\n",
    "        def __init__(self, data):\n",
    "            self.data = data\n",
    "            self.next = None\n",
    "\n",
    "\n",
    "class Linkedlist():\n",
    "    def __init__(self):\n",
    "        self.head = None\n",
    "        "
   ]
  },
  {
   "cell_type": "code",
   "execution_count": 87,
   "metadata": {},
   "outputs": [],
   "source": [
    "class Queue:\n",
    "    def __init__(self):\n",
    "        self.linkedlist = Linkedlist()\n",
    "\n",
    "     # for display purposes\n",
    "    def __str__(self):\n",
    "        temp = self.linkedlist.head\n",
    "        values = []\n",
    "            \n",
    "        while temp:\n",
    "            values.append(str(temp.data))\n",
    "            temp = temp.next\n",
    "\n",
    "        if self.linkedlist.head != None:\n",
    "            return ' '.join(values)\n",
    "        else:\n",
    "            return 'Linkedlist does not exist'\n",
    "    \n",
    "\n",
    "    # isEmpty\n",
    "    def isEmpty(self):\n",
    "        if self.linkedlist.head == None:\n",
    "            return True\n",
    "        else:\n",
    "            return False\n",
    "\n",
    "\n",
    "    # enqueue - to insert at the last position (FIFO)\n",
    "    def enqueue(self, data):\n",
    "        new_node = Node(data)\n",
    "        if self.linkedlist.head == None:\n",
    "            self.linkedlist.head = new_node\n",
    "        \n",
    "        else:\n",
    "            last = self.linkedlist.head\n",
    "\n",
    "            while last.next:\n",
    "                last = last.next\n",
    "            # Change the next of last node\n",
    "            last.next = new_node\n",
    "\n",
    "\n",
    "    # pop - to delete from first position (FIFO)\n",
    "    def dequeue(self):\n",
    "        if self.isEmpty():\n",
    "            return 'Queue is empty'\n",
    "        # only 1 node\n",
    "        elif self.linkedlist.head.next == None:\n",
    "            self.linkedlist.head = None\n",
    "        # long chain\n",
    "        elif self.linkedlist.head.next != None:\n",
    "            self.linkedlist.head = self.linkedlist.head.next\n",
    "\n",
    "\n",
    "    # peek - to give 1st node ie, first element\n",
    "    def peek(self):\n",
    "        return self.linkedlist.head.data\n",
    "\n",
    "    \n",
    "    def delete(self):\n",
    "        self.linkedlist.head = None\n",
    "        return 'Queue is deleted'"
   ]
  },
  {
   "cell_type": "code",
   "execution_count": 88,
   "metadata": {},
   "outputs": [],
   "source": [
    "def levelOrderTraversal(rootNode):\n",
    "    if not rootNode:\n",
    "        return\n",
    "    else:\n",
    "        customQueue = Queue()\n",
    "        customQueue.enqueue(rootNode)\n",
    "\n",
    "        while customQueue.isEmpty() == False:\n",
    "            print(customQueue.peek().data)\n",
    "            # customQueue.peek() is actually a TreeNode object ie rootNode\n",
    "            if customQueue.peek().leftChild is not None:\n",
    "                customQueue.enqueue(customQueue.peek().leftChild)\n",
    "\n",
    "            if customQueue.peek().rightChild is not None:\n",
    "                customQueue.enqueue(customQueue.peek().rightChild)\n",
    "            \n",
    "            customQueue.dequeue()\n",
    "            "
   ]
  },
  {
   "cell_type": "code",
   "execution_count": 89,
   "metadata": {},
   "outputs": [
    {
     "name": "stdout",
     "output_type": "stream",
     "text": [
      "Drinks\n",
      "Hot\n",
      "Cold\n",
      "Tea\n",
      "Coffee\n",
      "Coke\n",
      "Fanta\n"
     ]
    }
   ],
   "source": [
    "levelOrderTraversal(drinks)"
   ]
  },
  {
   "cell_type": "code",
   "execution_count": 90,
   "metadata": {},
   "outputs": [],
   "source": [
    "def searchBT(rootNode, nodeValue):\n",
    "    if not rootNode:\n",
    "        return 'Binary Tree does not exist'\n",
    "    else:\n",
    "        customQueue = Queue()\n",
    "        customQueue.enqueue(rootNode)\n",
    "\n",
    "        while customQueue.isEmpty() == False:\n",
    "            if (customQueue.peek().data) == nodeValue:\n",
    "                return 'Yay! nodeValue is found'\n",
    "            # customQueue.peek() is actually a TreeNode object ie rootNode\n",
    "            if customQueue.peek().leftChild is not None:\n",
    "                customQueue.enqueue(customQueue.peek().leftChild)\n",
    "\n",
    "            if customQueue.peek().rightChild is not None:\n",
    "                customQueue.enqueue(customQueue.peek().rightChild)\n",
    "            \n",
    "            customQueue.dequeue()\n",
    "        \n",
    "        return 'nodeValue not found'\n",
    "            "
   ]
  },
  {
   "cell_type": "code",
   "execution_count": 91,
   "metadata": {},
   "outputs": [
    {
     "data": {
      "text/plain": [
       "'Yay! nodeValue is found'"
      ]
     },
     "execution_count": 91,
     "metadata": {},
     "output_type": "execute_result"
    }
   ],
   "source": [
    "searchBT(drinks, 'Coffee')"
   ]
  },
  {
   "cell_type": "code",
   "execution_count": 92,
   "metadata": {},
   "outputs": [],
   "source": [
    "def insertNodeBT(rootNode, newNode):\n",
    "    if not rootNode:\n",
    "        rootNode =  newNode\n",
    "    else:\n",
    "        customQueue = Queue()\n",
    "        customQueue.enqueue(rootNode)\n",
    "\n",
    "        # counter is used so that newNode is added just 1 time\n",
    "        counter = 0\n",
    "        while customQueue.isEmpty() == False:\n",
    "            # customQueue.peek() is actually a TreeNode object ie rootNode\n",
    "            if customQueue.peek().leftChild is not None:\n",
    "                customQueue.enqueue(customQueue.peek().leftChild)\n",
    "\n",
    "            elif customQueue.peek().leftChild is None and counter < 1:\n",
    "                customQueue.peek().leftChild = newNode\n",
    "                counter += 1\n",
    "                customQueue.enqueue(customQueue.peek().leftChild)\n",
    "\n",
    "            if customQueue.peek().rightChild is not None:\n",
    "                customQueue.enqueue(customQueue.peek().rightChild)\n",
    "                \n",
    "            elif customQueue.peek().rightChild is None and counter < 1:\n",
    "                customQueue.peek().rightChild = newNode\n",
    "                counter += 1\n",
    "                customQueue.enqueue(customQueue.peek().rightChild)\n",
    "\n",
    "            customQueue.dequeue()\n",
    "        "
   ]
  },
  {
   "cell_type": "code",
   "execution_count": 93,
   "metadata": {},
   "outputs": [],
   "source": [
    "green_tea = TreeNode('Green Tea')\n",
    "insertNodeBT(drinks, green_tea)"
   ]
  },
  {
   "cell_type": "code",
   "execution_count": 94,
   "metadata": {},
   "outputs": [],
   "source": [
    "hash_tea = TreeNode('Hash Tea')\n",
    "insertNodeBT(drinks, hash_tea)"
   ]
  },
  {
   "cell_type": "code",
   "execution_count": 95,
   "metadata": {},
   "outputs": [],
   "source": [
    "starbucks = TreeNode('Starbucks Coffee')\n",
    "insertNodeBT(drinks, starbucks)"
   ]
  },
  {
   "cell_type": "code",
   "execution_count": 96,
   "metadata": {},
   "outputs": [
    {
     "name": "stdout",
     "output_type": "stream",
     "text": [
      "Drinks\n",
      "Hot\n",
      "Cold\n",
      "Tea\n",
      "Coffee\n",
      "Coke\n",
      "Fanta\n",
      "Green Tea\n",
      "Hash Tea\n",
      "Starbucks Coffee\n"
     ]
    }
   ],
   "source": [
    "levelOrderTraversal(drinks)"
   ]
  },
  {
   "cell_type": "code",
   "execution_count": 97,
   "metadata": {},
   "outputs": [],
   "source": [
    "def getDeepestNode(rootNode):\n",
    "    if not rootNode:\n",
    "        return 'Binary Tree does not exist'\n",
    "    else:\n",
    "        customQueue = Queue()\n",
    "        customQueue.enqueue(rootNode)\n",
    "\n",
    "        # counter will count number of nodes \n",
    "        counter = 1\n",
    "        while customQueue.isEmpty() == False:\n",
    "            # customQueue.peek() is actually a TreeNode object ie rootNode\n",
    "            if customQueue.peek().leftChild is not None:\n",
    "                customQueue.enqueue(customQueue.peek().leftChild)\n",
    "                counter += 1\n",
    "\n",
    "            if customQueue.peek().rightChild is not None:\n",
    "                customQueue.enqueue(customQueue.peek().rightChild)\n",
    "                counter += 1\n",
    "            \n",
    "            if counter - 1 == 0:\n",
    "                return customQueue.peek()\n",
    "        \n",
    "            customQueue.dequeue()\n",
    "            counter -= 1"
   ]
  },
  {
   "cell_type": "code",
   "execution_count": 98,
   "metadata": {},
   "outputs": [
    {
     "data": {
      "text/plain": [
       "'Starbucks Coffee'"
      ]
     },
     "execution_count": 98,
     "metadata": {},
     "output_type": "execute_result"
    }
   ],
   "source": [
    "deepestNode = getDeepestNode(drinks)\n",
    "deepestNode.data"
   ]
  },
  {
   "cell_type": "code",
   "execution_count": 99,
   "metadata": {},
   "outputs": [],
   "source": [
    "def deleteDeepestNode(rootNode, deepestNode):\n",
    "    if not rootNode:\n",
    "        return 'Binary Tree does not exist'\n",
    "    else:\n",
    "        customQueue = Queue()\n",
    "        customQueue.enqueue(rootNode)\n",
    "\n",
    "        while customQueue.isEmpty() == False:\n",
    "            # this runs only if its in the binary tree.. hence will not run\n",
    "            if (customQueue.peek()) == deepestNode:\n",
    "                return 'Yay! nodeValue is found'\n",
    "            \n",
    "            # customQueue.peek() is actually a TreeNode object ie rootNode\n",
    "            if customQueue.peek().leftChild == deepestNode:\n",
    "                customQueue.peek().leftChild = None\n",
    "            elif customQueue.peek().leftChild is not None:\n",
    "                customQueue.enqueue(customQueue.peek().leftChild)\n",
    "\n",
    "            if customQueue.peek().rightChild == deepestNode:\n",
    "                customQueue.peek().rightChild = None\n",
    "            elif customQueue.peek().rightChild is not None:\n",
    "                customQueue.enqueue(customQueue.peek().rightChild)\n",
    "            \n",
    "            customQueue.dequeue()\n",
    "        \n",
    "        return 'nodeValue not found'"
   ]
  },
  {
   "cell_type": "code",
   "execution_count": 100,
   "metadata": {},
   "outputs": [],
   "source": [
    "# deleteDeepestNode(drinks, deepestNode)"
   ]
  },
  {
   "cell_type": "code",
   "execution_count": 101,
   "metadata": {},
   "outputs": [
    {
     "name": "stdout",
     "output_type": "stream",
     "text": [
      "Drinks\n",
      "Hot\n",
      "Cold\n",
      "Tea\n",
      "Coffee\n",
      "Coke\n",
      "Fanta\n",
      "Green Tea\n",
      "Hash Tea\n",
      "Starbucks Coffee\n"
     ]
    }
   ],
   "source": [
    "levelOrderTraversal(drinks)"
   ]
  },
  {
   "cell_type": "code",
   "execution_count": 102,
   "metadata": {},
   "outputs": [],
   "source": [
    "def deleteNode(rootNode, node):\n",
    "    if not rootNode:\n",
    "        return 'Binary Tree does not exist'\n",
    "    else:\n",
    "        customQueue = Queue()\n",
    "        customQueue.enqueue(rootNode)\n",
    "\n",
    "        deepestNode = getDeepestNode(drinks)\n",
    "        deleteDeepestNode(drinks, deepestNode)\n",
    "\n",
    "        while customQueue.isEmpty() == False:\n",
    "\n",
    "            # checking if it's leftChild or rightChild\n",
    "            if customQueue.peek().leftChild == node:\n",
    "                # setting it's leftChild to deepestNode.leftChild which was None to complete\n",
    "                deepestNode.leftChild = customQueue.peek().leftChild.leftChild\n",
    "\n",
    "                deepestNode.rightChild = customQueue.peek().leftChild.rightChild\n",
    "                # changing it to deepestNode ie, last node in levelOrderTraversal \n",
    "                customQueue.peek().leftChild = deepestNode\n",
    "\n",
    "            elif customQueue.peek().leftChild is not None:\n",
    "                customQueue.enqueue(customQueue.peek().leftChild)\n",
    "\n",
    "            \n",
    "            # checking if it's leftChild or rightChild\n",
    "            if customQueue.peek().rightChild == node:\n",
    "                # setting it's leftChild to deepestNode.leftChild to complete\n",
    "                deepestNode.leftChild = customQueue.peek().rightChild.leftChild\n",
    "\n",
    "                deepestNode.rightChild = customQueue.peek().rightChild.rightChild\n",
    "                # changing it to deepestNode ie, last node in levelOrderTraversal \n",
    "                customQueue.peek().rightChild = deepestNode\n",
    "                \n",
    "            elif customQueue.peek().rightChild is not None:\n",
    "                customQueue.enqueue(customQueue.peek().rightChild)\n",
    "                \n",
    "            customQueue.dequeue()\n",
    "        "
   ]
  },
  {
   "cell_type": "code",
   "execution_count": 103,
   "metadata": {},
   "outputs": [
    {
     "data": {
      "text/plain": [
       "'Coffee'"
      ]
     },
     "execution_count": 103,
     "metadata": {},
     "output_type": "execute_result"
    }
   ],
   "source": [
    "drinks.leftChild.rightChild.data"
   ]
  },
  {
   "cell_type": "code",
   "execution_count": 104,
   "metadata": {},
   "outputs": [],
   "source": [
    "deleteNode(drinks, drinks.leftChild.rightChild)"
   ]
  },
  {
   "cell_type": "code",
   "execution_count": 105,
   "metadata": {},
   "outputs": [
    {
     "name": "stdout",
     "output_type": "stream",
     "text": [
      "Drinks\n",
      "Hot\n",
      "Cold\n",
      "Tea\n",
      "Starbucks Coffee\n",
      "Coke\n",
      "Fanta\n",
      "Green Tea\n",
      "Hash Tea\n"
     ]
    }
   ],
   "source": [
    "levelOrderTraversal(drinks)"
   ]
  },
  {
   "cell_type": "code",
   "execution_count": 106,
   "metadata": {},
   "outputs": [],
   "source": [
    "def deleteBT(rootNode):\n",
    "    if not rootNode:\n",
    "        return 'Binary Tree does not exist'\n",
    "    else:\n",
    "        rootNode.data = None\n",
    "        rootNode.leftChild = None\n",
    "        rootNode.rightChild = None\n",
    "        return 'Binary Tree is deleted successfully'\n",
    "        "
   ]
  },
  {
   "cell_type": "code",
   "execution_count": 107,
   "metadata": {},
   "outputs": [
    {
     "data": {
      "text/plain": [
       "'Binary Tree is deleted successfully'"
      ]
     },
     "execution_count": 107,
     "metadata": {},
     "output_type": "execute_result"
    }
   ],
   "source": [
    "deleteBT(drinks)"
   ]
  },
  {
   "cell_type": "code",
   "execution_count": 108,
   "metadata": {},
   "outputs": [],
   "source": [
    "numsy = TreeNode(5)\n",
    "\n",
    "numsy.leftChild = TreeNode(8)\n",
    "numsy.rightChild = TreeNode(20)\n",
    "numsy.leftChild.leftChild = TreeNode(6)\n",
    "numsy.leftChild.rightChild = TreeNode(11)\n",
    "\n",
    "numsy.rightChild.leftChild = TreeNode(55)\n",
    "numsy.rightChild.rightChild = TreeNode(17)\n"
   ]
  },
  {
   "cell_type": "code",
   "execution_count": 109,
   "metadata": {},
   "outputs": [
    {
     "name": "stdout",
     "output_type": "stream",
     "text": [
      "6\n",
      "8\n",
      "11\n",
      "5\n",
      "55\n",
      "20\n",
      "17\n"
     ]
    }
   ],
   "source": [
    "inOrderTraversal(numsy)"
   ]
  },
  {
   "cell_type": "code",
   "execution_count": 110,
   "metadata": {},
   "outputs": [],
   "source": [
    "insertNodeBT(numsy, TreeNode(12))\n",
    "insertNodeBT(numsy, TreeNode(27))\n",
    "insertNodeBT(numsy, TreeNode(47))\n",
    "insertNodeBT(numsy, TreeNode(19))"
   ]
  },
  {
   "cell_type": "code",
   "execution_count": 111,
   "metadata": {},
   "outputs": [
    {
     "name": "stdout",
     "output_type": "stream",
     "text": [
      "5\n",
      "8\n",
      "20\n",
      "6\n",
      "11\n",
      "55\n",
      "17\n",
      "12\n",
      "27\n",
      "47\n",
      "19\n"
     ]
    }
   ],
   "source": [
    "levelOrderTraversal(numsy)"
   ]
  },
  {
   "cell_type": "markdown",
   "metadata": {},
   "source": [
    "Finding next highest node after given nodeValue.\n",
    "\n",
    "If nodeValue is highest in itself then return None"
   ]
  },
  {
   "cell_type": "code",
   "execution_count": 112,
   "metadata": {},
   "outputs": [],
   "source": [
    "def higherNode(rootNode, nodeValue):\n",
    "    if not rootNode:\n",
    "        return 'Binary Tree does not exist'\n",
    "    else:\n",
    "        customQueue = Queue()\n",
    "        customQueue.enqueue(rootNode)\n",
    "\n",
    "        higher = None\n",
    "\n",
    "        while customQueue.isEmpty() == False:\n",
    "            if (customQueue.peek().data) > nodeValue and higher == None:\n",
    "                higher = customQueue.peek()\n",
    "                \n",
    "            if (customQueue.peek().data) > nodeValue and higher.data > (customQueue.peek().data):\n",
    "                higher = customQueue.peek()\n",
    "\n",
    "            # customQueue.peek() is actually a TreeNode object ie rootNode\n",
    "            if customQueue.peek().leftChild is not None:\n",
    "                customQueue.enqueue(customQueue.peek().leftChild)\n",
    "\n",
    "            if customQueue.peek().rightChild is not None:\n",
    "                customQueue.enqueue(customQueue.peek().rightChild)\n",
    "            \n",
    "            customQueue.dequeue()\n",
    "        \n",
    "        return higher"
   ]
  },
  {
   "cell_type": "code",
   "execution_count": 121,
   "metadata": {},
   "outputs": [
    {
     "data": {
      "text/plain": [
       "55"
      ]
     },
     "execution_count": 121,
     "metadata": {},
     "output_type": "execute_result"
    }
   ],
   "source": [
    "higherNode(numsy, 47).data"
   ]
  }
 ],
 "metadata": {
  "kernelspec": {
   "display_name": "env",
   "language": "python",
   "name": "env"
  },
  "language_info": {
   "codemirror_mode": {
    "name": "ipython",
    "version": 3
   },
   "file_extension": ".py",
   "mimetype": "text/x-python",
   "name": "python",
   "nbconvert_exporter": "python",
   "pygments_lexer": "ipython3",
   "version": "3.10.5"
  },
  "orig_nbformat": 4,
  "vscode": {
   "interpreter": {
    "hash": "adef6d255e6958cf3304d40d1073dc68213fc5baccd97c8dfbbeada656739531"
   }
  }
 },
 "nbformat": 4,
 "nbformat_minor": 2
}
